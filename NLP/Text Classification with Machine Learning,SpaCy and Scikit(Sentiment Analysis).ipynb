{
 "cells": [
  {
   "cell_type": "markdown",
   "metadata": {},
   "source": [
    "### Text Classification with Machine Learning,SpaCy and Scikit(Sentiment Analysis)"
   ]
  },
  {
   "cell_type": "markdown",
   "metadata": {},
   "source": [
    "* Text categorization/text classification is the task of assigning predefined categories to document\n",
    "* Sentiment Analysis\n",
    "* Multilabel classification"
   ]
  },
  {
   "cell_type": "code",
   "execution_count": 1,
   "metadata": {},
   "outputs": [],
   "source": [
    "#Load EDA packages\n",
    "import pandas as pd\n"
   ]
  },
  {
   "cell_type": "code",
   "execution_count": 5,
   "metadata": {},
   "outputs": [
    {
     "name": "stderr",
     "output_type": "stream",
     "text": [
      "/home/pandit/anaconda3/lib/python3.7/site-packages/ipykernel_launcher.py:2: FutureWarning: read_table is deprecated, use read_csv instead, passing sep='\\t'.\n",
      "  \n",
      "/home/pandit/anaconda3/lib/python3.7/site-packages/ipykernel_launcher.py:3: FutureWarning: read_table is deprecated, use read_csv instead, passing sep='\\t'.\n",
      "  This is separate from the ipykernel package so we can avoid doing imports until\n",
      "/home/pandit/anaconda3/lib/python3.7/site-packages/ipykernel_launcher.py:4: FutureWarning: read_table is deprecated, use read_csv instead, passing sep='\\t'.\n",
      "  after removing the cwd from sys.path.\n"
     ]
    }
   ],
   "source": [
    "#Load our dataset\n",
    "df_yelp=pd.read_table('/home/pandit/DataScience/NLP/NLP_Projects/sentiment labelled sentences/yelp_labelled.txt')\n",
    "df_imdb=pd.read_table('/home/pandit/DataScience/NLP/NLP_Projects/sentiment labelled sentences/imdb_labelled.txt')\n",
    "df_amz=pd.read_table('/home/pandit/DataScience/NLP/NLP_Projects/sentiment labelled sentences/amazon_cells_labelled.txt')"
   ]
  },
  {
   "cell_type": "code",
   "execution_count": 6,
   "metadata": {},
   "outputs": [],
   "source": [
    "#Concatenate our Datasets\n",
    "frames=[df_yelp,df_imdb,df_amz]"
   ]
  },
  {
   "cell_type": "code",
   "execution_count": 7,
   "metadata": {},
   "outputs": [
    {
     "data": {
      "text/plain": [
       "Index(['Wow... Loved this place.', '1'], dtype='object')"
      ]
     },
     "execution_count": 7,
     "metadata": {},
     "output_type": "execute_result"
    }
   ],
   "source": [
    "df_yelp.columns"
   ]
  },
  {
   "cell_type": "code",
   "execution_count": 8,
   "metadata": {},
   "outputs": [
    {
     "name": "stdout",
     "output_type": "stream",
     "text": [
      "Index(['Wow... Loved this place.', '1'], dtype='object')\n",
      "Index(['A very, very, very slow-moving, aimless movie about a distressed, drifting young man.  ', '0'], dtype='object')\n",
      "Index(['So there is no way for me to plug it in here in the US unless I go by a converter.', '0'], dtype='object')\n"
     ]
    }
   ],
   "source": [
    "#Renaming Column Headers\n",
    "for colname in frames:\n",
    "    print(colname.columns)"
   ]
  },
  {
   "cell_type": "code",
   "execution_count": 9,
   "metadata": {},
   "outputs": [],
   "source": [
    "#Assign a Key to Make it Easier\n",
    "keys=['Yelp','IMDB','Amazon']"
   ]
  },
  {
   "cell_type": "code",
   "execution_count": 10,
   "metadata": {},
   "outputs": [
    {
     "name": "stderr",
     "output_type": "stream",
     "text": [
      "/home/pandit/anaconda3/lib/python3.7/site-packages/ipykernel_launcher.py:2: FutureWarning: Sorting because non-concatenation axis is not aligned. A future version\n",
      "of pandas will change to not sort by default.\n",
      "\n",
      "To accept the future behavior, pass 'sort=False'.\n",
      "\n",
      "To retain the current behavior and silence the warning, pass 'sort=True'.\n",
      "\n",
      "  \n"
     ]
    }
   ],
   "source": [
    "#Merge or Concat our Datasets\n",
    "df=pd.concat(frames,keys=keys)"
   ]
  },
  {
   "cell_type": "code",
   "execution_count": 11,
   "metadata": {},
   "outputs": [
    {
     "data": {
      "text/plain": [
       "(2745, 5)"
      ]
     },
     "execution_count": 11,
     "metadata": {},
     "output_type": "execute_result"
    }
   ],
   "source": [
    "df.shape"
   ]
  },
  {
   "cell_type": "code",
   "execution_count": 12,
   "metadata": {},
   "outputs": [
    {
     "data": {
      "text/html": [
       "<div>\n",
       "<style scoped>\n",
       "    .dataframe tbody tr th:only-of-type {\n",
       "        vertical-align: middle;\n",
       "    }\n",
       "\n",
       "    .dataframe tbody tr th {\n",
       "        vertical-align: top;\n",
       "    }\n",
       "\n",
       "    .dataframe thead th {\n",
       "        text-align: right;\n",
       "    }\n",
       "</style>\n",
       "<table border=\"1\" class=\"dataframe\">\n",
       "  <thead>\n",
       "    <tr style=\"text-align: right;\">\n",
       "      <th></th>\n",
       "      <th></th>\n",
       "      <th>0</th>\n",
       "      <th>1</th>\n",
       "      <th>A very, very, very slow-moving, aimless movie about a distressed, drifting young man.</th>\n",
       "      <th>So there is no way for me to plug it in here in the US unless I go by a converter.</th>\n",
       "      <th>Wow... Loved this place.</th>\n",
       "    </tr>\n",
       "  </thead>\n",
       "  <tbody>\n",
       "    <tr>\n",
       "      <th rowspan=\"5\" valign=\"top\">Yelp</th>\n",
       "      <th>0</th>\n",
       "      <td>NaN</td>\n",
       "      <td>0.0</td>\n",
       "      <td>NaN</td>\n",
       "      <td>NaN</td>\n",
       "      <td>Crust is not good.</td>\n",
       "    </tr>\n",
       "    <tr>\n",
       "      <th>1</th>\n",
       "      <td>NaN</td>\n",
       "      <td>0.0</td>\n",
       "      <td>NaN</td>\n",
       "      <td>NaN</td>\n",
       "      <td>Not tasty and the texture was just nasty.</td>\n",
       "    </tr>\n",
       "    <tr>\n",
       "      <th>2</th>\n",
       "      <td>NaN</td>\n",
       "      <td>1.0</td>\n",
       "      <td>NaN</td>\n",
       "      <td>NaN</td>\n",
       "      <td>Stopped by during the late May bank holiday of...</td>\n",
       "    </tr>\n",
       "    <tr>\n",
       "      <th>3</th>\n",
       "      <td>NaN</td>\n",
       "      <td>1.0</td>\n",
       "      <td>NaN</td>\n",
       "      <td>NaN</td>\n",
       "      <td>The selection on the menu was great and so wer...</td>\n",
       "    </tr>\n",
       "    <tr>\n",
       "      <th>4</th>\n",
       "      <td>NaN</td>\n",
       "      <td>0.0</td>\n",
       "      <td>NaN</td>\n",
       "      <td>NaN</td>\n",
       "      <td>Now I am getting angry and I want my damn pho.</td>\n",
       "    </tr>\n",
       "  </tbody>\n",
       "</table>\n",
       "</div>"
      ],
      "text/plain": [
       "         0    1  \\\n",
       "Yelp 0 NaN  0.0   \n",
       "     1 NaN  0.0   \n",
       "     2 NaN  1.0   \n",
       "     3 NaN  1.0   \n",
       "     4 NaN  0.0   \n",
       "\n",
       "       A very, very, very slow-moving, aimless movie about a distressed, drifting young man.    \\\n",
       "Yelp 0                                                NaN                                        \n",
       "     1                                                NaN                                        \n",
       "     2                                                NaN                                        \n",
       "     3                                                NaN                                        \n",
       "     4                                                NaN                                        \n",
       "\n",
       "       So there is no way for me to plug it in here in the US unless I go by a converter.  \\\n",
       "Yelp 0                                                NaN                                   \n",
       "     1                                                NaN                                   \n",
       "     2                                                NaN                                   \n",
       "     3                                                NaN                                   \n",
       "     4                                                NaN                                   \n",
       "\n",
       "                                 Wow... Loved this place.  \n",
       "Yelp 0                                 Crust is not good.  \n",
       "     1          Not tasty and the texture was just nasty.  \n",
       "     2  Stopped by during the late May bank holiday of...  \n",
       "     3  The selection on the menu was great and so wer...  \n",
       "     4     Now I am getting angry and I want my damn pho.  "
      ]
     },
     "execution_count": 12,
     "metadata": {},
     "output_type": "execute_result"
    }
   ],
   "source": [
    "df.head()"
   ]
  },
  {
   "cell_type": "code",
   "execution_count": 13,
   "metadata": {},
   "outputs": [],
   "source": [
    "df.to_csv(\"sentimentdataset1.csv\")"
   ]
  },
  {
   "cell_type": "code",
   "execution_count": 14,
   "metadata": {},
   "outputs": [
    {
     "data": {
      "text/plain": [
       "Index(['0', '1',\n",
       "       'A very, very, very slow-moving, aimless movie about a distressed, drifting young man.  ',\n",
       "       'So there is no way for me to plug it in here in the US unless I go by a converter.',\n",
       "       'Wow... Loved this place.'],\n",
       "      dtype='object')"
      ]
     },
     "execution_count": 14,
     "metadata": {},
     "output_type": "execute_result"
    }
   ],
   "source": [
    "#Data Cleaning\n",
    "df.columns"
   ]
  },
  {
   "cell_type": "code",
   "execution_count": 15,
   "metadata": {},
   "outputs": [
    {
     "data": {
      "text/plain": [
       "0                                                                                           999\n",
       "1                                                                                          1746\n",
       "A very, very, very slow-moving, aimless movie about a distressed, drifting young man.      1998\n",
       "So there is no way for me to plug it in here in the US unless I go by a converter.         1746\n",
       "Wow... Loved this place.                                                                   1746\n",
       "dtype: int64"
      ]
     },
     "execution_count": 15,
     "metadata": {},
     "output_type": "execute_result"
    }
   ],
   "source": [
    "# Checking for Missing Values\n",
    "df.isnull().sum()"
   ]
  },
  {
   "cell_type": "markdown",
   "metadata": {},
   "source": [
    "#### Working with Spacy\n",
    "* Removing Stopwords"
   ]
  },
  {
   "cell_type": "markdown",
   "metadata": {},
   "source": [
    "* Lemmmatizing"
   ]
  },
  {
   "cell_type": "code",
   "execution_count": 16,
   "metadata": {},
   "outputs": [],
   "source": [
    "import spacy\n",
    "from spacy.lang.en.stop_words import STOP_WORDS\n",
    "nlp=spacy.load('en')"
   ]
  },
  {
   "cell_type": "code",
   "execution_count": 17,
   "metadata": {},
   "outputs": [],
   "source": [
    "# Build a list of stopwords to use to filter\n",
    "stopwords=list(STOP_WORDS)"
   ]
  },
  {
   "cell_type": "code",
   "execution_count": 18,
   "metadata": {},
   "outputs": [
    {
     "data": {
      "text/plain": [
       "['either',\n",
       " 'below',\n",
       " 'top',\n",
       " 'besides',\n",
       " 'say',\n",
       " 'than',\n",
       " 'both',\n",
       " 'least',\n",
       " 'anyway',\n",
       " 'yet',\n",
       " 'everything',\n",
       " 'next',\n",
       " 'first',\n",
       " 'onto',\n",
       " 'every',\n",
       " 'into',\n",
       " 'nothing',\n",
       " 'they',\n",
       " 'those',\n",
       " 'themselves',\n",
       " 'thereby',\n",
       " 'back',\n",
       " 'per',\n",
       " 'since',\n",
       " 'really',\n",
       " 'seem',\n",
       " 'sixty',\n",
       " 'thence',\n",
       " 'any',\n",
       " 'also',\n",
       " 'the',\n",
       " 'each',\n",
       " 'just',\n",
       " 'whereafter',\n",
       " 'eight',\n",
       " 'among',\n",
       " 'them',\n",
       " 'might',\n",
       " 'but',\n",
       " 'down',\n",
       " 'whenever',\n",
       " 'anywhere',\n",
       " 'give',\n",
       " 'elsewhere',\n",
       " 'hereupon',\n",
       " 'made',\n",
       " 'for',\n",
       " 'quite',\n",
       " 'whereupon',\n",
       " 'some',\n",
       " 'ourselves',\n",
       " 'from',\n",
       " '’s',\n",
       " '’m',\n",
       " 'put',\n",
       " 'about',\n",
       " 'else',\n",
       " 'beside',\n",
       " '’ll',\n",
       " \"'s\",\n",
       " 'without',\n",
       " 'our',\n",
       " 'whither',\n",
       " 'same',\n",
       " 'hers',\n",
       " 'becoming',\n",
       " 'herself',\n",
       " 'everywhere',\n",
       " 'perhaps',\n",
       " 'whence',\n",
       " 'at',\n",
       " 'where',\n",
       " 'being',\n",
       " 'thus',\n",
       " 'another',\n",
       " 'to',\n",
       " 'across',\n",
       " 'whereby',\n",
       " \"n't\",\n",
       " 'anyone',\n",
       " 'few',\n",
       " 'forty',\n",
       " 'serious',\n",
       " 'mostly',\n",
       " 'or',\n",
       " 'became',\n",
       " 'most',\n",
       " 'as',\n",
       " 'indeed',\n",
       " 'behind',\n",
       " 'take',\n",
       " 'almost',\n",
       " 'been',\n",
       " 'two',\n",
       " 'above',\n",
       " 'by',\n",
       " 'nor',\n",
       " 'we',\n",
       " 'hereby',\n",
       " 'well',\n",
       " 'side',\n",
       " 'your',\n",
       " 'seemed',\n",
       " 'four',\n",
       " 'fifteen',\n",
       " 'via',\n",
       " '‘m',\n",
       " 'after',\n",
       " 'which',\n",
       " 'hundred',\n",
       " 'anyhow',\n",
       " 'of',\n",
       " 'wherever',\n",
       " \"'d\",\n",
       " 'becomes',\n",
       " 'here',\n",
       " 'sometimes',\n",
       " 'between',\n",
       " 'why',\n",
       " 'see',\n",
       " 'fifty',\n",
       " 'someone',\n",
       " 'five',\n",
       " 'latterly',\n",
       " 'front',\n",
       " 'through',\n",
       " 'whoever',\n",
       " 'whatever',\n",
       " 'ours',\n",
       " 'even',\n",
       " \"'m\",\n",
       " 'will',\n",
       " 'out',\n",
       " 'in',\n",
       " 'n’t',\n",
       " 'third',\n",
       " 'itself',\n",
       " '‘ve',\n",
       " 'name',\n",
       " 'that',\n",
       " 'mine',\n",
       " 'amount',\n",
       " 'no',\n",
       " 'used',\n",
       " 'using',\n",
       " '’ve',\n",
       " 'beyond',\n",
       " 'none',\n",
       " 'unless',\n",
       " 'may',\n",
       " 'get',\n",
       " 'much',\n",
       " 'go',\n",
       " '’re',\n",
       " 'under',\n",
       " 'thereupon',\n",
       " 'all',\n",
       " 'therefore',\n",
       " 'his',\n",
       " 'noone',\n",
       " 'thru',\n",
       " 'myself',\n",
       " 'make',\n",
       " 'himself',\n",
       " 'their',\n",
       " 'formerly',\n",
       " 'should',\n",
       " 'afterwards',\n",
       " '’d',\n",
       " 'rather',\n",
       " 'although',\n",
       " 'regarding',\n",
       " '‘d',\n",
       " 'do',\n",
       " 'less',\n",
       " 'so',\n",
       " 'along',\n",
       " 'part',\n",
       " 'was',\n",
       " 'former',\n",
       " 'twelve',\n",
       " 'during',\n",
       " 'he',\n",
       " 'until',\n",
       " 'somehow',\n",
       " 'is',\n",
       " 'only',\n",
       " 'others',\n",
       " 'show',\n",
       " 'nine',\n",
       " \"'ve\",\n",
       " 'however',\n",
       " 'must',\n",
       " 'how',\n",
       " 'whole',\n",
       " 'an',\n",
       " 'toward',\n",
       " 'not',\n",
       " 'such',\n",
       " '‘ll',\n",
       " 'move',\n",
       " 'due',\n",
       " 'there',\n",
       " 'whose',\n",
       " 'can',\n",
       " 'moreover',\n",
       " 'thereafter',\n",
       " 'seeming',\n",
       " 'seems',\n",
       " 'too',\n",
       " 'eleven',\n",
       " 'what',\n",
       " 'ever',\n",
       " 'therein',\n",
       " 'latter',\n",
       " 'twenty',\n",
       " 'yours',\n",
       " 'hence',\n",
       " 'throughout',\n",
       " 'over',\n",
       " 'namely',\n",
       " 'sometime',\n",
       " 'against',\n",
       " 'full',\n",
       " 'with',\n",
       " 'very',\n",
       " 'are',\n",
       " 'its',\n",
       " 'upon',\n",
       " 'one',\n",
       " 'again',\n",
       " 'ten',\n",
       " 'whom',\n",
       " 'once',\n",
       " 'enough',\n",
       " 'be',\n",
       " 'if',\n",
       " 'who',\n",
       " 'wherein',\n",
       " 're',\n",
       " 'while',\n",
       " 'a',\n",
       " 'did',\n",
       " \"'ll\",\n",
       " 'various',\n",
       " 'nobody',\n",
       " 'towards',\n",
       " 'this',\n",
       " '‘s',\n",
       " 'would',\n",
       " 'cannot',\n",
       " 'it',\n",
       " 'yourselves',\n",
       " 'around',\n",
       " 'now',\n",
       " 'i',\n",
       " 'empty',\n",
       " 'many',\n",
       " 'nevertheless',\n",
       " 'could',\n",
       " 'always',\n",
       " 'still',\n",
       " 'herein',\n",
       " 'keep',\n",
       " 'had',\n",
       " 'beforehand',\n",
       " 'you',\n",
       " 'her',\n",
       " 'call',\n",
       " 'done',\n",
       " 'she',\n",
       " 'these',\n",
       " 'often',\n",
       " 'my',\n",
       " 'then',\n",
       " 'something',\n",
       " 'hereafter',\n",
       " 'several',\n",
       " 'when',\n",
       " 'on',\n",
       " 'except',\n",
       " 'him',\n",
       " 'three',\n",
       " 'please',\n",
       " 'off',\n",
       " 'meanwhile',\n",
       " 'n‘t',\n",
       " 'more',\n",
       " 'have',\n",
       " 'doing',\n",
       " 'does',\n",
       " 'bottom',\n",
       " 'amongst',\n",
       " 'me',\n",
       " 'further',\n",
       " 'am',\n",
       " 'otherwise',\n",
       " 'has',\n",
       " 'ca',\n",
       " 'everyone',\n",
       " 'somewhere',\n",
       " 'whereas',\n",
       " 'anything',\n",
       " 'alone',\n",
       " 'nowhere',\n",
       " 'already',\n",
       " 'us',\n",
       " 'within',\n",
       " 'before',\n",
       " 'because',\n",
       " 'neither',\n",
       " 'yourself',\n",
       " 'up',\n",
       " 'though',\n",
       " 'together',\n",
       " \"'re\",\n",
       " 'become',\n",
       " 'six',\n",
       " 'last',\n",
       " 'and',\n",
       " 'other',\n",
       " 'whether',\n",
       " '‘re',\n",
       " 'own',\n",
       " 'were',\n",
       " 'never']"
      ]
     },
     "execution_count": 18,
     "metadata": {},
     "output_type": "execute_result"
    }
   ],
   "source": [
    "stopwords"
   ]
  },
  {
   "cell_type": "markdown",
   "metadata": {},
   "source": [
    "#### Getting Lemma and Stop words"
   ]
  },
  {
   "cell_type": "code",
   "execution_count": 19,
   "metadata": {},
   "outputs": [],
   "source": [
    "docx=nlp(\"This is how John walker was walking. He was also running beside lawns\")"
   ]
  },
  {
   "cell_type": "code",
   "execution_count": 20,
   "metadata": {},
   "outputs": [
    {
     "name": "stdout",
     "output_type": "stream",
     "text": [
      "This Lemma= this\n",
      "is Lemma= be\n",
      "how Lemma= how\n",
      "John Lemma= John\n",
      "walker Lemma= walker\n",
      "was Lemma= be\n",
      "walking Lemma= walk\n",
      ". Lemma= .\n",
      "He Lemma= -PRON-\n",
      "was Lemma= be\n",
      "also Lemma= also\n",
      "running Lemma= run\n",
      "beside Lemma= beside\n",
      "lawns Lemma= lawn\n"
     ]
    }
   ],
   "source": [
    "#Lemmatizing of tokens\n",
    "for word in docx:\n",
    "    print(word.text,\"Lemma=\",word.lemma_)"
   ]
  },
  {
   "cell_type": "code",
   "execution_count": 21,
   "metadata": {},
   "outputs": [
    {
     "name": "stdout",
     "output_type": "stream",
     "text": [
      "this\n",
      "be\n",
      "how\n",
      "john\n",
      "walker\n",
      "be\n",
      "walk\n",
      ".\n",
      "be\n",
      "also\n",
      "run\n",
      "beside\n",
      "lawn\n"
     ]
    }
   ],
   "source": [
    "#Lemma that are not pronouns\n",
    "for word in docx:\n",
    "    if word.lemma_ !=\"-PRON-\":\n",
    "        print(word.lemma_.lower().strip())"
   ]
  },
  {
   "cell_type": "code",
   "execution_count": 22,
   "metadata": {},
   "outputs": [
    {
     "name": "stdout",
     "output_type": "stream",
     "text": [
      "John\n",
      "walker\n",
      "walking\n",
      "running\n",
      "lawns\n"
     ]
    }
   ],
   "source": [
    "#Filterning stopwords\n",
    "for word in docx:\n",
    "    if word.is_stop == False and not word.is_punct:\n",
    "        print(word)"
   ]
  },
  {
   "cell_type": "code",
   "execution_count": 23,
   "metadata": {},
   "outputs": [],
   "source": [
    "#Creating a Spacy Parser\n",
    "import string\n",
    "punctuations=string.punctuation"
   ]
  },
  {
   "cell_type": "code",
   "execution_count": 24,
   "metadata": {},
   "outputs": [],
   "source": [
    "from spacy.lang.en import English\n",
    "parser=English()"
   ]
  },
  {
   "cell_type": "code",
   "execution_count": 25,
   "metadata": {},
   "outputs": [],
   "source": [
    "def spacy_tokenizer(sentence):\n",
    "    mytokens=parser(sentence)\n",
    "    mytokens=[word.lemma_.lower().strip() if word.lemma_ !=\"-PRON-\" else word.lower_ for word in mytokens]\n",
    "    mytokens=[word for word in mytokens if word not in stopwords and word not in punctuations]\n",
    "    return mytokens"
   ]
  },
  {
   "cell_type": "markdown",
   "metadata": {},
   "source": [
    "#### Machine Learning With Sklearn"
   ]
  },
  {
   "cell_type": "code",
   "execution_count": 26,
   "metadata": {},
   "outputs": [],
   "source": [
    "from sklearn.feature_extraction.text import CountVectorizer,TfidfVectorizer\n",
    "from sklearn.metrics import accuracy_score\n",
    "from sklearn.base import TransformerMixin\n",
    "from sklearn.pipeline import Pipeline\n",
    "from sklearn.svm import LinearSVC"
   ]
  },
  {
   "cell_type": "code",
   "execution_count": 27,
   "metadata": {},
   "outputs": [],
   "source": [
    "#Custom transformer using SpaCy\n",
    "class predictors(TransformerMixin):\n",
    "    def transform(self,X,**transform_params):\n",
    "        return [clean_text(text) for text in X]\n",
    "    def fit(self,X,y=None,**fit_params):\n",
    "        return self\n",
    "    def get_params(self,deep=True):\n",
    "        return {}\n",
    "    \n",
    "#Basic function to clean the text\n",
    "def clean_text(text):\n",
    "    return text.strip().lower()"
   ]
  },
  {
   "cell_type": "code",
   "execution_count": 28,
   "metadata": {},
   "outputs": [],
   "source": [
    "#Vectorization\n",
    "vectorizer=CountVectorizer(tokenizer=spacy_tokenizer,ngram_range=(1,1))\n",
    "classifier=LinearSVC()"
   ]
  },
  {
   "cell_type": "code",
   "execution_count": 29,
   "metadata": {},
   "outputs": [],
   "source": [
    "#Using Tfidf\n",
    "tfvectorizer=TfidfVectorizer(tokenizer=spacy_tokenizer)"
   ]
  },
  {
   "cell_type": "code",
   "execution_count": 30,
   "metadata": {},
   "outputs": [],
   "source": [
    "# Splitting Data Set\n",
    "from sklearn.model_selection import train_test_split"
   ]
  },
  {
   "cell_type": "code",
   "execution_count": 33,
   "metadata": {},
   "outputs": [
    {
     "ename": "KeyError",
     "evalue": "'Message'",
     "output_type": "error",
     "traceback": [
      "\u001b[0;31m---------------------------------------------------------------------------\u001b[0m",
      "\u001b[0;31mKeyError\u001b[0m                                  Traceback (most recent call last)",
      "\u001b[0;32m~/anaconda3/lib/python3.7/site-packages/pandas/core/indexes/base.py\u001b[0m in \u001b[0;36mget_loc\u001b[0;34m(self, key, method, tolerance)\u001b[0m\n\u001b[1;32m   2656\u001b[0m             \u001b[0;32mtry\u001b[0m\u001b[0;34m:\u001b[0m\u001b[0;34m\u001b[0m\u001b[0;34m\u001b[0m\u001b[0m\n\u001b[0;32m-> 2657\u001b[0;31m                 \u001b[0;32mreturn\u001b[0m \u001b[0mself\u001b[0m\u001b[0;34m.\u001b[0m\u001b[0m_engine\u001b[0m\u001b[0;34m.\u001b[0m\u001b[0mget_loc\u001b[0m\u001b[0;34m(\u001b[0m\u001b[0mkey\u001b[0m\u001b[0;34m)\u001b[0m\u001b[0;34m\u001b[0m\u001b[0;34m\u001b[0m\u001b[0m\n\u001b[0m\u001b[1;32m   2658\u001b[0m             \u001b[0;32mexcept\u001b[0m \u001b[0mKeyError\u001b[0m\u001b[0;34m:\u001b[0m\u001b[0;34m\u001b[0m\u001b[0;34m\u001b[0m\u001b[0m\n",
      "\u001b[0;32mpandas/_libs/index.pyx\u001b[0m in \u001b[0;36mpandas._libs.index.IndexEngine.get_loc\u001b[0;34m()\u001b[0m\n",
      "\u001b[0;32mpandas/_libs/index.pyx\u001b[0m in \u001b[0;36mpandas._libs.index.IndexEngine.get_loc\u001b[0;34m()\u001b[0m\n",
      "\u001b[0;32mpandas/_libs/hashtable_class_helper.pxi\u001b[0m in \u001b[0;36mpandas._libs.hashtable.PyObjectHashTable.get_item\u001b[0;34m()\u001b[0m\n",
      "\u001b[0;32mpandas/_libs/hashtable_class_helper.pxi\u001b[0m in \u001b[0;36mpandas._libs.hashtable.PyObjectHashTable.get_item\u001b[0;34m()\u001b[0m\n",
      "\u001b[0;31mKeyError\u001b[0m: 'Message'",
      "\nDuring handling of the above exception, another exception occurred:\n",
      "\u001b[0;31mKeyError\u001b[0m                                  Traceback (most recent call last)",
      "\u001b[0;32m<ipython-input-33-b69d40ac9d29>\u001b[0m in \u001b[0;36m<module>\u001b[0;34m\u001b[0m\n\u001b[1;32m      1\u001b[0m \u001b[0;31m# Features and Labels\u001b[0m\u001b[0;34m\u001b[0m\u001b[0;34m\u001b[0m\u001b[0;34m\u001b[0m\u001b[0m\n\u001b[0;32m----> 2\u001b[0;31m \u001b[0mX\u001b[0m\u001b[0;34m=\u001b[0m\u001b[0mdf\u001b[0m\u001b[0;34m[\u001b[0m\u001b[0;34m'Message'\u001b[0m\u001b[0;34m]\u001b[0m\u001b[0;34m\u001b[0m\u001b[0;34m\u001b[0m\u001b[0m\n\u001b[0m\u001b[1;32m      3\u001b[0m \u001b[0mylabels\u001b[0m\u001b[0;34m=\u001b[0m\u001b[0mdf\u001b[0m\u001b[0;34m[\u001b[0m\u001b[0;34m'Target'\u001b[0m\u001b[0;34m]\u001b[0m\u001b[0;34m\u001b[0m\u001b[0;34m\u001b[0m\u001b[0m\n",
      "\u001b[0;32m~/anaconda3/lib/python3.7/site-packages/pandas/core/frame.py\u001b[0m in \u001b[0;36m__getitem__\u001b[0;34m(self, key)\u001b[0m\n\u001b[1;32m   2925\u001b[0m             \u001b[0;32mif\u001b[0m \u001b[0mself\u001b[0m\u001b[0;34m.\u001b[0m\u001b[0mcolumns\u001b[0m\u001b[0;34m.\u001b[0m\u001b[0mnlevels\u001b[0m \u001b[0;34m>\u001b[0m \u001b[0;36m1\u001b[0m\u001b[0;34m:\u001b[0m\u001b[0;34m\u001b[0m\u001b[0;34m\u001b[0m\u001b[0m\n\u001b[1;32m   2926\u001b[0m                 \u001b[0;32mreturn\u001b[0m \u001b[0mself\u001b[0m\u001b[0;34m.\u001b[0m\u001b[0m_getitem_multilevel\u001b[0m\u001b[0;34m(\u001b[0m\u001b[0mkey\u001b[0m\u001b[0;34m)\u001b[0m\u001b[0;34m\u001b[0m\u001b[0;34m\u001b[0m\u001b[0m\n\u001b[0;32m-> 2927\u001b[0;31m             \u001b[0mindexer\u001b[0m \u001b[0;34m=\u001b[0m \u001b[0mself\u001b[0m\u001b[0;34m.\u001b[0m\u001b[0mcolumns\u001b[0m\u001b[0;34m.\u001b[0m\u001b[0mget_loc\u001b[0m\u001b[0;34m(\u001b[0m\u001b[0mkey\u001b[0m\u001b[0;34m)\u001b[0m\u001b[0;34m\u001b[0m\u001b[0;34m\u001b[0m\u001b[0m\n\u001b[0m\u001b[1;32m   2928\u001b[0m             \u001b[0;32mif\u001b[0m \u001b[0mis_integer\u001b[0m\u001b[0;34m(\u001b[0m\u001b[0mindexer\u001b[0m\u001b[0;34m)\u001b[0m\u001b[0;34m:\u001b[0m\u001b[0;34m\u001b[0m\u001b[0;34m\u001b[0m\u001b[0m\n\u001b[1;32m   2929\u001b[0m                 \u001b[0mindexer\u001b[0m \u001b[0;34m=\u001b[0m \u001b[0;34m[\u001b[0m\u001b[0mindexer\u001b[0m\u001b[0;34m]\u001b[0m\u001b[0;34m\u001b[0m\u001b[0;34m\u001b[0m\u001b[0m\n",
      "\u001b[0;32m~/anaconda3/lib/python3.7/site-packages/pandas/core/indexes/base.py\u001b[0m in \u001b[0;36mget_loc\u001b[0;34m(self, key, method, tolerance)\u001b[0m\n\u001b[1;32m   2657\u001b[0m                 \u001b[0;32mreturn\u001b[0m \u001b[0mself\u001b[0m\u001b[0;34m.\u001b[0m\u001b[0m_engine\u001b[0m\u001b[0;34m.\u001b[0m\u001b[0mget_loc\u001b[0m\u001b[0;34m(\u001b[0m\u001b[0mkey\u001b[0m\u001b[0;34m)\u001b[0m\u001b[0;34m\u001b[0m\u001b[0;34m\u001b[0m\u001b[0m\n\u001b[1;32m   2658\u001b[0m             \u001b[0;32mexcept\u001b[0m \u001b[0mKeyError\u001b[0m\u001b[0;34m:\u001b[0m\u001b[0;34m\u001b[0m\u001b[0;34m\u001b[0m\u001b[0m\n\u001b[0;32m-> 2659\u001b[0;31m                 \u001b[0;32mreturn\u001b[0m \u001b[0mself\u001b[0m\u001b[0;34m.\u001b[0m\u001b[0m_engine\u001b[0m\u001b[0;34m.\u001b[0m\u001b[0mget_loc\u001b[0m\u001b[0;34m(\u001b[0m\u001b[0mself\u001b[0m\u001b[0;34m.\u001b[0m\u001b[0m_maybe_cast_indexer\u001b[0m\u001b[0;34m(\u001b[0m\u001b[0mkey\u001b[0m\u001b[0;34m)\u001b[0m\u001b[0;34m)\u001b[0m\u001b[0;34m\u001b[0m\u001b[0;34m\u001b[0m\u001b[0m\n\u001b[0m\u001b[1;32m   2660\u001b[0m         \u001b[0mindexer\u001b[0m \u001b[0;34m=\u001b[0m \u001b[0mself\u001b[0m\u001b[0;34m.\u001b[0m\u001b[0mget_indexer\u001b[0m\u001b[0;34m(\u001b[0m\u001b[0;34m[\u001b[0m\u001b[0mkey\u001b[0m\u001b[0;34m]\u001b[0m\u001b[0;34m,\u001b[0m \u001b[0mmethod\u001b[0m\u001b[0;34m=\u001b[0m\u001b[0mmethod\u001b[0m\u001b[0;34m,\u001b[0m \u001b[0mtolerance\u001b[0m\u001b[0;34m=\u001b[0m\u001b[0mtolerance\u001b[0m\u001b[0;34m)\u001b[0m\u001b[0;34m\u001b[0m\u001b[0;34m\u001b[0m\u001b[0m\n\u001b[1;32m   2661\u001b[0m         \u001b[0;32mif\u001b[0m \u001b[0mindexer\u001b[0m\u001b[0;34m.\u001b[0m\u001b[0mndim\u001b[0m \u001b[0;34m>\u001b[0m \u001b[0;36m1\u001b[0m \u001b[0;32mor\u001b[0m \u001b[0mindexer\u001b[0m\u001b[0;34m.\u001b[0m\u001b[0msize\u001b[0m \u001b[0;34m>\u001b[0m \u001b[0;36m1\u001b[0m\u001b[0;34m:\u001b[0m\u001b[0;34m\u001b[0m\u001b[0;34m\u001b[0m\u001b[0m\n",
      "\u001b[0;32mpandas/_libs/index.pyx\u001b[0m in \u001b[0;36mpandas._libs.index.IndexEngine.get_loc\u001b[0;34m()\u001b[0m\n",
      "\u001b[0;32mpandas/_libs/index.pyx\u001b[0m in \u001b[0;36mpandas._libs.index.IndexEngine.get_loc\u001b[0;34m()\u001b[0m\n",
      "\u001b[0;32mpandas/_libs/hashtable_class_helper.pxi\u001b[0m in \u001b[0;36mpandas._libs.hashtable.PyObjectHashTable.get_item\u001b[0;34m()\u001b[0m\n",
      "\u001b[0;32mpandas/_libs/hashtable_class_helper.pxi\u001b[0m in \u001b[0;36mpandas._libs.hashtable.PyObjectHashTable.get_item\u001b[0;34m()\u001b[0m\n",
      "\u001b[0;31mKeyError\u001b[0m: 'Message'"
     ]
    }
   ],
   "source": [
    "# Features and Labels\n",
    "X=df['Message']\n",
    "ylabels=df['Target']"
   ]
  },
  {
   "cell_type": "code",
   "execution_count": null,
   "metadata": {},
   "outputs": [],
   "source": [
    "X_train,X_test,y_train,y_test=train_test_split(X,ylabels,test_size=0.2,random_state=30)"
   ]
  },
  {
   "cell_type": "code",
   "execution_count": null,
   "metadata": {},
   "outputs": [],
   "source": [
    "#Create the pipeline to clean,tokenize, vectorize\n",
    "pipe=Pipeline([(\"Cleaner\",predictors()),\n",
    "              (\"vectorizer\",vectorizer),\n",
    "              (\"classifier\",classifier)])"
   ]
  },
  {
   "cell_type": "code",
   "execution_count": null,
   "metadata": {},
   "outputs": [],
   "source": [
    "#Fit our data\n",
    "pipe.fit(X_train,y_train)"
   ]
  },
  {
   "cell_type": "code",
   "execution_count": null,
   "metadata": {},
   "outputs": [],
   "source": [
    "#predicating with a test dataset\n",
    "sample_predication=pipe.predict(X_test)"
   ]
  },
  {
   "cell_type": "code",
   "execution_count": null,
   "metadata": {},
   "outputs": [],
   "source": [
    "for(sample,pred) in zip(X_test,sample_prediction):\n",
    "    print(sample,\"Prediction\",pred)"
   ]
  },
  {
   "cell_type": "code",
   "execution_count": null,
   "metadata": {},
   "outputs": [],
   "source": [
    "#Accuracy\n",
    "print(\"Accuracy: \",pipe.score(X_test,y_test))\n",
    "print(\"Accuracy: \",pipe.score(X_test,sample_predication))"
   ]
  },
  {
   "cell_type": "code",
   "execution_count": null,
   "metadata": {},
   "outputs": [],
   "source": [
    "#Accuracy\n",
    "print(\"Accuracy: \",pipe.score(X_train,y_train))\n"
   ]
  },
  {
   "cell_type": "code",
   "execution_count": null,
   "metadata": {},
   "outputs": [],
   "source": [
    "pipe.predict(example)"
   ]
  }
 ],
 "metadata": {
  "kernelspec": {
   "display_name": "Python 3",
   "language": "python",
   "name": "python3"
  },
  "language_info": {
   "codemirror_mode": {
    "name": "ipython",
    "version": 3
   },
   "file_extension": ".py",
   "mimetype": "text/x-python",
   "name": "python",
   "nbconvert_exporter": "python",
   "pygments_lexer": "ipython3",
   "version": "3.7.3"
  }
 },
 "nbformat": 4,
 "nbformat_minor": 2
}
