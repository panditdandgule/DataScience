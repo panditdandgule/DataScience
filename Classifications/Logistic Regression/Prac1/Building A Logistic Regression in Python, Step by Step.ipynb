{
 "cells": [
  {
   "cell_type": "markdown",
   "metadata": {},
   "source": [
    "### Building A Logistic Regression in Python, Step by Step"
   ]
  },
  {
   "cell_type": "markdown",
   "metadata": {},
   "source": [
    "#### Loading Libraries"
   ]
  },
  {
   "cell_type": "code",
   "execution_count": 2,
   "metadata": {},
   "outputs": [],
   "source": [
    "import pandas as pd\n",
    "import numpy as np\n",
    "from sklearn import preprocessing\n",
    "import matplotlib.pyplot as plt\n",
    "plt.rc(\"font\",size=14)\n",
    "from sklearn.linear_model import LogisticRegression\n",
    "from sklearn.model_selection import train_test_split\n",
    "import seaborn as sns\n",
    "sns.set(style='white')\n",
    "sns.set(style='whitegrid',color_codes=True)"
   ]
  },
  {
   "cell_type": "markdown",
   "metadata": {},
   "source": [
    "The dataset provides the bank customers’ information. It includes 41,188 records and 21 fields."
   ]
  },
  {
   "cell_type": "markdown",
   "metadata": {},
   "source": [
    "#### Loading dataset"
   ]
  },
  {
   "cell_type": "code",
   "execution_count": 3,
   "metadata": {},
   "outputs": [],
   "source": [
    "data=pd.read_csv('/home/pandit/DataScience/CodingNest/Projects/Classifications/Prac1/banking.csv')"
   ]
  },
  {
   "cell_type": "code",
   "execution_count": 4,
   "metadata": {},
   "outputs": [],
   "source": [
    "data=data.dropna()"
   ]
  },
  {
   "cell_type": "code",
   "execution_count": 5,
   "metadata": {},
   "outputs": [
    {
     "data": {
      "text/plain": [
       "(41188, 21)"
      ]
     },
     "execution_count": 5,
     "metadata": {},
     "output_type": "execute_result"
    }
   ],
   "source": [
    "data.shape"
   ]
  },
  {
   "cell_type": "code",
   "execution_count": 6,
   "metadata": {},
   "outputs": [
    {
     "data": {
      "text/plain": [
       "Index(['age', 'job', 'marital', 'education', 'default', 'housing', 'loan',\n",
       "       'contact', 'month', 'day_of_week', 'duration', 'campaign', 'pdays',\n",
       "       'previous', 'poutcome', 'emp_var_rate', 'cons_price_idx',\n",
       "       'cons_conf_idx', 'euribor3m', 'nr_employed', 'y'],\n",
       "      dtype='object')"
      ]
     },
     "execution_count": 6,
     "metadata": {},
     "output_type": "execute_result"
    }
   ],
   "source": [
    "data.columns"
   ]
  },
  {
   "cell_type": "code",
   "execution_count": 7,
   "metadata": {},
   "outputs": [
    {
     "data": {
      "text/html": [
       "<div>\n",
       "<style scoped>\n",
       "    .dataframe tbody tr th:only-of-type {\n",
       "        vertical-align: middle;\n",
       "    }\n",
       "\n",
       "    .dataframe tbody tr th {\n",
       "        vertical-align: top;\n",
       "    }\n",
       "\n",
       "    .dataframe thead th {\n",
       "        text-align: right;\n",
       "    }\n",
       "</style>\n",
       "<table border=\"1\" class=\"dataframe\">\n",
       "  <thead>\n",
       "    <tr style=\"text-align: right;\">\n",
       "      <th></th>\n",
       "      <th>age</th>\n",
       "      <th>job</th>\n",
       "      <th>marital</th>\n",
       "      <th>education</th>\n",
       "      <th>default</th>\n",
       "      <th>housing</th>\n",
       "      <th>loan</th>\n",
       "      <th>contact</th>\n",
       "      <th>month</th>\n",
       "      <th>day_of_week</th>\n",
       "      <th>...</th>\n",
       "      <th>campaign</th>\n",
       "      <th>pdays</th>\n",
       "      <th>previous</th>\n",
       "      <th>poutcome</th>\n",
       "      <th>emp_var_rate</th>\n",
       "      <th>cons_price_idx</th>\n",
       "      <th>cons_conf_idx</th>\n",
       "      <th>euribor3m</th>\n",
       "      <th>nr_employed</th>\n",
       "      <th>y</th>\n",
       "    </tr>\n",
       "  </thead>\n",
       "  <tbody>\n",
       "    <tr>\n",
       "      <th>0</th>\n",
       "      <td>44</td>\n",
       "      <td>blue-collar</td>\n",
       "      <td>married</td>\n",
       "      <td>basic.4y</td>\n",
       "      <td>unknown</td>\n",
       "      <td>yes</td>\n",
       "      <td>no</td>\n",
       "      <td>cellular</td>\n",
       "      <td>aug</td>\n",
       "      <td>thu</td>\n",
       "      <td>...</td>\n",
       "      <td>1</td>\n",
       "      <td>999</td>\n",
       "      <td>0</td>\n",
       "      <td>nonexistent</td>\n",
       "      <td>1.4</td>\n",
       "      <td>93.444</td>\n",
       "      <td>-36.1</td>\n",
       "      <td>4.963</td>\n",
       "      <td>5228.1</td>\n",
       "      <td>0</td>\n",
       "    </tr>\n",
       "    <tr>\n",
       "      <th>1</th>\n",
       "      <td>53</td>\n",
       "      <td>technician</td>\n",
       "      <td>married</td>\n",
       "      <td>unknown</td>\n",
       "      <td>no</td>\n",
       "      <td>no</td>\n",
       "      <td>no</td>\n",
       "      <td>cellular</td>\n",
       "      <td>nov</td>\n",
       "      <td>fri</td>\n",
       "      <td>...</td>\n",
       "      <td>1</td>\n",
       "      <td>999</td>\n",
       "      <td>0</td>\n",
       "      <td>nonexistent</td>\n",
       "      <td>-0.1</td>\n",
       "      <td>93.200</td>\n",
       "      <td>-42.0</td>\n",
       "      <td>4.021</td>\n",
       "      <td>5195.8</td>\n",
       "      <td>0</td>\n",
       "    </tr>\n",
       "    <tr>\n",
       "      <th>2</th>\n",
       "      <td>28</td>\n",
       "      <td>management</td>\n",
       "      <td>single</td>\n",
       "      <td>university.degree</td>\n",
       "      <td>no</td>\n",
       "      <td>yes</td>\n",
       "      <td>no</td>\n",
       "      <td>cellular</td>\n",
       "      <td>jun</td>\n",
       "      <td>thu</td>\n",
       "      <td>...</td>\n",
       "      <td>3</td>\n",
       "      <td>6</td>\n",
       "      <td>2</td>\n",
       "      <td>success</td>\n",
       "      <td>-1.7</td>\n",
       "      <td>94.055</td>\n",
       "      <td>-39.8</td>\n",
       "      <td>0.729</td>\n",
       "      <td>4991.6</td>\n",
       "      <td>1</td>\n",
       "    </tr>\n",
       "    <tr>\n",
       "      <th>3</th>\n",
       "      <td>39</td>\n",
       "      <td>services</td>\n",
       "      <td>married</td>\n",
       "      <td>high.school</td>\n",
       "      <td>no</td>\n",
       "      <td>no</td>\n",
       "      <td>no</td>\n",
       "      <td>cellular</td>\n",
       "      <td>apr</td>\n",
       "      <td>fri</td>\n",
       "      <td>...</td>\n",
       "      <td>2</td>\n",
       "      <td>999</td>\n",
       "      <td>0</td>\n",
       "      <td>nonexistent</td>\n",
       "      <td>-1.8</td>\n",
       "      <td>93.075</td>\n",
       "      <td>-47.1</td>\n",
       "      <td>1.405</td>\n",
       "      <td>5099.1</td>\n",
       "      <td>0</td>\n",
       "    </tr>\n",
       "    <tr>\n",
       "      <th>4</th>\n",
       "      <td>55</td>\n",
       "      <td>retired</td>\n",
       "      <td>married</td>\n",
       "      <td>basic.4y</td>\n",
       "      <td>no</td>\n",
       "      <td>yes</td>\n",
       "      <td>no</td>\n",
       "      <td>cellular</td>\n",
       "      <td>aug</td>\n",
       "      <td>fri</td>\n",
       "      <td>...</td>\n",
       "      <td>1</td>\n",
       "      <td>3</td>\n",
       "      <td>1</td>\n",
       "      <td>success</td>\n",
       "      <td>-2.9</td>\n",
       "      <td>92.201</td>\n",
       "      <td>-31.4</td>\n",
       "      <td>0.869</td>\n",
       "      <td>5076.2</td>\n",
       "      <td>1</td>\n",
       "    </tr>\n",
       "  </tbody>\n",
       "</table>\n",
       "<p>5 rows × 21 columns</p>\n",
       "</div>"
      ],
      "text/plain": [
       "   age          job  marital          education  default housing loan  \\\n",
       "0   44  blue-collar  married           basic.4y  unknown     yes   no   \n",
       "1   53   technician  married            unknown       no      no   no   \n",
       "2   28   management   single  university.degree       no     yes   no   \n",
       "3   39     services  married        high.school       no      no   no   \n",
       "4   55      retired  married           basic.4y       no     yes   no   \n",
       "\n",
       "    contact month day_of_week  ...  campaign  pdays  previous     poutcome  \\\n",
       "0  cellular   aug         thu  ...         1    999         0  nonexistent   \n",
       "1  cellular   nov         fri  ...         1    999         0  nonexistent   \n",
       "2  cellular   jun         thu  ...         3      6         2      success   \n",
       "3  cellular   apr         fri  ...         2    999         0  nonexistent   \n",
       "4  cellular   aug         fri  ...         1      3         1      success   \n",
       "\n",
       "  emp_var_rate  cons_price_idx  cons_conf_idx  euribor3m  nr_employed  y  \n",
       "0          1.4          93.444          -36.1      4.963       5228.1  0  \n",
       "1         -0.1          93.200          -42.0      4.021       5195.8  0  \n",
       "2         -1.7          94.055          -39.8      0.729       4991.6  1  \n",
       "3         -1.8          93.075          -47.1      1.405       5099.1  0  \n",
       "4         -2.9          92.201          -31.4      0.869       5076.2  1  \n",
       "\n",
       "[5 rows x 21 columns]"
      ]
     },
     "execution_count": 7,
     "metadata": {},
     "output_type": "execute_result"
    }
   ],
   "source": [
    "data.head()"
   ]
  },
  {
   "cell_type": "markdown",
   "metadata": {},
   "source": [
    "Input variables\n",
    "\n",
    "age (numeric)\n",
    "job : type of job (categorical: “admin”, “blue-collar”, “entrepreneur”, “housemaid”, “management”, “retired”, “self-employed”, “services”, “student”, “technician”, “unemployed”, “unknown”)\n",
    "\n",
    "marital : marital status (categorical: “divorced”, “married”, “single”, “unknown”)\n",
    "education (categorical: “basic.4y”, “basic.6y”, “basic.9y”, “high.school”, “illiterate”, “professional.course”, “university.degree”, “unknown”)\n",
    "\n",
    "default: has credit in default? (categorical: “no”, “yes”, “unknown”)\n",
    "\n",
    "housing: has housing loan? (categorical: “no”, “yes”, “unknown”)\n",
    "\n",
    "loan: has personal loan? (categorical: “no”, “yes”, “unknown”)\n",
    "\n",
    "contact: contact communication type (categorical: “cellular”, “telephone”)\n",
    "\n",
    "month: last contact month of year (categorical: “jan”, “feb”, “mar”, …, “nov”, “dec”)\n",
    "\n",
    "day_of_week: last contact day of the week (categorical: “mon”, “tue”, “wed”, “thu”, “fri”)\n",
    "\n",
    "duration: last contact duration, in seconds (numeric). Important note: this attribute highly affects the output \n",
    "target (e.g., if duration=0 then y=’no’). The duration is not known before a call is performed, also, after the \n",
    "end of the call, y is obviously known. Thus, this input should only be included for benchmark purposes and should be discarded if the intention is to have a realistic predictive model\n",
    "\n",
    "campaign: number of contacts performed during this campaign and for this client (numeric, includes last contact)\n",
    "\n",
    "pdays: number of days that passed by after the client was last contacted from a previous campaign (numeric; 999 means client was not previously contacted)\n",
    "\n",
    "previous: number of contacts performed before this campaign and for this client (numeric)\n",
    "\n",
    "poutcome: outcome of the previous marketing campaign (categorical: “failure”, “nonexistent”, “success”)\n",
    "emp.var.rate: employment variation rate — (numeric)\n",
    "cons.price.idx: consumer price index — (numeric)\n",
    "cons.conf.idx: consumer confidence index — (numeric)\n",
    "\n",
    "euribor3m: euribor 3 month rate — (numeric)\n",
    "nr.employed: number of employees — (numeric)\n"
   ]
  },
  {
   "cell_type": "markdown",
   "metadata": {},
   "source": [
    "Predict variable (desired target):\n",
    "y — has the client subscribed a term deposit? (binary: “1”, means “Yes”, “0” means “No”)\n"
   ]
  },
  {
   "cell_type": "markdown",
   "metadata": {},
   "source": [
    "The education column of the dataset has many categories and we need to reduce the categories for a better modelling. The education column has the following categories:"
   ]
  },
  {
   "cell_type": "code",
   "execution_count": 48,
   "metadata": {},
   "outputs": [
    {
     "data": {
      "text/plain": [
       "array(['Basic', 'unknown', 'university.degree', 'high.school',\n",
       "       'professional.course', 'illiterate'], dtype=object)"
      ]
     },
     "execution_count": 48,
     "metadata": {},
     "output_type": "execute_result"
    }
   ],
   "source": [
    "data['education'].unique()"
   ]
  },
  {
   "cell_type": "markdown",
   "metadata": {},
   "source": [
    "Let us group “basic.4y”, “basic.9y” and “basic.6y” together and call them “basic”.\n"
   ]
  },
  {
   "cell_type": "code",
   "execution_count": 49,
   "metadata": {},
   "outputs": [],
   "source": [
    "data['education']=np.where(data['education']=='basic.9y','Basic',data['education'])\n",
    "data['education']=np.where(data['education']=='basic.6y','Basic',data['education'])\n",
    "data['education']=np.where(data['education']=='basic.4y','Basic',data['education'])\n"
   ]
  },
  {
   "cell_type": "markdown",
   "metadata": {},
   "source": [
    "After grouping, this is the columns:"
   ]
  },
  {
   "cell_type": "code",
   "execution_count": 50,
   "metadata": {},
   "outputs": [
    {
     "data": {
      "text/plain": [
       "array(['Basic', 'unknown', 'university.degree', 'high.school',\n",
       "       'professional.course', 'illiterate'], dtype=object)"
      ]
     },
     "execution_count": 50,
     "metadata": {},
     "output_type": "execute_result"
    }
   ],
   "source": [
    "data['education'].unique()"
   ]
  },
  {
   "cell_type": "markdown",
   "metadata": {},
   "source": [
    "### Data Exploration"
   ]
  },
  {
   "cell_type": "code",
   "execution_count": 51,
   "metadata": {},
   "outputs": [
    {
     "data": {
      "text/plain": [
       "0    36548\n",
       "1     4640\n",
       "Name: y, dtype: int64"
      ]
     },
     "execution_count": 51,
     "metadata": {},
     "output_type": "execute_result"
    }
   ],
   "source": [
    "data['y'].value_counts()"
   ]
  },
  {
   "cell_type": "code",
   "execution_count": 52,
   "metadata": {},
   "outputs": [
    {
     "data": {
      "image/png": "[encoded data removed]",
      "text/plain": [
       "<Figure size 432x288 with 1 Axes>"
      ]
     },
     "metadata": {
      "needs_background": "light"
     },
     "output_type": "display_data"
    },
    {
     "data": {
      "text/plain": [
       "<Figure size 432x288 with 0 Axes>"
      ]
     },
     "metadata": {},
     "output_type": "display_data"
    }
   ],
   "source": [
    "sns.countplot(x='y',data=data,palette='hls')\n",
    "plt.show()\n",
    "plt.savefig('count_plot')"
   ]
  },
  {
   "cell_type": "code",
   "execution_count": 53,
   "metadata": {},
   "outputs": [
    {
     "data": {
      "text/html": [
       "<div>\n",
       "<style scoped>\n",
       "    .dataframe tbody tr th:only-of-type {\n",
       "        vertical-align: middle;\n",
       "    }\n",
       "\n",
       "    .dataframe tbody tr th {\n",
       "        vertical-align: top;\n",
       "    }\n",
       "\n",
       "    .dataframe thead th {\n",
       "        text-align: right;\n",
       "    }\n",
       "</style>\n",
       "<table border=\"1\" class=\"dataframe\">\n",
       "  <thead>\n",
       "    <tr style=\"text-align: right;\">\n",
       "      <th></th>\n",
       "      <th>age</th>\n",
       "      <th>duration</th>\n",
       "      <th>campaign</th>\n",
       "      <th>pdays</th>\n",
       "      <th>previous</th>\n",
       "      <th>emp_var_rate</th>\n",
       "      <th>cons_price_idx</th>\n",
       "      <th>cons_conf_idx</th>\n",
       "      <th>euribor3m</th>\n",
       "      <th>nr_employed</th>\n",
       "      <th>...</th>\n",
       "      <th>month_oct</th>\n",
       "      <th>month_sep</th>\n",
       "      <th>day_of_week_fri</th>\n",
       "      <th>day_of_week_mon</th>\n",
       "      <th>day_of_week_thu</th>\n",
       "      <th>day_of_week_tue</th>\n",
       "      <th>day_of_week_wed</th>\n",
       "      <th>poutcome_failure</th>\n",
       "      <th>poutcome_nonexistent</th>\n",
       "      <th>poutcome_success</th>\n",
       "    </tr>\n",
       "    <tr>\n",
       "      <th>y</th>\n",
       "      <th></th>\n",
       "      <th></th>\n",
       "      <th></th>\n",
       "      <th></th>\n",
       "      <th></th>\n",
       "      <th></th>\n",
       "      <th></th>\n",
       "      <th></th>\n",
       "      <th></th>\n",
       "      <th></th>\n",
       "      <th></th>\n",
       "      <th></th>\n",
       "      <th></th>\n",
       "      <th></th>\n",
       "      <th></th>\n",
       "      <th></th>\n",
       "      <th></th>\n",
       "      <th></th>\n",
       "      <th></th>\n",
       "      <th></th>\n",
       "      <th></th>\n",
       "    </tr>\n",
       "  </thead>\n",
       "  <tbody>\n",
       "    <tr>\n",
       "      <th>0</th>\n",
       "      <td>39.911185</td>\n",
       "      <td>220.844807</td>\n",
       "      <td>2.633085</td>\n",
       "      <td>984.113878</td>\n",
       "      <td>0.132374</td>\n",
       "      <td>0.248875</td>\n",
       "      <td>93.603757</td>\n",
       "      <td>-40.593097</td>\n",
       "      <td>3.811491</td>\n",
       "      <td>5176.166600</td>\n",
       "      <td>...</td>\n",
       "      <td>0.011027</td>\n",
       "      <td>0.008591</td>\n",
       "      <td>0.191009</td>\n",
       "      <td>0.209779</td>\n",
       "      <td>0.207344</td>\n",
       "      <td>0.195277</td>\n",
       "      <td>0.196591</td>\n",
       "      <td>0.099787</td>\n",
       "      <td>0.887107</td>\n",
       "      <td>0.013106</td>\n",
       "    </tr>\n",
       "    <tr>\n",
       "      <th>1</th>\n",
       "      <td>40.913147</td>\n",
       "      <td>553.191164</td>\n",
       "      <td>2.051724</td>\n",
       "      <td>792.035560</td>\n",
       "      <td>0.492672</td>\n",
       "      <td>-1.233448</td>\n",
       "      <td>93.354386</td>\n",
       "      <td>-39.789784</td>\n",
       "      <td>2.123135</td>\n",
       "      <td>5095.115991</td>\n",
       "      <td>...</td>\n",
       "      <td>0.067888</td>\n",
       "      <td>0.055172</td>\n",
       "      <td>0.182328</td>\n",
       "      <td>0.182543</td>\n",
       "      <td>0.225216</td>\n",
       "      <td>0.205388</td>\n",
       "      <td>0.204526</td>\n",
       "      <td>0.130388</td>\n",
       "      <td>0.676940</td>\n",
       "      <td>0.192672</td>\n",
       "    </tr>\n",
       "  </tbody>\n",
       "</table>\n",
       "<p>2 rows × 61 columns</p>\n",
       "</div>"
      ],
      "text/plain": [
       "         age    duration  campaign       pdays  previous  emp_var_rate  \\\n",
       "y                                                                        \n",
       "0  39.911185  220.844807  2.633085  984.113878  0.132374      0.248875   \n",
       "1  40.913147  553.191164  2.051724  792.035560  0.492672     -1.233448   \n",
       "\n",
       "   cons_price_idx  cons_conf_idx  euribor3m  nr_employed  ...  month_oct  \\\n",
       "y                                                         ...              \n",
       "0       93.603757     -40.593097   3.811491  5176.166600  ...   0.011027   \n",
       "1       93.354386     -39.789784   2.123135  5095.115991  ...   0.067888   \n",
       "\n",
       "   month_sep  day_of_week_fri  day_of_week_mon  day_of_week_thu  \\\n",
       "y                                                                 \n",
       "0   0.008591         0.191009         0.209779         0.207344   \n",
       "1   0.055172         0.182328         0.182543         0.225216   \n",
       "\n",
       "   day_of_week_tue  day_of_week_wed  poutcome_failure  poutcome_nonexistent  \\\n",
       "y                                                                             \n",
       "0         0.195277         0.196591          0.099787              0.887107   \n",
       "1         0.205388         0.204526          0.130388              0.676940   \n",
       "\n",
       "   poutcome_success  \n",
       "y                    \n",
       "0          0.013106  \n",
       "1          0.192672  \n",
       "\n",
       "[2 rows x 61 columns]"
      ]
     },
     "execution_count": 53,
     "metadata": {},
     "output_type": "execute_result"
    }
   ],
   "source": [
    "data.groupby('y').mean()"
   ]
  },
  {
   "cell_type": "code",
   "execution_count": 54,
   "metadata": {},
   "outputs": [
    {
     "data": {
      "text/html": [
       "<div>\n",
       "<style scoped>\n",
       "    .dataframe tbody tr th:only-of-type {\n",
       "        vertical-align: middle;\n",
       "    }\n",
       "\n",
       "    .dataframe tbody tr th {\n",
       "        vertical-align: top;\n",
       "    }\n",
       "\n",
       "    .dataframe thead th {\n",
       "        text-align: right;\n",
       "    }\n",
       "</style>\n",
       "<table border=\"1\" class=\"dataframe\">\n",
       "  <thead>\n",
       "    <tr style=\"text-align: right;\">\n",
       "      <th></th>\n",
       "      <th>age</th>\n",
       "      <th>duration</th>\n",
       "      <th>campaign</th>\n",
       "      <th>pdays</th>\n",
       "      <th>previous</th>\n",
       "      <th>emp_var_rate</th>\n",
       "      <th>cons_price_idx</th>\n",
       "      <th>cons_conf_idx</th>\n",
       "      <th>euribor3m</th>\n",
       "      <th>nr_employed</th>\n",
       "      <th>...</th>\n",
       "      <th>month_oct</th>\n",
       "      <th>month_sep</th>\n",
       "      <th>day_of_week_fri</th>\n",
       "      <th>day_of_week_mon</th>\n",
       "      <th>day_of_week_thu</th>\n",
       "      <th>day_of_week_tue</th>\n",
       "      <th>day_of_week_wed</th>\n",
       "      <th>poutcome_failure</th>\n",
       "      <th>poutcome_nonexistent</th>\n",
       "      <th>poutcome_success</th>\n",
       "    </tr>\n",
       "    <tr>\n",
       "      <th>job</th>\n",
       "      <th></th>\n",
       "      <th></th>\n",
       "      <th></th>\n",
       "      <th></th>\n",
       "      <th></th>\n",
       "      <th></th>\n",
       "      <th></th>\n",
       "      <th></th>\n",
       "      <th></th>\n",
       "      <th></th>\n",
       "      <th></th>\n",
       "      <th></th>\n",
       "      <th></th>\n",
       "      <th></th>\n",
       "      <th></th>\n",
       "      <th></th>\n",
       "      <th></th>\n",
       "      <th></th>\n",
       "      <th></th>\n",
       "      <th></th>\n",
       "      <th></th>\n",
       "    </tr>\n",
       "  </thead>\n",
       "  <tbody>\n",
       "    <tr>\n",
       "      <th>admin.</th>\n",
       "      <td>38.187296</td>\n",
       "      <td>254.312128</td>\n",
       "      <td>2.623489</td>\n",
       "      <td>954.319229</td>\n",
       "      <td>0.189023</td>\n",
       "      <td>0.015563</td>\n",
       "      <td>93.534054</td>\n",
       "      <td>-40.245433</td>\n",
       "      <td>3.550274</td>\n",
       "      <td>5164.125350</td>\n",
       "      <td>...</td>\n",
       "      <td>0.018902</td>\n",
       "      <td>0.015928</td>\n",
       "      <td>0.196699</td>\n",
       "      <td>0.206198</td>\n",
       "      <td>0.206582</td>\n",
       "      <td>0.195164</td>\n",
       "      <td>0.195356</td>\n",
       "      <td>0.104682</td>\n",
       "      <td>0.854251</td>\n",
       "      <td>0.041067</td>\n",
       "    </tr>\n",
       "    <tr>\n",
       "      <th>blue-collar</th>\n",
       "      <td>39.555760</td>\n",
       "      <td>264.542360</td>\n",
       "      <td>2.558461</td>\n",
       "      <td>985.160363</td>\n",
       "      <td>0.122542</td>\n",
       "      <td>0.248995</td>\n",
       "      <td>93.656656</td>\n",
       "      <td>-41.375816</td>\n",
       "      <td>3.771996</td>\n",
       "      <td>5175.615150</td>\n",
       "      <td>...</td>\n",
       "      <td>0.005511</td>\n",
       "      <td>0.002053</td>\n",
       "      <td>0.192457</td>\n",
       "      <td>0.199373</td>\n",
       "      <td>0.204020</td>\n",
       "      <td>0.191377</td>\n",
       "      <td>0.212773</td>\n",
       "      <td>0.095742</td>\n",
       "      <td>0.891398</td>\n",
       "      <td>0.012859</td>\n",
       "    </tr>\n",
       "    <tr>\n",
       "      <th>entrepreneur</th>\n",
       "      <td>41.723214</td>\n",
       "      <td>263.267857</td>\n",
       "      <td>2.535714</td>\n",
       "      <td>981.267170</td>\n",
       "      <td>0.138736</td>\n",
       "      <td>0.158723</td>\n",
       "      <td>93.605372</td>\n",
       "      <td>-41.283654</td>\n",
       "      <td>3.791120</td>\n",
       "      <td>5176.313530</td>\n",
       "      <td>...</td>\n",
       "      <td>0.010302</td>\n",
       "      <td>0.008242</td>\n",
       "      <td>0.186126</td>\n",
       "      <td>0.221154</td>\n",
       "      <td>0.221154</td>\n",
       "      <td>0.181319</td>\n",
       "      <td>0.190247</td>\n",
       "      <td>0.105769</td>\n",
       "      <td>0.877060</td>\n",
       "      <td>0.017170</td>\n",
       "    </tr>\n",
       "    <tr>\n",
       "      <th>housemaid</th>\n",
       "      <td>45.500000</td>\n",
       "      <td>250.454717</td>\n",
       "      <td>2.639623</td>\n",
       "      <td>960.579245</td>\n",
       "      <td>0.137736</td>\n",
       "      <td>0.433396</td>\n",
       "      <td>93.676576</td>\n",
       "      <td>-39.495283</td>\n",
       "      <td>4.009645</td>\n",
       "      <td>5179.529623</td>\n",
       "      <td>...</td>\n",
       "      <td>0.017925</td>\n",
       "      <td>0.011321</td>\n",
       "      <td>0.171698</td>\n",
       "      <td>0.215094</td>\n",
       "      <td>0.186792</td>\n",
       "      <td>0.224528</td>\n",
       "      <td>0.201887</td>\n",
       "      <td>0.069811</td>\n",
       "      <td>0.894340</td>\n",
       "      <td>0.035849</td>\n",
       "    </tr>\n",
       "    <tr>\n",
       "      <th>management</th>\n",
       "      <td>42.362859</td>\n",
       "      <td>257.058140</td>\n",
       "      <td>2.476060</td>\n",
       "      <td>962.647059</td>\n",
       "      <td>0.185021</td>\n",
       "      <td>-0.012688</td>\n",
       "      <td>93.522755</td>\n",
       "      <td>-40.489466</td>\n",
       "      <td>3.611316</td>\n",
       "      <td>5166.650513</td>\n",
       "      <td>...</td>\n",
       "      <td>0.017442</td>\n",
       "      <td>0.015732</td>\n",
       "      <td>0.181601</td>\n",
       "      <td>0.218878</td>\n",
       "      <td>0.200752</td>\n",
       "      <td>0.198700</td>\n",
       "      <td>0.200068</td>\n",
       "      <td>0.113201</td>\n",
       "      <td>0.854309</td>\n",
       "      <td>0.032490</td>\n",
       "    </tr>\n",
       "    <tr>\n",
       "      <th>retired</th>\n",
       "      <td>62.027326</td>\n",
       "      <td>273.712209</td>\n",
       "      <td>2.476744</td>\n",
       "      <td>897.936047</td>\n",
       "      <td>0.327326</td>\n",
       "      <td>-0.698314</td>\n",
       "      <td>93.430786</td>\n",
       "      <td>-38.573081</td>\n",
       "      <td>2.770066</td>\n",
       "      <td>5122.262151</td>\n",
       "      <td>...</td>\n",
       "      <td>0.073256</td>\n",
       "      <td>0.050000</td>\n",
       "      <td>0.193605</td>\n",
       "      <td>0.202326</td>\n",
       "      <td>0.184302</td>\n",
       "      <td>0.219186</td>\n",
       "      <td>0.200581</td>\n",
       "      <td>0.133721</td>\n",
       "      <td>0.774419</td>\n",
       "      <td>0.091860</td>\n",
       "    </tr>\n",
       "    <tr>\n",
       "      <th>self-employed</th>\n",
       "      <td>39.949331</td>\n",
       "      <td>264.142153</td>\n",
       "      <td>2.660802</td>\n",
       "      <td>976.621393</td>\n",
       "      <td>0.143561</td>\n",
       "      <td>0.094159</td>\n",
       "      <td>93.559982</td>\n",
       "      <td>-40.488107</td>\n",
       "      <td>3.689376</td>\n",
       "      <td>5170.674384</td>\n",
       "      <td>...</td>\n",
       "      <td>0.014778</td>\n",
       "      <td>0.014075</td>\n",
       "      <td>0.196341</td>\n",
       "      <td>0.218156</td>\n",
       "      <td>0.236453</td>\n",
       "      <td>0.179451</td>\n",
       "      <td>0.169599</td>\n",
       "      <td>0.102041</td>\n",
       "      <td>0.876847</td>\n",
       "      <td>0.021112</td>\n",
       "    </tr>\n",
       "    <tr>\n",
       "      <th>services</th>\n",
       "      <td>37.926430</td>\n",
       "      <td>258.398085</td>\n",
       "      <td>2.587805</td>\n",
       "      <td>979.974049</td>\n",
       "      <td>0.154951</td>\n",
       "      <td>0.175359</td>\n",
       "      <td>93.634659</td>\n",
       "      <td>-41.290048</td>\n",
       "      <td>3.699187</td>\n",
       "      <td>5171.600126</td>\n",
       "      <td>...</td>\n",
       "      <td>0.008314</td>\n",
       "      <td>0.007307</td>\n",
       "      <td>0.188964</td>\n",
       "      <td>0.210380</td>\n",
       "      <td>0.209121</td>\n",
       "      <td>0.199798</td>\n",
       "      <td>0.191736</td>\n",
       "      <td>0.112875</td>\n",
       "      <td>0.869489</td>\n",
       "      <td>0.017637</td>\n",
       "    </tr>\n",
       "    <tr>\n",
       "      <th>student</th>\n",
       "      <td>25.894857</td>\n",
       "      <td>283.683429</td>\n",
       "      <td>2.104000</td>\n",
       "      <td>840.217143</td>\n",
       "      <td>0.524571</td>\n",
       "      <td>-1.408000</td>\n",
       "      <td>93.331613</td>\n",
       "      <td>-40.187543</td>\n",
       "      <td>1.884224</td>\n",
       "      <td>5085.939086</td>\n",
       "      <td>...</td>\n",
       "      <td>0.060571</td>\n",
       "      <td>0.056000</td>\n",
       "      <td>0.185143</td>\n",
       "      <td>0.202286</td>\n",
       "      <td>0.225143</td>\n",
       "      <td>0.196571</td>\n",
       "      <td>0.190857</td>\n",
       "      <td>0.186286</td>\n",
       "      <td>0.678857</td>\n",
       "      <td>0.134857</td>\n",
       "    </tr>\n",
       "    <tr>\n",
       "      <th>technician</th>\n",
       "      <td>38.507638</td>\n",
       "      <td>250.232241</td>\n",
       "      <td>2.577339</td>\n",
       "      <td>964.408127</td>\n",
       "      <td>0.153789</td>\n",
       "      <td>0.274566</td>\n",
       "      <td>93.561471</td>\n",
       "      <td>-39.927569</td>\n",
       "      <td>3.820401</td>\n",
       "      <td>5175.648391</td>\n",
       "      <td>...</td>\n",
       "      <td>0.017203</td>\n",
       "      <td>0.013644</td>\n",
       "      <td>0.185526</td>\n",
       "      <td>0.205546</td>\n",
       "      <td>0.221563</td>\n",
       "      <td>0.197242</td>\n",
       "      <td>0.190123</td>\n",
       "      <td>0.091651</td>\n",
       "      <td>0.877058</td>\n",
       "      <td>0.031292</td>\n",
       "    </tr>\n",
       "    <tr>\n",
       "      <th>unemployed</th>\n",
       "      <td>39.733728</td>\n",
       "      <td>249.451677</td>\n",
       "      <td>2.564103</td>\n",
       "      <td>935.316568</td>\n",
       "      <td>0.199211</td>\n",
       "      <td>-0.111736</td>\n",
       "      <td>93.563781</td>\n",
       "      <td>-40.007594</td>\n",
       "      <td>3.466583</td>\n",
       "      <td>5157.156509</td>\n",
       "      <td>...</td>\n",
       "      <td>0.027613</td>\n",
       "      <td>0.030572</td>\n",
       "      <td>0.197239</td>\n",
       "      <td>0.193294</td>\n",
       "      <td>0.226824</td>\n",
       "      <td>0.198225</td>\n",
       "      <td>0.184418</td>\n",
       "      <td>0.092702</td>\n",
       "      <td>0.846154</td>\n",
       "      <td>0.061144</td>\n",
       "    </tr>\n",
       "    <tr>\n",
       "      <th>unknown</th>\n",
       "      <td>45.563636</td>\n",
       "      <td>239.675758</td>\n",
       "      <td>2.648485</td>\n",
       "      <td>938.727273</td>\n",
       "      <td>0.154545</td>\n",
       "      <td>0.357879</td>\n",
       "      <td>93.718942</td>\n",
       "      <td>-38.797879</td>\n",
       "      <td>3.949033</td>\n",
       "      <td>5172.931818</td>\n",
       "      <td>...</td>\n",
       "      <td>0.024242</td>\n",
       "      <td>0.024242</td>\n",
       "      <td>0.112121</td>\n",
       "      <td>0.236364</td>\n",
       "      <td>0.215152</td>\n",
       "      <td>0.224242</td>\n",
       "      <td>0.212121</td>\n",
       "      <td>0.054545</td>\n",
       "      <td>0.887879</td>\n",
       "      <td>0.057576</td>\n",
       "    </tr>\n",
       "  </tbody>\n",
       "</table>\n",
       "<p>12 rows × 62 columns</p>\n",
       "</div>"
      ],
      "text/plain": [
       "                     age    duration  campaign       pdays  previous  \\\n",
       "job                                                                    \n",
       "admin.         38.187296  254.312128  2.623489  954.319229  0.189023   \n",
       "blue-collar    39.555760  264.542360  2.558461  985.160363  0.122542   \n",
       "entrepreneur   41.723214  263.267857  2.535714  981.267170  0.138736   \n",
       "housemaid      45.500000  250.454717  2.639623  960.579245  0.137736   \n",
       "management     42.362859  257.058140  2.476060  962.647059  0.185021   \n",
       "retired        62.027326  273.712209  2.476744  897.936047  0.327326   \n",
       "self-employed  39.949331  264.142153  2.660802  976.621393  0.143561   \n",
       "services       37.926430  258.398085  2.587805  979.974049  0.154951   \n",
       "student        25.894857  283.683429  2.104000  840.217143  0.524571   \n",
       "technician     38.507638  250.232241  2.577339  964.408127  0.153789   \n",
       "unemployed     39.733728  249.451677  2.564103  935.316568  0.199211   \n",
       "unknown        45.563636  239.675758  2.648485  938.727273  0.154545   \n",
       "\n",
       "               emp_var_rate  cons_price_idx  cons_conf_idx  euribor3m  \\\n",
       "job                                                                     \n",
       "admin.             0.015563       93.534054     -40.245433   3.550274   \n",
       "blue-collar        0.248995       93.656656     -41.375816   3.771996   \n",
       "entrepreneur       0.158723       93.605372     -41.283654   3.791120   \n",
       "housemaid          0.433396       93.676576     -39.495283   4.009645   \n",
       "management        -0.012688       93.522755     -40.489466   3.611316   \n",
       "retired           -0.698314       93.430786     -38.573081   2.770066   \n",
       "self-employed      0.094159       93.559982     -40.488107   3.689376   \n",
       "services           0.175359       93.634659     -41.290048   3.699187   \n",
       "student           -1.408000       93.331613     -40.187543   1.884224   \n",
       "technician         0.274566       93.561471     -39.927569   3.820401   \n",
       "unemployed        -0.111736       93.563781     -40.007594   3.466583   \n",
       "unknown            0.357879       93.718942     -38.797879   3.949033   \n",
       "\n",
       "               nr_employed  ...  month_oct  month_sep  day_of_week_fri  \\\n",
       "job                         ...                                          \n",
       "admin.         5164.125350  ...   0.018902   0.015928         0.196699   \n",
       "blue-collar    5175.615150  ...   0.005511   0.002053         0.192457   \n",
       "entrepreneur   5176.313530  ...   0.010302   0.008242         0.186126   \n",
       "housemaid      5179.529623  ...   0.017925   0.011321         0.171698   \n",
       "management     5166.650513  ...   0.017442   0.015732         0.181601   \n",
       "retired        5122.262151  ...   0.073256   0.050000         0.193605   \n",
       "self-employed  5170.674384  ...   0.014778   0.014075         0.196341   \n",
       "services       5171.600126  ...   0.008314   0.007307         0.188964   \n",
       "student        5085.939086  ...   0.060571   0.056000         0.185143   \n",
       "technician     5175.648391  ...   0.017203   0.013644         0.185526   \n",
       "unemployed     5157.156509  ...   0.027613   0.030572         0.197239   \n",
       "unknown        5172.931818  ...   0.024242   0.024242         0.112121   \n",
       "\n",
       "               day_of_week_mon  day_of_week_thu  day_of_week_tue  \\\n",
       "job                                                                \n",
       "admin.                0.206198         0.206582         0.195164   \n",
       "blue-collar           0.199373         0.204020         0.191377   \n",
       "entrepreneur          0.221154         0.221154         0.181319   \n",
       "housemaid             0.215094         0.186792         0.224528   \n",
       "management            0.218878         0.200752         0.198700   \n",
       "retired               0.202326         0.184302         0.219186   \n",
       "self-employed         0.218156         0.236453         0.179451   \n",
       "services              0.210380         0.209121         0.199798   \n",
       "student               0.202286         0.225143         0.196571   \n",
       "technician            0.205546         0.221563         0.197242   \n",
       "unemployed            0.193294         0.226824         0.198225   \n",
       "unknown               0.236364         0.215152         0.224242   \n",
       "\n",
       "               day_of_week_wed  poutcome_failure  poutcome_nonexistent  \\\n",
       "job                                                                      \n",
       "admin.                0.195356          0.104682              0.854251   \n",
       "blue-collar           0.212773          0.095742              0.891398   \n",
       "entrepreneur          0.190247          0.105769              0.877060   \n",
       "housemaid             0.201887          0.069811              0.894340   \n",
       "management            0.200068          0.113201              0.854309   \n",
       "retired               0.200581          0.133721              0.774419   \n",
       "self-employed         0.169599          0.102041              0.876847   \n",
       "services              0.191736          0.112875              0.869489   \n",
       "student               0.190857          0.186286              0.678857   \n",
       "technician            0.190123          0.091651              0.877058   \n",
       "unemployed            0.184418          0.092702              0.846154   \n",
       "unknown               0.212121          0.054545              0.887879   \n",
       "\n",
       "               poutcome_success  \n",
       "job                              \n",
       "admin.                 0.041067  \n",
       "blue-collar            0.012859  \n",
       "entrepreneur           0.017170  \n",
       "housemaid              0.035849  \n",
       "management             0.032490  \n",
       "retired                0.091860  \n",
       "self-employed          0.021112  \n",
       "services               0.017637  \n",
       "student                0.134857  \n",
       "technician             0.031292  \n",
       "unemployed             0.061144  \n",
       "unknown                0.057576  \n",
       "\n",
       "[12 rows x 62 columns]"
      ]
     },
     "execution_count": 54,
     "metadata": {},
     "output_type": "execute_result"
    }
   ],
   "source": [
    "data.groupby('job').mean()"
   ]
  },
  {
   "cell_type": "code",
   "execution_count": 55,
   "metadata": {},
   "outputs": [
    {
     "data": {
      "text/html": [
       "<div>\n",
       "<style scoped>\n",
       "    .dataframe tbody tr th:only-of-type {\n",
       "        vertical-align: middle;\n",
       "    }\n",
       "\n",
       "    .dataframe tbody tr th {\n",
       "        vertical-align: top;\n",
       "    }\n",
       "\n",
       "    .dataframe thead th {\n",
       "        text-align: right;\n",
       "    }\n",
       "</style>\n",
       "<table border=\"1\" class=\"dataframe\">\n",
       "  <thead>\n",
       "    <tr style=\"text-align: right;\">\n",
       "      <th></th>\n",
       "      <th>age</th>\n",
       "      <th>duration</th>\n",
       "      <th>campaign</th>\n",
       "      <th>pdays</th>\n",
       "      <th>previous</th>\n",
       "      <th>emp_var_rate</th>\n",
       "      <th>cons_price_idx</th>\n",
       "      <th>cons_conf_idx</th>\n",
       "      <th>euribor3m</th>\n",
       "      <th>nr_employed</th>\n",
       "      <th>...</th>\n",
       "      <th>month_oct</th>\n",
       "      <th>month_sep</th>\n",
       "      <th>day_of_week_fri</th>\n",
       "      <th>day_of_week_mon</th>\n",
       "      <th>day_of_week_thu</th>\n",
       "      <th>day_of_week_tue</th>\n",
       "      <th>day_of_week_wed</th>\n",
       "      <th>poutcome_failure</th>\n",
       "      <th>poutcome_nonexistent</th>\n",
       "      <th>poutcome_success</th>\n",
       "    </tr>\n",
       "    <tr>\n",
       "      <th>marital</th>\n",
       "      <th></th>\n",
       "      <th></th>\n",
       "      <th></th>\n",
       "      <th></th>\n",
       "      <th></th>\n",
       "      <th></th>\n",
       "      <th></th>\n",
       "      <th></th>\n",
       "      <th></th>\n",
       "      <th></th>\n",
       "      <th></th>\n",
       "      <th></th>\n",
       "      <th></th>\n",
       "      <th></th>\n",
       "      <th></th>\n",
       "      <th></th>\n",
       "      <th></th>\n",
       "      <th></th>\n",
       "      <th></th>\n",
       "      <th></th>\n",
       "      <th></th>\n",
       "    </tr>\n",
       "  </thead>\n",
       "  <tbody>\n",
       "    <tr>\n",
       "      <th>divorced</th>\n",
       "      <td>44.899393</td>\n",
       "      <td>253.790330</td>\n",
       "      <td>2.61340</td>\n",
       "      <td>968.639853</td>\n",
       "      <td>0.168690</td>\n",
       "      <td>0.163985</td>\n",
       "      <td>93.606563</td>\n",
       "      <td>-40.707069</td>\n",
       "      <td>3.715603</td>\n",
       "      <td>5170.878643</td>\n",
       "      <td>...</td>\n",
       "      <td>0.014527</td>\n",
       "      <td>0.010841</td>\n",
       "      <td>0.183868</td>\n",
       "      <td>0.213790</td>\n",
       "      <td>0.198395</td>\n",
       "      <td>0.208369</td>\n",
       "      <td>0.195577</td>\n",
       "      <td>0.108846</td>\n",
       "      <td>0.863183</td>\n",
       "      <td>0.027971</td>\n",
       "    </tr>\n",
       "    <tr>\n",
       "      <th>married</th>\n",
       "      <td>42.307165</td>\n",
       "      <td>257.438623</td>\n",
       "      <td>2.57281</td>\n",
       "      <td>967.247673</td>\n",
       "      <td>0.155608</td>\n",
       "      <td>0.183625</td>\n",
       "      <td>93.597367</td>\n",
       "      <td>-40.270659</td>\n",
       "      <td>3.745832</td>\n",
       "      <td>5171.848772</td>\n",
       "      <td>...</td>\n",
       "      <td>0.016006</td>\n",
       "      <td>0.013278</td>\n",
       "      <td>0.192194</td>\n",
       "      <td>0.208360</td>\n",
       "      <td>0.206475</td>\n",
       "      <td>0.196807</td>\n",
       "      <td>0.196165</td>\n",
       "      <td>0.095635</td>\n",
       "      <td>0.875361</td>\n",
       "      <td>0.029004</td>\n",
       "    </tr>\n",
       "    <tr>\n",
       "      <th>single</th>\n",
       "      <td>33.158714</td>\n",
       "      <td>261.524378</td>\n",
       "      <td>2.53380</td>\n",
       "      <td>949.909578</td>\n",
       "      <td>0.211359</td>\n",
       "      <td>-0.167989</td>\n",
       "      <td>93.517300</td>\n",
       "      <td>-40.918698</td>\n",
       "      <td>3.317447</td>\n",
       "      <td>5155.199265</td>\n",
       "      <td>...</td>\n",
       "      <td>0.021525</td>\n",
       "      <td>0.016338</td>\n",
       "      <td>0.188105</td>\n",
       "      <td>0.200121</td>\n",
       "      <td>0.219312</td>\n",
       "      <td>0.191217</td>\n",
       "      <td>0.201245</td>\n",
       "      <td>0.116961</td>\n",
       "      <td>0.838434</td>\n",
       "      <td>0.044606</td>\n",
       "    </tr>\n",
       "    <tr>\n",
       "      <th>unknown</th>\n",
       "      <td>40.275000</td>\n",
       "      <td>312.725000</td>\n",
       "      <td>3.18750</td>\n",
       "      <td>937.100000</td>\n",
       "      <td>0.275000</td>\n",
       "      <td>-0.221250</td>\n",
       "      <td>93.471250</td>\n",
       "      <td>-40.820000</td>\n",
       "      <td>3.313038</td>\n",
       "      <td>5157.393750</td>\n",
       "      <td>...</td>\n",
       "      <td>0.037500</td>\n",
       "      <td>0.000000</td>\n",
       "      <td>0.150000</td>\n",
       "      <td>0.237500</td>\n",
       "      <td>0.300000</td>\n",
       "      <td>0.137500</td>\n",
       "      <td>0.175000</td>\n",
       "      <td>0.162500</td>\n",
       "      <td>0.775000</td>\n",
       "      <td>0.062500</td>\n",
       "    </tr>\n",
       "  </tbody>\n",
       "</table>\n",
       "<p>4 rows × 62 columns</p>\n",
       "</div>"
      ],
      "text/plain": [
       "                age    duration  campaign       pdays  previous  emp_var_rate  \\\n",
       "marital                                                                         \n",
       "divorced  44.899393  253.790330   2.61340  968.639853  0.168690      0.163985   \n",
       "married   42.307165  257.438623   2.57281  967.247673  0.155608      0.183625   \n",
       "single    33.158714  261.524378   2.53380  949.909578  0.211359     -0.167989   \n",
       "unknown   40.275000  312.725000   3.18750  937.100000  0.275000     -0.221250   \n",
       "\n",
       "          cons_price_idx  cons_conf_idx  euribor3m  nr_employed  ...  \\\n",
       "marital                                                          ...   \n",
       "divorced       93.606563     -40.707069   3.715603  5170.878643  ...   \n",
       "married        93.597367     -40.270659   3.745832  5171.848772  ...   \n",
       "single         93.517300     -40.918698   3.317447  5155.199265  ...   \n",
       "unknown        93.471250     -40.820000   3.313038  5157.393750  ...   \n",
       "\n",
       "          month_oct  month_sep  day_of_week_fri  day_of_week_mon  \\\n",
       "marital                                                            \n",
       "divorced   0.014527   0.010841         0.183868         0.213790   \n",
       "married    0.016006   0.013278         0.192194         0.208360   \n",
       "single     0.021525   0.016338         0.188105         0.200121   \n",
       "unknown    0.037500   0.000000         0.150000         0.237500   \n",
       "\n",
       "          day_of_week_thu  day_of_week_tue  day_of_week_wed  poutcome_failure  \\\n",
       "marital                                                                         \n",
       "divorced         0.198395         0.208369         0.195577          0.108846   \n",
       "married          0.206475         0.196807         0.196165          0.095635   \n",
       "single           0.219312         0.191217         0.201245          0.116961   \n",
       "unknown          0.300000         0.137500         0.175000          0.162500   \n",
       "\n",
       "          poutcome_nonexistent  poutcome_success  \n",
       "marital                                           \n",
       "divorced              0.863183          0.027971  \n",
       "married               0.875361          0.029004  \n",
       "single                0.838434          0.044606  \n",
       "unknown               0.775000          0.062500  \n",
       "\n",
       "[4 rows x 62 columns]"
      ]
     },
     "execution_count": 55,
     "metadata": {},
     "output_type": "execute_result"
    }
   ],
   "source": [
    "data.groupby('marital').mean()"
   ]
  },
  {
   "cell_type": "code",
   "execution_count": 56,
   "metadata": {},
   "outputs": [
    {
     "data": {
      "text/html": [
       "<div>\n",
       "<style scoped>\n",
       "    .dataframe tbody tr th:only-of-type {\n",
       "        vertical-align: middle;\n",
       "    }\n",
       "\n",
       "    .dataframe tbody tr th {\n",
       "        vertical-align: top;\n",
       "    }\n",
       "\n",
       "    .dataframe thead th {\n",
       "        text-align: right;\n",
       "    }\n",
       "</style>\n",
       "<table border=\"1\" class=\"dataframe\">\n",
       "  <thead>\n",
       "    <tr style=\"text-align: right;\">\n",
       "      <th></th>\n",
       "      <th>age</th>\n",
       "      <th>duration</th>\n",
       "      <th>campaign</th>\n",
       "      <th>pdays</th>\n",
       "      <th>previous</th>\n",
       "      <th>emp_var_rate</th>\n",
       "      <th>cons_price_idx</th>\n",
       "      <th>cons_conf_idx</th>\n",
       "      <th>euribor3m</th>\n",
       "      <th>nr_employed</th>\n",
       "      <th>...</th>\n",
       "      <th>month_oct</th>\n",
       "      <th>month_sep</th>\n",
       "      <th>day_of_week_fri</th>\n",
       "      <th>day_of_week_mon</th>\n",
       "      <th>day_of_week_thu</th>\n",
       "      <th>day_of_week_tue</th>\n",
       "      <th>day_of_week_wed</th>\n",
       "      <th>poutcome_failure</th>\n",
       "      <th>poutcome_nonexistent</th>\n",
       "      <th>poutcome_success</th>\n",
       "    </tr>\n",
       "    <tr>\n",
       "      <th>education</th>\n",
       "      <th></th>\n",
       "      <th></th>\n",
       "      <th></th>\n",
       "      <th></th>\n",
       "      <th></th>\n",
       "      <th></th>\n",
       "      <th></th>\n",
       "      <th></th>\n",
       "      <th></th>\n",
       "      <th></th>\n",
       "      <th></th>\n",
       "      <th></th>\n",
       "      <th></th>\n",
       "      <th></th>\n",
       "      <th></th>\n",
       "      <th></th>\n",
       "      <th></th>\n",
       "      <th></th>\n",
       "      <th></th>\n",
       "      <th></th>\n",
       "      <th></th>\n",
       "    </tr>\n",
       "  </thead>\n",
       "  <tbody>\n",
       "    <tr>\n",
       "      <th>Basic</th>\n",
       "      <td>42.163910</td>\n",
       "      <td>263.043874</td>\n",
       "      <td>2.559498</td>\n",
       "      <td>974.877967</td>\n",
       "      <td>0.141053</td>\n",
       "      <td>0.191329</td>\n",
       "      <td>93.639933</td>\n",
       "      <td>-40.927595</td>\n",
       "      <td>3.729654</td>\n",
       "      <td>5172.014113</td>\n",
       "      <td>...</td>\n",
       "      <td>0.013186</td>\n",
       "      <td>0.007432</td>\n",
       "      <td>0.187565</td>\n",
       "      <td>0.200272</td>\n",
       "      <td>0.206425</td>\n",
       "      <td>0.197794</td>\n",
       "      <td>0.207944</td>\n",
       "      <td>0.096060</td>\n",
       "      <td>0.881803</td>\n",
       "      <td>0.022137</td>\n",
       "    </tr>\n",
       "    <tr>\n",
       "      <th>high.school</th>\n",
       "      <td>37.998213</td>\n",
       "      <td>260.886810</td>\n",
       "      <td>2.568576</td>\n",
       "      <td>964.358382</td>\n",
       "      <td>0.185917</td>\n",
       "      <td>0.032937</td>\n",
       "      <td>93.584857</td>\n",
       "      <td>-40.940641</td>\n",
       "      <td>3.556157</td>\n",
       "      <td>5164.994735</td>\n",
       "      <td>...</td>\n",
       "      <td>0.017551</td>\n",
       "      <td>0.011245</td>\n",
       "      <td>0.194955</td>\n",
       "      <td>0.214083</td>\n",
       "      <td>0.194640</td>\n",
       "      <td>0.196952</td>\n",
       "      <td>0.199369</td>\n",
       "      <td>0.117604</td>\n",
       "      <td>0.851498</td>\n",
       "      <td>0.030899</td>\n",
       "    </tr>\n",
       "    <tr>\n",
       "      <th>illiterate</th>\n",
       "      <td>48.500000</td>\n",
       "      <td>276.777778</td>\n",
       "      <td>2.277778</td>\n",
       "      <td>943.833333</td>\n",
       "      <td>0.111111</td>\n",
       "      <td>-0.133333</td>\n",
       "      <td>93.317333</td>\n",
       "      <td>-39.950000</td>\n",
       "      <td>3.516556</td>\n",
       "      <td>5171.777778</td>\n",
       "      <td>...</td>\n",
       "      <td>0.000000</td>\n",
       "      <td>0.000000</td>\n",
       "      <td>0.222222</td>\n",
       "      <td>0.055556</td>\n",
       "      <td>0.333333</td>\n",
       "      <td>0.277778</td>\n",
       "      <td>0.111111</td>\n",
       "      <td>0.055556</td>\n",
       "      <td>0.888889</td>\n",
       "      <td>0.055556</td>\n",
       "    </tr>\n",
       "    <tr>\n",
       "      <th>professional.course</th>\n",
       "      <td>40.080107</td>\n",
       "      <td>252.533855</td>\n",
       "      <td>2.586115</td>\n",
       "      <td>960.765974</td>\n",
       "      <td>0.163075</td>\n",
       "      <td>0.173012</td>\n",
       "      <td>93.569864</td>\n",
       "      <td>-40.124108</td>\n",
       "      <td>3.710457</td>\n",
       "      <td>5170.155979</td>\n",
       "      <td>...</td>\n",
       "      <td>0.019264</td>\n",
       "      <td>0.017356</td>\n",
       "      <td>0.184627</td>\n",
       "      <td>0.200839</td>\n",
       "      <td>0.220484</td>\n",
       "      <td>0.206180</td>\n",
       "      <td>0.187870</td>\n",
       "      <td>0.095937</td>\n",
       "      <td>0.869159</td>\n",
       "      <td>0.034904</td>\n",
       "    </tr>\n",
       "    <tr>\n",
       "      <th>university.degree</th>\n",
       "      <td>38.879191</td>\n",
       "      <td>253.223373</td>\n",
       "      <td>2.563527</td>\n",
       "      <td>951.807692</td>\n",
       "      <td>0.192390</td>\n",
       "      <td>-0.028090</td>\n",
       "      <td>93.493466</td>\n",
       "      <td>-39.975805</td>\n",
       "      <td>3.529663</td>\n",
       "      <td>5163.226298</td>\n",
       "      <td>...</td>\n",
       "      <td>0.020874</td>\n",
       "      <td>0.018738</td>\n",
       "      <td>0.186637</td>\n",
       "      <td>0.211292</td>\n",
       "      <td>0.218442</td>\n",
       "      <td>0.189596</td>\n",
       "      <td>0.194034</td>\n",
       "      <td>0.102071</td>\n",
       "      <td>0.854126</td>\n",
       "      <td>0.043803</td>\n",
       "    </tr>\n",
       "    <tr>\n",
       "      <th>unknown</th>\n",
       "      <td>43.481225</td>\n",
       "      <td>262.390526</td>\n",
       "      <td>2.596187</td>\n",
       "      <td>942.830734</td>\n",
       "      <td>0.226459</td>\n",
       "      <td>0.059099</td>\n",
       "      <td>93.658615</td>\n",
       "      <td>-39.877816</td>\n",
       "      <td>3.571098</td>\n",
       "      <td>5159.549509</td>\n",
       "      <td>...</td>\n",
       "      <td>0.017909</td>\n",
       "      <td>0.029463</td>\n",
       "      <td>0.220682</td>\n",
       "      <td>0.199884</td>\n",
       "      <td>0.212594</td>\n",
       "      <td>0.201040</td>\n",
       "      <td>0.165800</td>\n",
       "      <td>0.106875</td>\n",
       "      <td>0.844021</td>\n",
       "      <td>0.049105</td>\n",
       "    </tr>\n",
       "  </tbody>\n",
       "</table>\n",
       "<p>6 rows × 62 columns</p>\n",
       "</div>"
      ],
      "text/plain": [
       "                           age    duration  campaign       pdays  previous  \\\n",
       "education                                                                    \n",
       "Basic                42.163910  263.043874  2.559498  974.877967  0.141053   \n",
       "high.school          37.998213  260.886810  2.568576  964.358382  0.185917   \n",
       "illiterate           48.500000  276.777778  2.277778  943.833333  0.111111   \n",
       "professional.course  40.080107  252.533855  2.586115  960.765974  0.163075   \n",
       "university.degree    38.879191  253.223373  2.563527  951.807692  0.192390   \n",
       "unknown              43.481225  262.390526  2.596187  942.830734  0.226459   \n",
       "\n",
       "                     emp_var_rate  cons_price_idx  cons_conf_idx  euribor3m  \\\n",
       "education                                                                     \n",
       "Basic                    0.191329       93.639933     -40.927595   3.729654   \n",
       "high.school              0.032937       93.584857     -40.940641   3.556157   \n",
       "illiterate              -0.133333       93.317333     -39.950000   3.516556   \n",
       "professional.course      0.173012       93.569864     -40.124108   3.710457   \n",
       "university.degree       -0.028090       93.493466     -39.975805   3.529663   \n",
       "unknown                  0.059099       93.658615     -39.877816   3.571098   \n",
       "\n",
       "                     nr_employed  ...  month_oct  month_sep  day_of_week_fri  \\\n",
       "education                         ...                                          \n",
       "Basic                5172.014113  ...   0.013186   0.007432         0.187565   \n",
       "high.school          5164.994735  ...   0.017551   0.011245         0.194955   \n",
       "illiterate           5171.777778  ...   0.000000   0.000000         0.222222   \n",
       "professional.course  5170.155979  ...   0.019264   0.017356         0.184627   \n",
       "university.degree    5163.226298  ...   0.020874   0.018738         0.186637   \n",
       "unknown              5159.549509  ...   0.017909   0.029463         0.220682   \n",
       "\n",
       "                     day_of_week_mon  day_of_week_thu  day_of_week_tue  \\\n",
       "education                                                                \n",
       "Basic                       0.200272         0.206425         0.197794   \n",
       "high.school                 0.214083         0.194640         0.196952   \n",
       "illiterate                  0.055556         0.333333         0.277778   \n",
       "professional.course         0.200839         0.220484         0.206180   \n",
       "university.degree           0.211292         0.218442         0.189596   \n",
       "unknown                     0.199884         0.212594         0.201040   \n",
       "\n",
       "                     day_of_week_wed  poutcome_failure  poutcome_nonexistent  \\\n",
       "education                                                                      \n",
       "Basic                       0.207944          0.096060              0.881803   \n",
       "high.school                 0.199369          0.117604              0.851498   \n",
       "illiterate                  0.111111          0.055556              0.888889   \n",
       "professional.course         0.187870          0.095937              0.869159   \n",
       "university.degree           0.194034          0.102071              0.854126   \n",
       "unknown                     0.165800          0.106875              0.844021   \n",
       "\n",
       "                     poutcome_success  \n",
       "education                              \n",
       "Basic                        0.022137  \n",
       "high.school                  0.030899  \n",
       "illiterate                   0.055556  \n",
       "professional.course          0.034904  \n",
       "university.degree            0.043803  \n",
       "unknown                      0.049105  \n",
       "\n",
       "[6 rows x 62 columns]"
      ]
     },
     "execution_count": 56,
     "metadata": {},
     "output_type": "execute_result"
    }
   ],
   "source": [
    "data.groupby('education').mean()"
   ]
  },
  {
   "cell_type": "markdown",
   "metadata": {},
   "source": [
    "#### Visualizations"
   ]
  },
  {
   "cell_type": "code",
   "execution_count": 61,
   "metadata": {},
   "outputs": [
    {
     "data": {
      "image/png": "[encoded data removed]",
      "text/plain": [
       "<Figure size 432x288 with 1 Axes>"
      ]
     },
     "metadata": {
      "needs_background": "light"
     },
     "output_type": "display_data"
    }
   ],
   "source": [
    "%matplotlib inline\n",
    "pd.crosstab(data.job,data.y).plot(kind='bar')\n",
    "#plt.figure(figsize=(16,8))\n",
    "plt.title('Purchase Frequency for Job title')\n",
    "plt.xlabel('Job')\n",
    "plt.ylabel('Frequency of Purchase')\n",
    "plt.savefig('purchase_fre_job')"
   ]
  },
  {
   "cell_type": "markdown",
   "metadata": {},
   "source": [
    "The frequency of purchase of the deposit depends a great deal on the job title. Thus, the job title can be a good predictor of the outcome variable."
   ]
  },
  {
   "cell_type": "code",
   "execution_count": 62,
   "metadata": {},
   "outputs": [
    {
     "data": {
      "image/png": "[encoded data removed]",
      "text/plain": [
       "<Figure size 432x288 with 1 Axes>"
      ]
     },
     "metadata": {
      "needs_background": "light"
     },
     "output_type": "display_data"
    }
   ],
   "source": [
    "table=pd.crosstab(data.marital,data.y)\n",
    "table.div(table.sum(1).astype(float),axis=0).plot(kind='bar',stacked=True)\n",
    "plt.title('Stacked Bar chart of Marital Status vs Purchase')\n",
    "plt.xlabel('Marital Status')\n",
    "plt.ylabel('Proportion of Customers')\n",
    "plt.savefig('mariral_vs_pur_stack')"
   ]
  },
  {
   "cell_type": "markdown",
   "metadata": {},
   "source": [
    "The marital status does not seem a strong predictor for the outcome variable."
   ]
  },
  {
   "cell_type": "code",
   "execution_count": 19,
   "metadata": {},
   "outputs": [
    {
     "data": {
      "image/png": "[encoded data removed]",
      "text/plain": [
       "<Figure size 432x288 with 1 Axes>"
      ]
     },
     "metadata": {
      "needs_background": "light"
     },
     "output_type": "display_data"
    }
   ],
   "source": [
    "table=pd.crosstab(data.education,data.y)\n",
    "table.div(table.sum(1).astype(float), axis=0).plot(kind='bar', stacked=True)\n",
    "plt.title('Stacked Bar Chart of Education vs Purchase')\n",
    "plt.xlabel('Education')\n",
    "plt.ylabel('Proportion of Customers')\n",
    "plt.savefig('edu_vs_pur_stack')"
   ]
  },
  {
   "cell_type": "markdown",
   "metadata": {},
   "source": [
    "Education seems a good predicator of the outcome variable"
   ]
  },
  {
   "cell_type": "code",
   "execution_count": 20,
   "metadata": {},
   "outputs": [
    {
     "data": {
      "image/png": "[encoded data removed]",
      "text/plain": [
       "<Figure size 432x288 with 1 Axes>"
      ]
     },
     "metadata": {
      "needs_background": "light"
     },
     "output_type": "display_data"
    }
   ],
   "source": [
    "pd.crosstab(data.day_of_week,data.y).plot(kind='bar')\n",
    "plt.title('Purchase Frequency for Day of Week')\n",
    "plt.xlabel('Day of Week')\n",
    "plt.ylabel('Frequency of Purchase')\n",
    "plt.savefig('pur_dayofweek_bar')"
   ]
  },
  {
   "cell_type": "markdown",
   "metadata": {},
   "source": [
    "Day of week may not be a good predictor of the outcome"
   ]
  },
  {
   "cell_type": "code",
   "execution_count": 21,
   "metadata": {},
   "outputs": [
    {
     "data": {
      "image/png": "[encoded data removed]",
      "text/plain": [
       "<Figure size 432x288 with 1 Axes>"
      ]
     },
     "metadata": {
      "needs_background": "light"
     },
     "output_type": "display_data"
    }
   ],
   "source": [
    "pd.crosstab(data.month,data.y).plot(kind='bar')\n",
    "plt.title('Purchase Frequency for Month')\n",
    "plt.xlabel('Month')\n",
    "plt.ylabel('Frequency of Purchase')\n",
    "plt.savefig('pur_fre_month_bar')"
   ]
  },
  {
   "cell_type": "markdown",
   "metadata": {},
   "source": [
    "Month might be a good predictor of the outcome variable."
   ]
  },
  {
   "cell_type": "code",
   "execution_count": 22,
   "metadata": {},
   "outputs": [
    {
     "data": {
      "image/png": "[encoded data removed]",
      "text/plain": [
       "<Figure size 432x288 with 1 Axes>"
      ]
     },
     "metadata": {
      "needs_background": "light"
     },
     "output_type": "display_data"
    }
   ],
   "source": [
    "data.age.hist()\n",
    "plt.title('Histogram of Age')\n",
    "plt.xlabel('Age')\n",
    "plt.ylabel('Frequency')\n",
    "plt.savefig('hist_age')"
   ]
  },
  {
   "cell_type": "markdown",
   "metadata": {},
   "source": [
    "Most of the customers of the bank in this dataset are in the age range of 30–40."
   ]
  },
  {
   "cell_type": "code",
   "execution_count": 23,
   "metadata": {},
   "outputs": [
    {
     "data": {
      "image/png": "[encoded data removed]",
      "text/plain": [
       "<Figure size 432x288 with 1 Axes>"
      ]
     },
     "metadata": {
      "needs_background": "light"
     },
     "output_type": "display_data"
    }
   ],
   "source": [
    "pd.crosstab(data.poutcome,data.y).plot(kind='bar')\n",
    "plt.title('Purchase Frequency for Poutcome')\n",
    "plt.xlabel('Poutcome')\n",
    "plt.ylabel('Frequency of Purchase')\n",
    "plt.savefig('pur_fre_pout_bar')"
   ]
  },
  {
   "cell_type": "markdown",
   "metadata": {},
   "source": [
    "### Create dummy variables\n",
    "That is variables with only two values, zero and one.\n"
   ]
  },
  {
   "cell_type": "code",
   "execution_count": 24,
   "metadata": {},
   "outputs": [],
   "source": [
    "cat_vars=['job','marital','education','default','housing','loan','contact','month','day_of_week','poutcome']\n",
    "for var in cat_vars:\n",
    "    cat_list='var'+'_'+var\n",
    "    cat_list = pd.get_dummies(data[var], prefix=var)\n",
    "    data1=data.join(cat_list)\n",
    "    data=data1\n",
    "cat_vars=['job','marital','education','default','housing','loan','contact','month','day_of_week','poutcome']\n",
    "data_vars=data.columns.values.tolist()\n",
    "to_keep=[i for i in data_vars if i not in cat_vars]"
   ]
  },
  {
   "cell_type": "raw",
   "metadata": {},
   "source": [
    "Our final data columns will be"
   ]
  },
  {
   "cell_type": "code",
   "execution_count": 25,
   "metadata": {},
   "outputs": [
    {
     "data": {
      "text/plain": [
       "array(['age', 'duration', 'campaign', 'pdays', 'previous', 'emp_var_rate',\n",
       "       'cons_price_idx', 'cons_conf_idx', 'euribor3m', 'nr_employed', 'y',\n",
       "       'job_admin.', 'job_blue-collar', 'job_entrepreneur',\n",
       "       'job_housemaid', 'job_management', 'job_retired',\n",
       "       'job_self-employed', 'job_services', 'job_student',\n",
       "       'job_technician', 'job_unemployed', 'job_unknown',\n",
       "       'marital_divorced', 'marital_married', 'marital_single',\n",
       "       'marital_unknown', 'education_Basic', 'education_high.school',\n",
       "       'education_illiterate', 'education_professional.course',\n",
       "       'education_university.degree', 'education_unknown', 'default_no',\n",
       "       'default_unknown', 'default_yes', 'housing_no', 'housing_unknown',\n",
       "       'housing_yes', 'loan_no', 'loan_unknown', 'loan_yes',\n",
       "       'contact_cellular', 'contact_telephone', 'month_apr', 'month_aug',\n",
       "       'month_dec', 'month_jul', 'month_jun', 'month_mar', 'month_may',\n",
       "       'month_nov', 'month_oct', 'month_sep', 'day_of_week_fri',\n",
       "       'day_of_week_mon', 'day_of_week_thu', 'day_of_week_tue',\n",
       "       'day_of_week_wed', 'poutcome_failure', 'poutcome_nonexistent',\n",
       "       'poutcome_success'], dtype=object)"
      ]
     },
     "execution_count": 25,
     "metadata": {},
     "output_type": "execute_result"
    }
   ],
   "source": [
    "data_final=data[to_keep]\n",
    "data_final.columns.values"
   ]
  },
  {
   "cell_type": "markdown",
   "metadata": {},
   "source": [
    "We are going to implement SMOTE in Python."
   ]
  },
  {
   "cell_type": "code",
   "execution_count": 27,
   "metadata": {},
   "outputs": [
    {
     "name": "stdout",
     "output_type": "stream",
     "text": [
      "Warning: Maximum number of iterations has been exceeded.\n",
      "         Current function value: 0.207332\n",
      "         Iterations: 35\n"
     ]
    },
    {
     "name": "stderr",
     "output_type": "stream",
     "text": [
      "/home/pandit/anaconda3/lib/python3.7/site-packages/statsmodels/base/model.py:508: ConvergenceWarning: Maximum Likelihood optimization failed to converge. Check mle_retvals\n",
      "  \"Check mle_retvals\", ConvergenceWarning)\n",
      "/home/pandit/anaconda3/lib/python3.7/site-packages/statsmodels/base/model.py:1092: RuntimeWarning: invalid value encountered in sqrt\n",
      "  bse_ = np.sqrt(np.diag(self.cov_params()))\n",
      "/home/pandit/anaconda3/lib/python3.7/site-packages/scipy/stats/_distn_infrastructure.py:877: RuntimeWarning: invalid value encountered in greater\n",
      "  return (self.a < x) & (x < self.b)\n",
      "/home/pandit/anaconda3/lib/python3.7/site-packages/scipy/stats/_distn_infrastructure.py:877: RuntimeWarning: invalid value encountered in less\n",
      "  return (self.a < x) & (x < self.b)\n",
      "/home/pandit/anaconda3/lib/python3.7/site-packages/scipy/stats/_distn_infrastructure.py:1831: RuntimeWarning: invalid value encountered in less_equal\n",
      "  cond2 = cond0 & (x <= self.a)\n"
     ]
    },
    {
     "name": "stdout",
     "output_type": "stream",
     "text": [
      "                                           Results: Logit\n",
      "====================================================================================================\n",
      "Model:                           Logit                       Pseudo R-squared:            0.411     \n",
      "Dependent Variable:              y                           AIC:                         17181.1442\n",
      "Date:                            2019-08-16 07:46            BIC:                         17621.0653\n",
      "No. Observations:                41188                       Log-Likelihood:              -8539.6   \n",
      "Df Model:                        50                          LL-Null:                     -14499.   \n",
      "Df Residuals:                    41137                       LLR p-value:                 0.0000    \n",
      "Converged:                       0.0000                      Scale:                       1.0000    \n",
      "No. Iterations:                  35.0000                                                            \n",
      "----------------------------------------------------------------------------------------------------\n",
      "                               Coef.      Std.Err.       z     P>|z|       [0.025         0.975]    \n",
      "----------------------------------------------------------------------------------------------------\n",
      "age                             0.0001         0.0024   0.0410 0.9673         -0.0046         0.0048\n",
      "duration                        0.0047         0.0001  63.1105 0.0000          0.0046         0.0049\n",
      "campaign                       -0.0402         0.0116  -3.4745 0.0005         -0.0628        -0.0175\n",
      "pdays                          -0.0009         0.0002  -4.3240 0.0000         -0.0014        -0.0005\n",
      "previous                       -0.0624         0.0591  -1.0550 0.2914         -0.1782         0.0535\n",
      "emp_var_rate                   -1.7570         0.1420 -12.3767 0.0000         -2.0352        -1.4787\n",
      "cons_price_idx                  2.1881         0.2523   8.6711 0.0000          1.6935         2.6827\n",
      "cons_conf_idx                   0.0206         0.0078   2.6569 0.0079          0.0054         0.0359\n",
      "euribor3m                       0.3318         0.1299   2.5531 0.0107          0.0771         0.5865\n",
      "nr_employed                     0.0054         0.0031   1.7344 0.0828         -0.0007         0.0115\n",
      "job_admin.                     -7.7584    121026.6885  -0.0001 0.9999    -237215.7090    237200.1922\n",
      "job_blue-collar                -7.9915    510932.3012  -0.0000 1.0000   -1001416.9003   1001400.9173\n",
      "job_entrepreneur               -7.9366    456178.7844  -0.0000 1.0000    -894101.9244    894086.0513\n",
      "job_housemaid                  -7.7871    158840.8366  -0.0000 1.0000    -311330.1061    311314.5319\n",
      "job_management                 -7.8141    394946.2557  -0.0000 1.0000    -774088.2512    774072.6230\n",
      "job_retired                    -7.4757            nan      nan    nan             nan            nan\n",
      "job_self-employed              -7.9190    488119.3923  -0.0000 1.0000    -956704.3481    956688.5101\n",
      "job_services                   -7.8946    470388.7478  -0.0000 1.0000    -921952.8989    921937.1098\n",
      "job_student                    -7.5566    487783.6008  -0.0000 1.0000    -956045.8464    956030.7331\n",
      "job_technician                 -7.7732    327826.9601  -0.0000 1.0000    -642536.8082    642521.2618\n",
      "job_unemployed                 -7.7414    534697.8518  -0.0000 1.0000   -1047996.2735   1047980.7907\n",
      "job_unknown                    -7.8264    410551.1576  -0.0000 1.0000    -804673.3092    804657.6563\n",
      "marital_divorced              -23.3767    472000.5059  -0.0000 1.0000    -925127.3690    925080.6155\n",
      "marital_married               -23.3784            nan      nan    nan             nan            nan\n",
      "marital_single                -23.3217    357746.5195  -0.0001 0.9999    -701193.6155    701146.9722\n",
      "marital_unknown               -23.3442            nan      nan    nan             nan            nan\n",
      "education_Basic               -15.8228            nan      nan    nan             nan            nan\n",
      "education_high.school         -15.7954            nan      nan    nan             nan            nan\n",
      "education_illiterate          -14.7761            nan      nan    nan             nan            nan\n",
      "education_professional.course -15.7277            nan      nan    nan             nan            nan\n",
      "education_university.degree   -15.6470            nan      nan    nan             nan            nan\n",
      "education_unknown             -15.6932            nan      nan    nan             nan            nan\n",
      "default_no                    -26.4821   1210146.0802  -0.0000 1.0000   -2371869.2153   2371816.2511\n",
      "default_unknown               -26.7800            nan      nan    nan             nan            nan\n",
      "default_yes                   -40.2004            nan      nan    nan             nan            nan\n",
      "housing_no                    -31.1512            nan      nan    nan             nan            nan\n",
      "housing_unknown               -31.1869 177212709.6559  -0.0000 1.0000 -347330559.7153 347330497.3414\n",
      "housing_yes                   -31.1561            nan      nan    nan             nan            nan\n",
      "loan_no                       -31.1253   1077525.4726  -0.0000 1.0000   -2111942.2441   2111879.9935\n",
      "loan_unknown                  -31.1831 171698626.6778  -0.0000 1.0000 -336523155.6666 336523093.3004\n",
      "loan_yes                      -31.1774   1059913.6523  -0.0000 1.0000   -2077423.7626   2077361.4079\n",
      "contact_cellular              -41.8088            nan      nan    nan             nan            nan\n",
      "contact_telephone             -42.4538            nan      nan    nan             nan            nan\n",
      "month_apr                      -9.5890            nan      nan    nan             nan            nan\n",
      "month_aug                      -8.7245            nan      nan    nan             nan            nan\n",
      "month_dec                      -9.2726            nan      nan    nan             nan            nan\n",
      "month_jul                      -9.4540            nan      nan    nan             nan            nan\n",
      "month_jun                     -10.1123            nan      nan    nan             nan            nan\n",
      "month_mar                      -7.5759            nan      nan    nan             nan            nan\n",
      "month_may                     -10.0327            nan      nan    nan             nan            nan\n",
      "month_nov                     -10.0069            nan      nan    nan             nan            nan\n",
      "month_oct                      -9.3945            nan      nan    nan             nan            nan\n",
      "month_sep                      -9.2137            nan      nan    nan             nan            nan\n",
      "day_of_week_fri               -18.3032    285346.2320  -0.0001 0.9999    -559286.6411    559250.0348\n",
      "day_of_week_mon               -18.4208    292520.4523  -0.0001 0.9999    -573347.9721    573311.1305\n",
      "day_of_week_thu               -18.2469    280991.5185  -0.0001 0.9999    -550751.5031    550715.0093\n",
      "day_of_week_tue               -18.2060    280951.3338  -0.0001 0.9999    -550672.7017    550636.2897\n",
      "day_of_week_wed               -18.1279    283478.5310  -0.0001 0.9999    -555625.8390    555589.5833\n",
      "poutcome_failure              -30.8864            nan      nan    nan             nan            nan\n",
      "poutcome_nonexistent          -30.4601            nan      nan    nan             nan            nan\n",
      "poutcome_success              -29.9261            nan      nan    nan             nan            nan\n",
      "====================================================================================================\n",
      "\n"
     ]
    }
   ],
   "source": [
    "import statsmodels.api as sm\n",
    "logit_model=sm.Logit(y,X)\n",
    "result=logit_model.fit()\n",
    "print(result.summary2())"
   ]
  },
  {
   "cell_type": "markdown",
   "metadata": {},
   "source": [
    "The p-values for most of the variables are smaller than 0.05, except four variables, therefore, we will remove them."
   ]
  },
  {
   "cell_type": "code",
   "execution_count": 42,
   "metadata": {},
   "outputs": [],
   "source": [
    "X = data_final.loc[:, data_final.columns != 'y']\n",
    "y = data_final.loc[:, data_final.columns == 'y']"
   ]
  },
  {
   "cell_type": "markdown",
   "metadata": {},
   "source": [
    "#### Logistic Regression Model Fitting"
   ]
  },
  {
   "cell_type": "code",
   "execution_count": 43,
   "metadata": {},
   "outputs": [
    {
     "name": "stderr",
     "output_type": "stream",
     "text": [
      "/home/pandit/anaconda3/lib/python3.7/site-packages/sklearn/linear_model/logistic.py:433: FutureWarning: Default solver will be changed to 'lbfgs' in 0.22. Specify a solver to silence this warning.\n",
      "  FutureWarning)\n",
      "/home/pandit/anaconda3/lib/python3.7/site-packages/sklearn/utils/validation.py:761: DataConversionWarning: A column-vector y was passed when a 1d array was expected. Please change the shape of y to (n_samples, ), for example using ravel().\n",
      "  y = column_or_1d(y, warn=True)\n"
     ]
    },
    {
     "data": {
      "text/plain": [
       "LogisticRegression(C=1.0, class_weight=None, dual=False, fit_intercept=True,\n",
       "          intercept_scaling=1, max_iter=100, multi_class='warn',\n",
       "          n_jobs=None, penalty='l2', random_state=None, solver='warn',\n",
       "          tol=0.0001, verbose=0, warm_start=False)"
      ]
     },
     "execution_count": 43,
     "metadata": {},
     "output_type": "execute_result"
    }
   ],
   "source": [
    "from sklearn.linear_model import LogisticRegression\n",
    "from sklearn import metrics\n",
    "X_train, X_test, y_train, y_test = train_test_split(X, y, test_size=0.3, random_state=0)\n",
    "logreg = LogisticRegression()\n",
    "logreg.fit(X_train, y_train)"
   ]
  },
  {
   "cell_type": "markdown",
   "metadata": {},
   "source": [
    "#### Predicating the test set results and calculating the accuracy"
   ]
  },
  {
   "cell_type": "code",
   "execution_count": 44,
   "metadata": {},
   "outputs": [
    {
     "name": "stdout",
     "output_type": "stream",
     "text": [
      "Accuracy of logistic regression classifier on test set:0.91\n"
     ]
    }
   ],
   "source": [
    "y_pred=logreg.predict(X_test)\n",
    "print(\"Accuracy of logistic regression classifier on test set:{:.2f}\".format(logreg.score(X_test,y_test)))"
   ]
  },
  {
   "cell_type": "markdown",
   "metadata": {},
   "source": [
    "### Confustion Matrix"
   ]
  },
  {
   "cell_type": "code",
   "execution_count": 45,
   "metadata": {},
   "outputs": [
    {
     "name": "stdout",
     "output_type": "stream",
     "text": [
      "[[10718   263]\n",
      " [  811   565]]\n"
     ]
    }
   ],
   "source": [
    "from sklearn.metrics import confusion_matrix\n",
    "confusion_matrix=confusion_matrix(y_test,y_pred)\n",
    "print(confusion_matrix)"
   ]
  },
  {
   "cell_type": "markdown",
   "metadata": {},
   "source": [
    "Compute precision, recall, F-measure and support"
   ]
  },
  {
   "cell_type": "code",
   "execution_count": 46,
   "metadata": {},
   "outputs": [
    {
     "name": "stdout",
     "output_type": "stream",
     "text": [
      "              precision    recall  f1-score   support\n",
      "\n",
      "           0       0.93      0.98      0.95     10981\n",
      "           1       0.68      0.41      0.51      1376\n",
      "\n",
      "   micro avg       0.91      0.91      0.91     12357\n",
      "   macro avg       0.81      0.69      0.73     12357\n",
      "weighted avg       0.90      0.91      0.90     12357\n",
      "\n"
     ]
    }
   ],
   "source": [
    "from sklearn.metrics import classification_report\n",
    "print(classification_report(y_test,y_pred))"
   ]
  },
  {
   "cell_type": "markdown",
   "metadata": {},
   "source": [
    "### ROC Curve"
   ]
  },
  {
   "cell_type": "code",
   "execution_count": 47,
   "metadata": {},
   "outputs": [
    {
     "data": {
      "image/png": "[encoded data removed]",
      "text/plain": [
       "<Figure size 432x288 with 1 Axes>"
      ]
     },
     "metadata": {
      "needs_background": "light"
     },
     "output_type": "display_data"
    }
   ],
   "source": [
    "from sklearn.metrics import roc_auc_score\n",
    "from sklearn.metrics import roc_curve\n",
    "logit_roc_auc = roc_auc_score(y_test, logreg.predict(X_test))\n",
    "fpr, tpr, thresholds = roc_curve(y_test, logreg.predict_proba(X_test)[:,1])\n",
    "plt.figure()\n",
    "plt.plot(fpr, tpr, label='Logistic Regression (area = %0.2f)' % logit_roc_auc)\n",
    "plt.plot([0, 1], [0, 1],'r--')\n",
    "plt.xlim([0.0, 1.0])\n",
    "plt.ylim([0.0, 1.05])\n",
    "plt.xlabel('False Positive Rate')\n",
    "plt.ylabel('True Positive Rate')\n",
    "plt.title('Receiver operating characteristic')\n",
    "plt.legend(loc=\"lower right\")\n",
    "plt.savefig('Log_ROC')\n",
    "plt.show()"
   ]
  }
 ],
 "metadata": {
  "kernelspec": {
   "display_name": "Python 3",
   "language": "python",
   "name": "python3"
  },
  "language_info": {
   "codemirror_mode": {
    "name": "ipython",
    "version": 3
   },
   "file_extension": ".py",
   "mimetype": "text/x-python",
   "name": "python",
   "nbconvert_exporter": "python",
   "pygments_lexer": "ipython3",
   "version": "3.7.3"
  }
 },
 "nbformat": 4,
 "nbformat_minor": 2
}
