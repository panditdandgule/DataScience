{
 "cells": [
  {
   "cell_type": "markdown",
   "metadata": {},
   "source": [
    "### Kaggle_Digit_Recognizer"
   ]
  },
  {
   "cell_type": "markdown",
   "metadata": {},
   "source": [
    "#### Import Libraries"
   ]
  },
  {
   "cell_type": "code",
   "execution_count": 45,
   "metadata": {},
   "outputs": [],
   "source": [
    "import numpy as np\n",
    "import pandas as pd\n",
    "\n",
    "#import network module\n",
    "import src.network as network\n",
    "\n",
    "#import plotting/Visualization libraries\n",
    "import matplotlib as mpl\n",
    "import matplotlib.pyplot as plt\n",
    "import seaborn as sns\n",
    "\n",
    "# Set custom plotting values\n",
    "mpl.rcParams['figure.figsize']=(8,8)\n",
    "mpl.rcParams['lines.linewidth']=4\n",
    "mpl.rcParams['axes.labelsize']=20\n",
    "mpl.rcParams['xtick.labelsize']=20\n",
    "mpl.rcParams['ytick.labelsize']=20\n",
    "mpl.rcParams['xtick.major.size'] = 10\n",
    "mpl.rcParams['ytick.major.size'] = 10\n",
    "mpl.rcParams['lines.markersize'] = 1000\n",
    "mpl.rcParams['legend.fontsize'] = 18"
   ]
  },
  {
   "cell_type": "code",
   "execution_count": 46,
   "metadata": {},
   "outputs": [],
   "source": [
    "filepath = \"/home/pandit/DataScience/CodingNest/Projects/Classifications/Logistic Regression/Digit-Recognizer/\"\n",
    "training_data = pd.read_csv(filepath+'train.csv')\n",
    "test_data = pd.read_csv(filepath + 'test.csv')"
   ]
  },
  {
   "cell_type": "code",
   "execution_count": 47,
   "metadata": {},
   "outputs": [
    {
     "data": {
      "text/html": [
       "<div>\n",
       "<style scoped>\n",
       "    .dataframe tbody tr th:only-of-type {\n",
       "        vertical-align: middle;\n",
       "    }\n",
       "\n",
       "    .dataframe tbody tr th {\n",
       "        vertical-align: top;\n",
       "    }\n",
       "\n",
       "    .dataframe thead th {\n",
       "        text-align: right;\n",
       "    }\n",
       "</style>\n",
       "<table border=\"1\" class=\"dataframe\">\n",
       "  <thead>\n",
       "    <tr style=\"text-align: right;\">\n",
       "      <th></th>\n",
       "      <th>label</th>\n",
       "      <th>pixel0</th>\n",
       "      <th>pixel1</th>\n",
       "      <th>pixel2</th>\n",
       "      <th>pixel3</th>\n",
       "      <th>pixel4</th>\n",
       "      <th>pixel5</th>\n",
       "      <th>pixel6</th>\n",
       "      <th>pixel7</th>\n",
       "      <th>pixel8</th>\n",
       "      <th>...</th>\n",
       "      <th>pixel774</th>\n",
       "      <th>pixel775</th>\n",
       "      <th>pixel776</th>\n",
       "      <th>pixel777</th>\n",
       "      <th>pixel778</th>\n",
       "      <th>pixel779</th>\n",
       "      <th>pixel780</th>\n",
       "      <th>pixel781</th>\n",
       "      <th>pixel782</th>\n",
       "      <th>pixel783</th>\n",
       "    </tr>\n",
       "  </thead>\n",
       "  <tbody>\n",
       "    <tr>\n",
       "      <th>0</th>\n",
       "      <td>1</td>\n",
       "      <td>0</td>\n",
       "      <td>0</td>\n",
       "      <td>0</td>\n",
       "      <td>0</td>\n",
       "      <td>0</td>\n",
       "      <td>0</td>\n",
       "      <td>0</td>\n",
       "      <td>0</td>\n",
       "      <td>0</td>\n",
       "      <td>...</td>\n",
       "      <td>0</td>\n",
       "      <td>0</td>\n",
       "      <td>0</td>\n",
       "      <td>0</td>\n",
       "      <td>0</td>\n",
       "      <td>0</td>\n",
       "      <td>0</td>\n",
       "      <td>0</td>\n",
       "      <td>0</td>\n",
       "      <td>0</td>\n",
       "    </tr>\n",
       "    <tr>\n",
       "      <th>1</th>\n",
       "      <td>0</td>\n",
       "      <td>0</td>\n",
       "      <td>0</td>\n",
       "      <td>0</td>\n",
       "      <td>0</td>\n",
       "      <td>0</td>\n",
       "      <td>0</td>\n",
       "      <td>0</td>\n",
       "      <td>0</td>\n",
       "      <td>0</td>\n",
       "      <td>...</td>\n",
       "      <td>0</td>\n",
       "      <td>0</td>\n",
       "      <td>0</td>\n",
       "      <td>0</td>\n",
       "      <td>0</td>\n",
       "      <td>0</td>\n",
       "      <td>0</td>\n",
       "      <td>0</td>\n",
       "      <td>0</td>\n",
       "      <td>0</td>\n",
       "    </tr>\n",
       "    <tr>\n",
       "      <th>2</th>\n",
       "      <td>1</td>\n",
       "      <td>0</td>\n",
       "      <td>0</td>\n",
       "      <td>0</td>\n",
       "      <td>0</td>\n",
       "      <td>0</td>\n",
       "      <td>0</td>\n",
       "      <td>0</td>\n",
       "      <td>0</td>\n",
       "      <td>0</td>\n",
       "      <td>...</td>\n",
       "      <td>0</td>\n",
       "      <td>0</td>\n",
       "      <td>0</td>\n",
       "      <td>0</td>\n",
       "      <td>0</td>\n",
       "      <td>0</td>\n",
       "      <td>0</td>\n",
       "      <td>0</td>\n",
       "      <td>0</td>\n",
       "      <td>0</td>\n",
       "    </tr>\n",
       "  </tbody>\n",
       "</table>\n",
       "<p>3 rows × 785 columns</p>\n",
       "</div>"
      ],
      "text/plain": [
       "   label  pixel0  pixel1  pixel2  pixel3  pixel4  pixel5  pixel6  pixel7  \\\n",
       "0      1       0       0       0       0       0       0       0       0   \n",
       "1      0       0       0       0       0       0       0       0       0   \n",
       "2      1       0       0       0       0       0       0       0       0   \n",
       "\n",
       "   pixel8  ...  pixel774  pixel775  pixel776  pixel777  pixel778  pixel779  \\\n",
       "0       0  ...         0         0         0         0         0         0   \n",
       "1       0  ...         0         0         0         0         0         0   \n",
       "2       0  ...         0         0         0         0         0         0   \n",
       "\n",
       "   pixel780  pixel781  pixel782  pixel783  \n",
       "0         0         0         0         0  \n",
       "1         0         0         0         0  \n",
       "2         0         0         0         0  \n",
       "\n",
       "[3 rows x 785 columns]"
      ]
     },
     "execution_count": 47,
     "metadata": {},
     "output_type": "execute_result"
    }
   ],
   "source": [
    "training_data.head(3)"
   ]
  },
  {
   "cell_type": "code",
   "execution_count": 48,
   "metadata": {},
   "outputs": [
    {
     "data": {
      "text/html": [
       "<div>\n",
       "<style scoped>\n",
       "    .dataframe tbody tr th:only-of-type {\n",
       "        vertical-align: middle;\n",
       "    }\n",
       "\n",
       "    .dataframe tbody tr th {\n",
       "        vertical-align: top;\n",
       "    }\n",
       "\n",
       "    .dataframe thead th {\n",
       "        text-align: right;\n",
       "    }\n",
       "</style>\n",
       "<table border=\"1\" class=\"dataframe\">\n",
       "  <thead>\n",
       "    <tr style=\"text-align: right;\">\n",
       "      <th></th>\n",
       "      <th>pixel0</th>\n",
       "      <th>pixel1</th>\n",
       "      <th>pixel2</th>\n",
       "      <th>pixel3</th>\n",
       "      <th>pixel4</th>\n",
       "      <th>pixel5</th>\n",
       "      <th>pixel6</th>\n",
       "      <th>pixel7</th>\n",
       "      <th>pixel8</th>\n",
       "      <th>pixel9</th>\n",
       "      <th>...</th>\n",
       "      <th>pixel774</th>\n",
       "      <th>pixel775</th>\n",
       "      <th>pixel776</th>\n",
       "      <th>pixel777</th>\n",
       "      <th>pixel778</th>\n",
       "      <th>pixel779</th>\n",
       "      <th>pixel780</th>\n",
       "      <th>pixel781</th>\n",
       "      <th>pixel782</th>\n",
       "      <th>pixel783</th>\n",
       "    </tr>\n",
       "  </thead>\n",
       "  <tbody>\n",
       "    <tr>\n",
       "      <th>0</th>\n",
       "      <td>0</td>\n",
       "      <td>0</td>\n",
       "      <td>0</td>\n",
       "      <td>0</td>\n",
       "      <td>0</td>\n",
       "      <td>0</td>\n",
       "      <td>0</td>\n",
       "      <td>0</td>\n",
       "      <td>0</td>\n",
       "      <td>0</td>\n",
       "      <td>...</td>\n",
       "      <td>0</td>\n",
       "      <td>0</td>\n",
       "      <td>0</td>\n",
       "      <td>0</td>\n",
       "      <td>0</td>\n",
       "      <td>0</td>\n",
       "      <td>0</td>\n",
       "      <td>0</td>\n",
       "      <td>0</td>\n",
       "      <td>0</td>\n",
       "    </tr>\n",
       "    <tr>\n",
       "      <th>1</th>\n",
       "      <td>0</td>\n",
       "      <td>0</td>\n",
       "      <td>0</td>\n",
       "      <td>0</td>\n",
       "      <td>0</td>\n",
       "      <td>0</td>\n",
       "      <td>0</td>\n",
       "      <td>0</td>\n",
       "      <td>0</td>\n",
       "      <td>0</td>\n",
       "      <td>...</td>\n",
       "      <td>0</td>\n",
       "      <td>0</td>\n",
       "      <td>0</td>\n",
       "      <td>0</td>\n",
       "      <td>0</td>\n",
       "      <td>0</td>\n",
       "      <td>0</td>\n",
       "      <td>0</td>\n",
       "      <td>0</td>\n",
       "      <td>0</td>\n",
       "    </tr>\n",
       "    <tr>\n",
       "      <th>2</th>\n",
       "      <td>0</td>\n",
       "      <td>0</td>\n",
       "      <td>0</td>\n",
       "      <td>0</td>\n",
       "      <td>0</td>\n",
       "      <td>0</td>\n",
       "      <td>0</td>\n",
       "      <td>0</td>\n",
       "      <td>0</td>\n",
       "      <td>0</td>\n",
       "      <td>...</td>\n",
       "      <td>0</td>\n",
       "      <td>0</td>\n",
       "      <td>0</td>\n",
       "      <td>0</td>\n",
       "      <td>0</td>\n",
       "      <td>0</td>\n",
       "      <td>0</td>\n",
       "      <td>0</td>\n",
       "      <td>0</td>\n",
       "      <td>0</td>\n",
       "    </tr>\n",
       "  </tbody>\n",
       "</table>\n",
       "<p>3 rows × 784 columns</p>\n",
       "</div>"
      ],
      "text/plain": [
       "   pixel0  pixel1  pixel2  pixel3  pixel4  pixel5  pixel6  pixel7  pixel8  \\\n",
       "0       0       0       0       0       0       0       0       0       0   \n",
       "1       0       0       0       0       0       0       0       0       0   \n",
       "2       0       0       0       0       0       0       0       0       0   \n",
       "\n",
       "   pixel9  ...  pixel774  pixel775  pixel776  pixel777  pixel778  pixel779  \\\n",
       "0       0  ...         0         0         0         0         0         0   \n",
       "1       0  ...         0         0         0         0         0         0   \n",
       "2       0  ...         0         0         0         0         0         0   \n",
       "\n",
       "   pixel780  pixel781  pixel782  pixel783  \n",
       "0         0         0         0         0  \n",
       "1         0         0         0         0  \n",
       "2         0         0         0         0  \n",
       "\n",
       "[3 rows x 784 columns]"
      ]
     },
     "execution_count": 48,
     "metadata": {},
     "output_type": "execute_result"
    }
   ],
   "source": [
    "test_data.head(3)"
   ]
  },
  {
   "cell_type": "markdown",
   "metadata": {},
   "source": [
    "Let's take a quick detour to see what the images look like. We arbitrarily choose the second image in the training set (index from zero, so value 1 is the second image). The image is printed with 28 pixels to a row so as to make the digit in the image obvious.\n",
    "\n",
    "\n",
    "\n"
   ]
  },
  {
   "cell_type": "code",
   "execution_count": 49,
   "metadata": {},
   "outputs": [
    {
     "name": "stdout",
     "output_type": "stream",
     "text": [
      "\n",
      "\n",
      "  0   0   0   0   0   0   0   0   0   0   0   0   0   0   0   0   0   0   0   0   0   0   0   0   0   0   0   0 \n",
      "\n",
      "  0   0   0   0   0   0   0   0   0   0   0   0   0   0   0   0   0   0   0   0   0   0   0   0   0   0   0   0 \n",
      "\n",
      "  0   0   0   0   0   0   0   0   0   0   0   0   0   0   0   0   0   0   0   0   0   0   0   0   0   0   0   0 \n",
      "\n",
      "  0   0   0   0   0   0   0   0   0   0   0   0   0   0   0   0   0   0   0   0   0   0   0   0   0   0   0   0 \n",
      "\n",
      "  0   0   0   0   0   0   0   0   0   0  18  30 137 137 192  86  72   1   0   0   0   0   0   0   0   0   0   0 \n",
      "\n",
      "  0   0   0   0   0   0   0   0  13  86 250 254 254 254 254 217 246 151  32   0   0   0   0   0   0   0   0   0 \n",
      "\n",
      "  0   0   0   0   0   0   0  16 179 254 254 254 254 254 254 254 254 254 231  54  15   0   0   0   0   0   0   0 \n",
      "\n",
      "  0   0   0   0   0   0   0  72 254 254 254 254 254 254 254 254 254 254 254 254 104   0   0   0   0   0   0   0 \n",
      "\n",
      "  0   0   0   0   0   0  61 191 254 254 254 254 254 109  83 199 254 254 254 254 243  85   0   0   0   0   0   0 \n",
      "\n",
      "  0   0   0   0   0   0 172 254 254 254 202 147 147  45   0  11  29 200 254 254 254 171   0   0   0   0   0   0 \n",
      "\n",
      "  0   0   0   0   0   1 174 254 254  89  67   0   0   0   0   0   0 128 252 254 254 212  76   0   0   0   0   0 \n",
      "\n",
      "  0   0   0   0   0  47 254 254 254  29   0   0   0   0   0   0   0   0  83 254 254 254 153   0   0   0   0   0 \n",
      "\n",
      "  0   0   0   0   0  80 254 254 240  24   0   0   0   0   0   0   0   0  25 240 254 254 153   0   0   0   0   0 \n",
      "\n",
      "  0   0   0   0   0  64 254 254 186   7   0   0   0   0   0   0   0   0   0 166 254 254 224  12   0   0   0   0 \n",
      "\n",
      "  0   0   0   0  14 232 254 254 254  29   0   0   0   0   0   0   0   0   0  75 254 254 254  17   0   0   0   0 \n",
      "\n",
      "  0   0   0   0  18 254 254 254 254  29   0   0   0   0   0   0   0   0   0  48 254 254 254  17   0   0   0   0 \n",
      "\n",
      "  0   0   0   0   2 163 254 254 254  29   0   0   0   0   0   0   0   0   0  48 254 254 254  17   0   0   0   0 \n",
      "\n",
      "  0   0   0   0   0  94 254 254 254 200  12   0   0   0   0   0   0   0  16 209 254 254 150   1   0   0   0   0 \n",
      "\n",
      "  0   0   0   0   0  15 206 254 254 254 202  66   0   0   0   0   0  21 161 254 254 245  31   0   0   0   0   0 \n",
      "\n",
      "  0   0   0   0   0   0  60 212 254 254 254 194  48  48  34  41  48 209 254 254 254 171   0   0   0   0   0   0 \n",
      "\n",
      "  0   0   0   0   0   0   0  86 243 254 254 254 254 254 233 243 254 254 254 254 254  86   0   0   0   0   0   0 \n",
      "\n",
      "  0   0   0   0   0   0   0   0 114 254 254 254 254 254 254 254 254 254 254 239  86  11   0   0   0   0   0   0 \n",
      "\n",
      "  0   0   0   0   0   0   0   0  13 182 254 254 254 254 254 254 254 254 243  70   0   0   0   0   0   0   0   0 \n",
      "\n",
      "  0   0   0   0   0   0   0   0   0   8  76 146 254 255 254 255 146  19  15   0   0   0   0   0   0   0   0   0 \n",
      "\n",
      "  0   0   0   0   0   0   0   0   0   0   0   0   0   0   0   0   0   0   0   0   0   0   0   0   0   0   0   0 \n",
      "\n",
      "  0   0   0   0   0   0   0   0   0   0   0   0   0   0   0   0   0   0   0   0   0   0   0   0   0   0   0   0 \n",
      "\n",
      "  0   0   0   0   0   0   0   0   0   0   0   0   0   0   0   0   0   0   0   0   0   0   0   0   0   0   0   0 \n",
      "\n",
      "  0   0   0   0   0   0   0   0   0   0   0   0   0   0   0   0   0   0   0   0   0   0   0   0   0   0   0   0 "
     ]
    }
   ],
   "source": [
    "network.print_image(training_data, 1)"
   ]
  },
  {
   "cell_type": "code",
   "execution_count": 50,
   "metadata": {},
   "outputs": [
    {
     "name": "stdout",
     "output_type": "stream",
     "text": [
      "Image Label 0\n"
     ]
    }
   ],
   "source": [
    "# .iloc[1,0] chooses the second row (second image) and \n",
    "# first column (label) of the training dataset.\n",
    "print ('Image Label {}'.format(training_data.iloc[1,0]))"
   ]
  },
  {
   "cell_type": "markdown",
   "metadata": {},
   "source": [
    "### Data Wrangling\n",
    "\n",
    "Now let's actually see how many images we're working with in each set and start manipulating the data.\n",
    "\n"
   ]
  },
  {
   "cell_type": "code",
   "execution_count": 51,
   "metadata": {},
   "outputs": [
    {
     "name": "stdout",
     "output_type": "stream",
     "text": [
      "<class 'pandas.core.frame.DataFrame'>\n",
      "RangeIndex: 42000 entries, 0 to 41999\n",
      "Columns: 785 entries, label to pixel783\n",
      "dtypes: int64(785)\n",
      "memory usage: 251.5 MB\n",
      "\n",
      "\n",
      "<class 'pandas.core.frame.DataFrame'>\n",
      "RangeIndex: 28000 entries, 0 to 27999\n",
      "Columns: 784 entries, pixel0 to pixel783\n",
      "dtypes: int64(784)\n",
      "memory usage: 167.5 MB\n"
     ]
    }
   ],
   "source": [
    "training_data.info()\n",
    "print(\"\\n\")\n",
    "test_data.info()"
   ]
  },
  {
   "cell_type": "markdown",
   "metadata": {},
   "source": [
    "We see that our training set contains 42,000 images while our test set has 28,000 images. Note also that as expected, we have the correct number of columns for each (785 and 784 respectively).\n",
    "\n",
    "\n",
    "Let's separate our training data into a training set and a validation set. The training set will be used to fit our model and then we'll validate the model with the remaining data in the validation set. For simplicity, we fit using the first 40,000 images in the training set and validate against the last 2,000 entries. For ease of working with the data, we pull it from our dataframe into a numpy array and then format it using the function format_data. This is done for our training and validation set (for more details on the output format, consult the function defined in network.py).\n",
    "\n",
    "\n",
    "For our test data, we follow the same procedure but perform the formatting in the cell below and obviously do not have a label for each image. Note that the code requires a shape of (784,1) rather than (784,) for correct performance of numpy routines. Also note that we normalize the pixel values to be in the range $[0,1]$ rather than $[0,255]$. This is needed for the values that we later input into the sigmoid function to make sense."
   ]
  },
  {
   "cell_type": "code",
   "execution_count": 54,
   "metadata": {},
   "outputs": [],
   "source": [
    "#Create data sets\n",
    "train_ar=np.array(training_data.iloc[:40000])\n",
    "valid_ar=np.array(training_data.iloc[40000:42000])\n",
    "test_ar=np.array(test_data)\n",
    "\n",
    "# format training and validation set\n",
    "train_list = network.format_data (train_ar)\n",
    "valid_list = network.format_data (valid_ar)\n",
    "train_list = list(train_list)\n",
    "valid_list = list(valid_list)\n",
    "\n",
    "# format the test data\n",
    "test_list = [np.reshape(x, (784,1))/255 for x in test_ar]"
   ]
  },
  {
   "cell_type": "markdown",
   "metadata": {},
   "source": [
    "Neural Network Application\n",
    "Validation Pass\n",
    "\n",
    "Now let's create a neural network. We call the class name Network and give our network one hidden layer with 30 nodes. The choice of one hidden layer and the exact number of nodes is arbitrary at this point. Note that we also have an initial layer of 784 nodes (one node per pixel) and an output layer of 10 nodes, one for each possible digit $[0,9]$. Note that for this choice of layers and nodes, we have two weight matrices of dimensions (30, 784) and (10, 30). Our biases on each layer are vectors of dimension (30, 1) and (10, 1).\n",
    "\n",
    "We then perform stochastic gradient descent on the network by calling the class function SGD. The idea is that this routine calculates the derivatives of a defined cost function as a function of the weights and biases. We tune the weights and biases so as to minimize this cost function, here defined as the square difference between the output on the last layer of 10 nodes and the correct result. For example, suppose our network for image $i$ with label 2 gives the output,\n",
    "\n",
    "$$\\text{approx}_i = [0, 0.2, 0.7, 0, 0.1, 0, 0, 0, 0, 0.3] \\enspace .$$\n",
    "Our cost function for this output is then given as the difference between it and the exact output ,\n",
    "\n",
    "$$\\text{exact}_i = [0, 0, 1, 0, 0, 0, 0, 0, 0, 0] \\enspace ,$$$$\\text{cost}_i = (\\text{approx}_i - \\text{exact}_i)^2 \\enspace ,$$\n",
    "where only the 3rd entry changes as that corresponds to digit 2 (again indexing starts at 0).\n",
    "\n",
    "The gradient descent is costly to calculate for all images, so we sample this stochastically with some subset of images. The difference between regular gradient descent, where we always take a step to absolutely minimize the cost function, and stochastic gradient descent (SGD), where the step is done probabilistically, is illustrated in the figure below. Note the difference in how the two methods approach the minimum of the function.\n",
    "\n",
    "title\n",
    "\n",
    "image credit: https://wikidocs.net/3413\n",
    "The stochastic gradient is also multiplied by some number (called the learning parameter) to give greater or lesser importance to it. A small learning parameter means we move more slowly (but surely) through the state space while a bigger parameter lets us move quicker (but perhaps less accurately). This whole process is then repeated for several 'epochs' so as to train the network and optimize the biases/weights. After each epoch, we output the number of images in the validation set that have been correctly classified. For much more detail, again see the book by Michael Nielsen (chapters 1 and 2).\n",
    "\n",
    "The Network class function SGD is here called with 30 epochs of training, 10 images chosen for the gradient averaging, and a learning parameter of 3. At this point, these choices are arbitrary and are not necessarily optimized. The results of each epoch of training are stored in eval_list and the ultimate output after all epochs are finished are the trained biases and weights of the network.\n",
    "\n"
   ]
  },
  {
   "cell_type": "code",
   "execution_count": 53,
   "metadata": {},
   "outputs": [
    {
     "name": "stdout",
     "output_type": "stream",
     "text": [
      "Epoch 0: 1615 / 2000\n",
      "Epoch 1: 1634 / 2000\n",
      "Epoch 2: 1824 / 2000\n",
      "Epoch 3: 1835 / 2000\n",
      "Epoch 4: 1836 / 2000\n",
      "Epoch 5: 1838 / 2000\n",
      "Epoch 6: 1843 / 2000\n",
      "Epoch 7: 1845 / 2000\n",
      "Epoch 8: 1856 / 2000\n",
      "Epoch 9: 1862 / 2000\n",
      "Epoch 10: 1862 / 2000\n",
      "Epoch 11: 1863 / 2000\n",
      "Epoch 12: 1860 / 2000\n",
      "Epoch 13: 1867 / 2000\n",
      "Epoch 14: 1872 / 2000\n",
      "Epoch 15: 1871 / 2000\n",
      "Epoch 16: 1871 / 2000\n",
      "Epoch 17: 1879 / 2000\n",
      "Epoch 18: 1882 / 2000\n",
      "Epoch 19: 1876 / 2000\n",
      "Epoch 20: 1877 / 2000\n",
      "Epoch 21: 1881 / 2000\n",
      "Epoch 22: 1878 / 2000\n",
      "Epoch 23: 1870 / 2000\n",
      "Epoch 24: 1867 / 2000\n",
      "Epoch 25: 1870 / 2000\n",
      "Epoch 26: 1875 / 2000\n",
      "Epoch 27: 1875 / 2000\n",
      "Epoch 28: 1875 / 2000\n",
      "Epoch 29: 1881 / 2000\n"
     ]
    }
   ],
   "source": [
    "# list values denotes number of nodes in each layer\n",
    "net = network.Network([784, 30, 10])\n",
    "\n",
    "# create blank list to store results\n",
    "eval_list = []\n",
    "\n",
    "# call SGD function and store final biases and weights\n",
    "(biases, weights) = net.SGD(train_list, 30, 10, 3.0, test_data = valid_list, store_eval = eval_list)\n"
   ]
  },
  {
   "cell_type": "markdown",
   "metadata": {},
   "source": [
    "We can plot this information to see the rapid improvement with each epoch of training. After a few epochs, the network saturates around a given accuracy."
   ]
  },
  {
   "cell_type": "code",
   "execution_count": 56,
   "metadata": {},
   "outputs": [
    {
     "data": {
      "image/png": "[encoded data removed]",
      "text/plain": [
       "<Figure size 1152x576 with 1 Axes>"
      ]
     },
     "metadata": {
      "needs_background": "light"
     },
     "output_type": "display_data"
    }
   ],
   "source": [
    "plt.figure(figsize=(16,8))\n",
    "epoch_list = [a for a in range (0,len(eval_list))]\n",
    "\n",
    "# plot the function and data\n",
    "plt.scatter(epoch_list, eval_list, s=40, label=\"Neural Network\")\n",
    "plt.xlabel (\"Epoch\")\n",
    "plt.ylabel (\"Correct ratio\")\n",
    "plt.legend()\n",
    "plt.show()"
   ]
  },
  {
   "cell_type": "markdown",
   "metadata": {},
   "source": [
    "### Network Testing\n",
    "\n",
    "\n",
    "Now we're ready to test our neural network on the test data for which we don't have a label. As the feedforward function defined in our Network class relies on using the class defined biases and weights, let's define our own version here. This function takes in the 784 input activations a for a given image and then cycles this information through the network with our trained biases & weights. The final output is a (10,1) vector that holds our activation values for each digit. The maximum entry on this vector then gives our prediction for a given image.\n",
    "\n"
   ]
  },
  {
   "cell_type": "code",
   "execution_count": 57,
   "metadata": {},
   "outputs": [],
   "source": [
    "def feedforward(a, biases, weights):\n",
    "    for b, w in zip(biases, weights):\n",
    "        a = network.sigmoid(np.dot(w, a)+b)\n",
    "    return a"
   ]
  },
  {
   "cell_type": "markdown",
   "metadata": {},
   "source": [
    "Now we just proceed as before only using the full set of training data on the network.\n",
    "\n",
    "\n",
    "\n"
   ]
  },
  {
   "cell_type": "code",
   "execution_count": 58,
   "metadata": {},
   "outputs": [
    {
     "name": "stdout",
     "output_type": "stream",
     "text": [
      "Epoch 0 complete\n",
      "Epoch 1 complete\n",
      "Epoch 2 complete\n",
      "Epoch 3 complete\n",
      "Epoch 4 complete\n",
      "Epoch 5 complete\n",
      "Epoch 6 complete\n",
      "Epoch 7 complete\n",
      "Epoch 8 complete\n",
      "Epoch 9 complete\n",
      "Epoch 10 complete\n",
      "Epoch 11 complete\n",
      "Epoch 12 complete\n",
      "Epoch 13 complete\n",
      "Epoch 14 complete\n",
      "Epoch 15 complete\n",
      "Epoch 16 complete\n",
      "Epoch 17 complete\n",
      "Epoch 18 complete\n",
      "Epoch 19 complete\n",
      "Epoch 20 complete\n",
      "Epoch 21 complete\n",
      "Epoch 22 complete\n",
      "Epoch 23 complete\n",
      "Epoch 24 complete\n",
      "Epoch 25 complete\n",
      "Epoch 26 complete\n",
      "Epoch 27 complete\n",
      "Epoch 28 complete\n",
      "Epoch 29 complete\n"
     ]
    }
   ],
   "source": [
    "# list values denotes number of nodes in each layer\n",
    "full_net = network.Network([784, 30, 10])\n",
    "\n",
    "# create data sets\n",
    "full_train_ar = np.array(training_data.iloc[:42000])\n",
    "\n",
    "# format training and validation set\n",
    "full_train_list = network.format_data (full_train_ar)\n",
    "full_train_list = list(full_train_list)\n",
    "\n",
    "# call SGD function and store final biases and weights\n",
    "(full_biases, full_weights) = full_net.SGD(full_train_list, 30, 10, 3.0)"
   ]
  },
  {
   "cell_type": "markdown",
   "metadata": {},
   "source": [
    "To generate our predictions, again we take the maximum value on the (10,1) final output vector and store it in a list for each image.\n",
    "\n"
   ]
  },
  {
   "cell_type": "code",
   "execution_count": 59,
   "metadata": {},
   "outputs": [],
   "source": [
    "# create series 1 to 28,000\n",
    "imageid = pd.Series(range(1,len(test_list)+1))\n",
    "\n",
    "# output predicted image label\n",
    "predictions_test = [np.argmax(feedforward(image, biases, weights)) for image in test_list]\n",
    "\n",
    "# create dataframe to hold id and predicted label\n",
    "output = pd.DataFrame({'ImageId' : imageid, 'Label' : predictions_test})"
   ]
  },
  {
   "cell_type": "markdown",
   "metadata": {},
   "source": [
    "Let's make sure everything looks ok and that we built our dataframe correctly.\n",
    "\n"
   ]
  },
  {
   "cell_type": "code",
   "execution_count": 60,
   "metadata": {},
   "outputs": [
    {
     "data": {
      "text/html": [
       "<div>\n",
       "<style scoped>\n",
       "    .dataframe tbody tr th:only-of-type {\n",
       "        vertical-align: middle;\n",
       "    }\n",
       "\n",
       "    .dataframe tbody tr th {\n",
       "        vertical-align: top;\n",
       "    }\n",
       "\n",
       "    .dataframe thead th {\n",
       "        text-align: right;\n",
       "    }\n",
       "</style>\n",
       "<table border=\"1\" class=\"dataframe\">\n",
       "  <thead>\n",
       "    <tr style=\"text-align: right;\">\n",
       "      <th></th>\n",
       "      <th>ImageId</th>\n",
       "      <th>Label</th>\n",
       "    </tr>\n",
       "  </thead>\n",
       "  <tbody>\n",
       "    <tr>\n",
       "      <th>0</th>\n",
       "      <td>1</td>\n",
       "      <td>2</td>\n",
       "    </tr>\n",
       "    <tr>\n",
       "      <th>1</th>\n",
       "      <td>2</td>\n",
       "      <td>0</td>\n",
       "    </tr>\n",
       "    <tr>\n",
       "      <th>2</th>\n",
       "      <td>3</td>\n",
       "      <td>9</td>\n",
       "    </tr>\n",
       "    <tr>\n",
       "      <th>3</th>\n",
       "      <td>4</td>\n",
       "      <td>2</td>\n",
       "    </tr>\n",
       "    <tr>\n",
       "      <th>4</th>\n",
       "      <td>5</td>\n",
       "      <td>3</td>\n",
       "    </tr>\n",
       "  </tbody>\n",
       "</table>\n",
       "</div>"
      ],
      "text/plain": [
       "   ImageId  Label\n",
       "0        1      2\n",
       "1        2      0\n",
       "2        3      9\n",
       "3        4      2\n",
       "4        5      3"
      ]
     },
     "execution_count": 60,
     "metadata": {},
     "output_type": "execute_result"
    }
   ],
   "source": [
    "output.head()"
   ]
  },
  {
   "cell_type": "code",
   "execution_count": 61,
   "metadata": {},
   "outputs": [
    {
     "name": "stdout",
     "output_type": "stream",
     "text": [
      "<class 'pandas.core.frame.DataFrame'>\n",
      "RangeIndex: 28000 entries, 0 to 27999\n",
      "Data columns (total 2 columns):\n",
      "ImageId    28000 non-null int64\n",
      "Label      28000 non-null int64\n",
      "dtypes: int64(2)\n",
      "memory usage: 437.6 KB\n"
     ]
    }
   ],
   "source": [
    "output.info()"
   ]
  },
  {
   "cell_type": "markdown",
   "metadata": {},
   "source": [
    "Looks good (28,000 non-zero entries with first few entries in the correct format) so let's output to csv and submit to kaggle.\n",
    "\n"
   ]
  },
  {
   "cell_type": "code",
   "execution_count": 62,
   "metadata": {},
   "outputs": [],
   "source": [
    "output.to_csv('predictions_digits.csv',index=False)"
   ]
  },
  {
   "cell_type": "markdown",
   "metadata": {},
   "source": [
    "Submission to kaggle then gives an accuracy score of around 94.514%, meaning we only misclassified around 5 out of every 100 images. A very basic benchmark to compare to is picking labels at random (accuracy of 10%) and other simple classifier algorithms like support vector machines. The absolute accuracy and variability of the final neural network score can be improved by building extensions on to our simple network and will be considered in another notebook.\n",
    "\n",
    "\n",
    "\n",
    "SVM Baseline (under construction, move to new notebook)\n",
    "Let's run a support vector machine baseline to see where we sit (this may take several minutes to execute)\n",
    "\n",
    "baseline = svm.SVC() # take slice input_svm = [image[1] for image in train_list] output_svm = [image[0] for image in train_list] input_svm = list(map(np.ravel, input_svm)) print (input_svm) testing_in = [image[1] for image in valid_list] testing_out = [image[0] for image in valid_list] testing_in = list(map(np.ravel, testing_in)) baseline.fit(input_svm, output_svm) predictions = [int(a) for a in baseline.predict(testing_in)] correct = sum(int(a==y) for a, y in zip(predictions, testing_out)) print (\"{} of {} values correct, {}%\".format(correct, len(testing_out), correct/(len(testing_out))))\n",
    "Somewhere in the low 90% area. Not too shabby but let's see if we can do better with a neural network."
   ]
  },
  {
   "cell_type": "code",
   "execution_count": null,
   "metadata": {},
   "outputs": [],
   "source": []
  },
  {
   "cell_type": "code",
   "execution_count": null,
   "metadata": {},
   "outputs": [],
   "source": []
  }
 ],
 "metadata": {
  "kernelspec": {
   "display_name": "Python 3",
   "language": "python",
   "name": "python3"
  },
  "language_info": {
   "codemirror_mode": {
    "name": "ipython",
    "version": 3
   },
   "file_extension": ".py",
   "mimetype": "text/x-python",
   "name": "python",
   "nbconvert_exporter": "python",
   "pygments_lexer": "ipython3",
   "version": "3.7.3"
  }
 },
 "nbformat": 4,
 "nbformat_minor": 2
}
