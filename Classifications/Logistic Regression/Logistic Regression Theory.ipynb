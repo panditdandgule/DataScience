{
 "cells": [
  {
   "cell_type": "markdown",
   "metadata": {},
   "source": [
    "#### Logistic Regression Theory"
   ]
  },
  {
   "cell_type": "markdown",
   "metadata": {},
   "source": [
    "Source :https://github.com/nuclth/Python_Statistics/blob/master/Logistic_Regression.ipynb\n",
    "\n",
    "### To Do\n",
    "\n",
    "improve executive summary\n",
    "\n",
    "add additional tests (e.g., overdispersion)\n",
    "\n",
    "add feature with continuous variable\n",
    "\n",
    "add additional features to improve predictability\n",
    "\n",
    "cost function, maximizing likelihood, and general logistic regression discussion\n",
    "\n",
    "improve confusion matrix graphics\n",
    "\n",
    "add auc metric\n",
    "\n",
    "### Executive Summary\n",
    "\n",
    "nbviewer\n",
    "\n",
    "This is a notebook that implements logistic regression on a dataset. The problem is to predict whether a student will smoke based off whether their parents do or do not smoke. This is a simplest working example of logistic regression where the response variable is binary and the independent variable is either binary (in the first pass) or has three levels.\n",
    "\n",
    "This notebook is based off the notes and problem example in chapter 6.2 of the PSU Stat 504 course.\n",
    "\n",
    "### Concepts\n",
    "\n",
    "logistic regression\n",
    "confusion matrix\n",
    "ROC curve\n",
    "dummy variables\n",
    "z statistic\n",
    "Dataset Creation\n",
    "\n",
    "First let's import the relevant modules:\n",
    "\n"
   ]
  },
  {
   "cell_type": "markdown",
   "metadata": {},
   "source": [
    "#### Import libraries"
   ]
  },
  {
   "cell_type": "code",
   "execution_count": 2,
   "metadata": {},
   "outputs": [],
   "source": [
    "import pandas as pd\n",
    "import statsmodels.api as sm\n",
    "\n",
    "#import sklearn functions\n",
    "from sklearn.metrics import confusion_matrix\n",
    "from sklearn.metrics import roc_curve"
   ]
  },
  {
   "cell_type": "markdown",
   "metadata": {},
   "source": [
    "Now we can create our dataset. The idea is we want to predict whether a student smokes or not given the information about whether either of their parents smoke. This can be visualized in a 2x2 table as given below. The latin letters a, b, c, d correspond to the number of students in a given category."
   ]
  },
  {
   "cell_type": "markdown",
   "metadata": {},
   "source": [
    "                Student Smokes\tStudent Does Not Smoke\n",
    "\n",
    "    A Parent Smokes \ta             \tb\n",
    "\n",
    "    No Parent Smokes\tc           \td"
   ]
  },
  {
   "cell_type": "markdown",
   "metadata": {},
   "source": [
    "Before we continue, let's take a guess: \n",
    "\n",
    "\n",
    "\n",
    "We'll see if this hypothesis is justified or not further in. First to create our data, we call a python function, create_smoking_data (a, b, c, d) to fill a dataframe with student statistics. Each response will be a Y/N string.\n",
    "\n"
   ]
  },
  {
   "cell_type": "code",
   "execution_count": 7,
   "metadata": {},
   "outputs": [],
   "source": [
    "data={'A Parent Smokes':[816,3203],'No Parent Smokes':[188,1168]}"
   ]
  },
  {
   "cell_type": "code",
   "execution_count": 8,
   "metadata": {},
   "outputs": [],
   "source": [
    "df=pd.DataFrame(data,index=['Student Smokes','Student Does Not Smoke'])"
   ]
  },
  {
   "cell_type": "code",
   "execution_count": 9,
   "metadata": {},
   "outputs": [
    {
     "data": {
      "text/html": [
       "<div>\n",
       "<style scoped>\n",
       "    .dataframe tbody tr th:only-of-type {\n",
       "        vertical-align: middle;\n",
       "    }\n",
       "\n",
       "    .dataframe tbody tr th {\n",
       "        vertical-align: top;\n",
       "    }\n",
       "\n",
       "    .dataframe thead th {\n",
       "        text-align: right;\n",
       "    }\n",
       "</style>\n",
       "<table border=\"1\" class=\"dataframe\">\n",
       "  <thead>\n",
       "    <tr style=\"text-align: right;\">\n",
       "      <th></th>\n",
       "      <th>A Parent Smokes</th>\n",
       "      <th>No Parent Smokes</th>\n",
       "    </tr>\n",
       "  </thead>\n",
       "  <tbody>\n",
       "    <tr>\n",
       "      <th>Student Smokes</th>\n",
       "      <td>816</td>\n",
       "      <td>188</td>\n",
       "    </tr>\n",
       "    <tr>\n",
       "      <th>Student Does Not Smoke</th>\n",
       "      <td>3203</td>\n",
       "      <td>1168</td>\n",
       "    </tr>\n",
       "  </tbody>\n",
       "</table>\n",
       "</div>"
      ],
      "text/plain": [
       "                        A Parent Smokes  No Parent Smokes\n",
       "Student Smokes                      816               188\n",
       "Student Does Not Smoke             3203              1168"
      ]
     },
     "execution_count": 9,
     "metadata": {},
     "output_type": "execute_result"
    }
   ],
   "source": [
    "df"
   ]
  },
  {
   "cell_type": "code",
   "execution_count": 10,
   "metadata": {},
   "outputs": [
    {
     "data": {
      "text/html": [
       "<div>\n",
       "<style scoped>\n",
       "    .dataframe tbody tr th:only-of-type {\n",
       "        vertical-align: middle;\n",
       "    }\n",
       "\n",
       "    .dataframe tbody tr th {\n",
       "        vertical-align: top;\n",
       "    }\n",
       "\n",
       "    .dataframe thead th {\n",
       "        text-align: right;\n",
       "    }\n",
       "</style>\n",
       "<table border=\"1\" class=\"dataframe\">\n",
       "  <thead>\n",
       "    <tr style=\"text-align: right;\">\n",
       "      <th></th>\n",
       "      <th>A Parent Smokes</th>\n",
       "      <th>No Parent Smokes</th>\n",
       "    </tr>\n",
       "  </thead>\n",
       "  <tbody>\n",
       "    <tr>\n",
       "      <th>Student Smokes</th>\n",
       "      <td>816</td>\n",
       "      <td>188</td>\n",
       "    </tr>\n",
       "    <tr>\n",
       "      <th>Student Does Not Smoke</th>\n",
       "      <td>3203</td>\n",
       "      <td>1168</td>\n",
       "    </tr>\n",
       "  </tbody>\n",
       "</table>\n",
       "</div>"
      ],
      "text/plain": [
       "                        A Parent Smokes  No Parent Smokes\n",
       "Student Smokes                      816               188\n",
       "Student Does Not Smoke             3203              1168"
      ]
     },
     "execution_count": 10,
     "metadata": {},
     "output_type": "execute_result"
    }
   ],
   "source": [
    "df.head()"
   ]
  },
  {
   "cell_type": "code",
   "execution_count": 11,
   "metadata": {},
   "outputs": [
    {
     "data": {
      "text/html": [
       "<div>\n",
       "<style scoped>\n",
       "    .dataframe tbody tr th:only-of-type {\n",
       "        vertical-align: middle;\n",
       "    }\n",
       "\n",
       "    .dataframe tbody tr th {\n",
       "        vertical-align: top;\n",
       "    }\n",
       "\n",
       "    .dataframe thead th {\n",
       "        text-align: right;\n",
       "    }\n",
       "</style>\n",
       "<table border=\"1\" class=\"dataframe\">\n",
       "  <thead>\n",
       "    <tr style=\"text-align: right;\">\n",
       "      <th></th>\n",
       "      <th>A Parent Smokes</th>\n",
       "      <th>No Parent Smokes</th>\n",
       "    </tr>\n",
       "  </thead>\n",
       "  <tbody>\n",
       "    <tr>\n",
       "      <th>Student Smokes</th>\n",
       "      <td>816</td>\n",
       "      <td>188</td>\n",
       "    </tr>\n",
       "    <tr>\n",
       "      <th>Student Does Not Smoke</th>\n",
       "      <td>3203</td>\n",
       "      <td>1168</td>\n",
       "    </tr>\n",
       "  </tbody>\n",
       "</table>\n",
       "</div>"
      ],
      "text/plain": [
       "                        A Parent Smokes  No Parent Smokes\n",
       "Student Smokes                      816               188\n",
       "Student Does Not Smoke             3203              1168"
      ]
     },
     "execution_count": 11,
     "metadata": {},
     "output_type": "execute_result"
    }
   ],
   "source": [
    "df.tail()"
   ]
  },
  {
   "cell_type": "markdown",
   "metadata": {},
   "source": [
    "### Logistic Regression\n",
    "\n",
    "Logistic regression is a method used for binary classification (student smoking = Y/N). Here we perform it over one categorical variable $x$ which can take values of 0 or 1. The idea behind logistic regression is that we want to retain the advantage of linearity in a model but allow for our target variable to be constrained to be between 0 and 1 (rather than $-\\infty$ to $\\infty$ as in linear regression). This is accomplished in logistic regression using the logistic function. Thus the probability for student $i$ to smoke is $\\pi_i$ and is given by,\n",
    "\n",
    "$$\\pi_i = \\frac{\\exp(\\beta_0 + \\beta_1 x_i)}{1 + \\exp(\\beta_0 + \\beta_1 x_i)}$$\n",
    "$$ \\text{logit} \\left( \\pi_i \\right) \\equiv \\text{log} \\left( \\frac{\\pi_i}{1 - \\pi_i} \\right) = \\beta_0 + \\beta_1 x_i$$\n",
    "\n",
    "Now we can create our training and validation datasets. First let's map the our Y/N to numerical values 1/0 and split our data into a training set and a validation set with 80% in the former and 20% in the latter:"
   ]
  },
  {
   "cell_type": "code",
   "execution_count": null,
   "metadata": {},
   "outputs": [],
   "source": []
  },
  {
   "cell_type": "code",
   "execution_count": null,
   "metadata": {},
   "outputs": [],
   "source": []
  }
 ],
 "metadata": {
  "kernelspec": {
   "display_name": "Python 3",
   "language": "python",
   "name": "python3"
  },
  "language_info": {
   "codemirror_mode": {
    "name": "ipython",
    "version": 3
   },
   "file_extension": ".py",
   "mimetype": "text/x-python",
   "name": "python",
   "nbconvert_exporter": "python",
   "pygments_lexer": "ipython3",
   "version": "3.7.3"
  }
 },
 "nbformat": 4,
 "nbformat_minor": 2
}
