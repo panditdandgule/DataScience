{
 "cells": [
  {
   "cell_type": "markdown",
   "metadata": {},
   "source": [
    "#### Logistic Regression Theory"
   ]
  },
  {
   "cell_type": "markdown",
   "metadata": {},
   "source": [
    "### To Do\n",
    "\n",
    "improve executive summary\n",
    "\n",
    "add additional tests (e.g., overdispersion)\n",
    "\n",
    "add feature with continuous variable\n",
    "\n",
    "add additional features to improve predictability\n",
    "\n",
    "cost function, maximizing likelihood, and general logistic regression discussion\n",
    "\n",
    "improve confusion matrix graphics\n",
    "\n",
    "add auc metric\n",
    "\n",
    "### Executive Summary\n",
    "\n",
    "nbviewer\n",
    "\n",
    "This is a notebook that implements logistic regression on a dataset. The problem is to predict whether a student will smoke based off whether their parents do or do not smoke. This is a simplest working example of logistic regression where the response variable is binary and the independent variable is either binary (in the first pass) or has three levels.\n",
    "\n",
    "This notebook is based off the notes and problem example in chapter 6.2 of the PSU Stat 504 course.\n",
    "\n",
    "### Concepts\n",
    "\n",
    "logistic regression\n",
    "confusion matrix\n",
    "ROC curve\n",
    "dummy variables\n",
    "z statistic\n",
    "Dataset Creation\n",
    "\n",
    "First let's import the relevant modules:\n",
    "\n"
   ]
  },
  {
   "cell_type": "markdown",
   "metadata": {},
   "source": [
    "#### Import libraries"
   ]
  },
  {
   "cell_type": "code",
   "execution_count": null,
   "metadata": {},
   "outputs": [],
   "source": [
    "import pandas as pd\n",
    "import statsmodels.api as sm\n",
    "\n",
    "#import sklearn functions\n",
    "from sklearn.metrics import confusion_matrix\n",
    "from sklearn.metrics import roc_curve\n",
    "\n",
    "#import custom functions\n",
    "from src.logreg_functions import *"
   ]
  },
  {
   "cell_type": "code",
   "execution_count": null,
   "metadata": {},
   "outputs": [],
   "source": []
  }
 ],
 "metadata": {
  "kernelspec": {
   "display_name": "Python 3",
   "language": "python",
   "name": "python3"
  },
  "language_info": {
   "codemirror_mode": {
    "name": "ipython",
    "version": 3
   },
   "file_extension": ".py",
   "mimetype": "text/x-python",
   "name": "python",
   "nbconvert_exporter": "python",
   "pygments_lexer": "ipython3",
   "version": "3.7.3"
  }
 },
 "nbformat": 4,
 "nbformat_minor": 2
}
