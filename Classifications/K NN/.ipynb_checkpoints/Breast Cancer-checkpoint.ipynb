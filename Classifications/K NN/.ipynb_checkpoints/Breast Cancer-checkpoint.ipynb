{
 "cells": [
  {
   "cell_type": "markdown",
   "metadata": {},
   "source": [
    "#### Breast Cancer Project"
   ]
  },
  {
   "cell_type": "markdown",
   "metadata": {},
   "source": [
    "#### Importing Libraries"
   ]
  },
  {
   "cell_type": "code",
   "execution_count": 1,
   "metadata": {},
   "outputs": [],
   "source": [
    "import numpy as np\n",
    "import pandas as pd\n",
    "import matplotlib.pyplot as plt"
   ]
  },
  {
   "cell_type": "code",
   "execution_count": 2,
   "metadata": {},
   "outputs": [],
   "source": [
    "df=pd.read_csv('breast-cancer.csv')"
   ]
  },
  {
   "cell_type": "code",
   "execution_count": 3,
   "metadata": {},
   "outputs": [
    {
     "data": {
      "text/html": [
       "<div>\n",
       "<style scoped>\n",
       "    .dataframe tbody tr th:only-of-type {\n",
       "        vertical-align: middle;\n",
       "    }\n",
       "\n",
       "    .dataframe tbody tr th {\n",
       "        vertical-align: top;\n",
       "    }\n",
       "\n",
       "    .dataframe thead th {\n",
       "        text-align: right;\n",
       "    }\n",
       "</style>\n",
       "<table border=\"1\" class=\"dataframe\">\n",
       "  <thead>\n",
       "    <tr style=\"text-align: right;\">\n",
       "      <th></th>\n",
       "      <th>age</th>\n",
       "      <th>mefalsepause</th>\n",
       "      <th>tumor-size</th>\n",
       "      <th>inv-falsedes</th>\n",
       "      <th>falsede-caps</th>\n",
       "      <th>deg-malig</th>\n",
       "      <th>breast</th>\n",
       "      <th>breast-quad</th>\n",
       "      <th>irradiat</th>\n",
       "      <th>class</th>\n",
       "    </tr>\n",
       "  </thead>\n",
       "  <tbody>\n",
       "    <tr>\n",
       "      <th>0</th>\n",
       "      <td>40-49</td>\n",
       "      <td>premefalse</td>\n",
       "      <td>15-19</td>\n",
       "      <td>0-2</td>\n",
       "      <td>True</td>\n",
       "      <td>3</td>\n",
       "      <td>right</td>\n",
       "      <td>left_up</td>\n",
       "      <td>False</td>\n",
       "      <td>recurrence-events</td>\n",
       "    </tr>\n",
       "    <tr>\n",
       "      <th>1</th>\n",
       "      <td>50-59</td>\n",
       "      <td>ge40</td>\n",
       "      <td>15-19</td>\n",
       "      <td>0-2</td>\n",
       "      <td>False</td>\n",
       "      <td>1</td>\n",
       "      <td>right</td>\n",
       "      <td>central</td>\n",
       "      <td>False</td>\n",
       "      <td>false-recurrence-events</td>\n",
       "    </tr>\n",
       "    <tr>\n",
       "      <th>2</th>\n",
       "      <td>50-59</td>\n",
       "      <td>ge40</td>\n",
       "      <td>35-39</td>\n",
       "      <td>0-2</td>\n",
       "      <td>False</td>\n",
       "      <td>2</td>\n",
       "      <td>left</td>\n",
       "      <td>left_low</td>\n",
       "      <td>False</td>\n",
       "      <td>recurrence-events</td>\n",
       "    </tr>\n",
       "    <tr>\n",
       "      <th>3</th>\n",
       "      <td>40-49</td>\n",
       "      <td>premefalse</td>\n",
       "      <td>35-39</td>\n",
       "      <td>0-2</td>\n",
       "      <td>True</td>\n",
       "      <td>3</td>\n",
       "      <td>right</td>\n",
       "      <td>left_low</td>\n",
       "      <td>True</td>\n",
       "      <td>false-recurrence-events</td>\n",
       "    </tr>\n",
       "    <tr>\n",
       "      <th>4</th>\n",
       "      <td>40-49</td>\n",
       "      <td>premefalse</td>\n",
       "      <td>30-34</td>\n",
       "      <td>3-5</td>\n",
       "      <td>True</td>\n",
       "      <td>2</td>\n",
       "      <td>left</td>\n",
       "      <td>right_up</td>\n",
       "      <td>False</td>\n",
       "      <td>recurrence-events</td>\n",
       "    </tr>\n",
       "  </tbody>\n",
       "</table>\n",
       "</div>"
      ],
      "text/plain": [
       "     age mefalsepause tumor-size inv-falsedes falsede-caps  deg-malig breast  \\\n",
       "0  40-49   premefalse      15-19          0-2         True          3  right   \n",
       "1  50-59         ge40      15-19          0-2        False          1  right   \n",
       "2  50-59         ge40      35-39          0-2        False          2   left   \n",
       "3  40-49   premefalse      35-39          0-2         True          3  right   \n",
       "4  40-49   premefalse      30-34          3-5         True          2   left   \n",
       "\n",
       "  breast-quad  irradiat                    class  \n",
       "0     left_up     False        recurrence-events  \n",
       "1     central     False  false-recurrence-events  \n",
       "2    left_low     False        recurrence-events  \n",
       "3    left_low      True  false-recurrence-events  \n",
       "4    right_up     False        recurrence-events  "
      ]
     },
     "execution_count": 3,
     "metadata": {},
     "output_type": "execute_result"
    }
   ],
   "source": [
    "df.head()"
   ]
  },
  {
   "cell_type": "markdown",
   "metadata": {},
   "source": [
    "#### EDA"
   ]
  },
  {
   "cell_type": "code",
   "execution_count": 4,
   "metadata": {},
   "outputs": [
    {
     "name": "stdout",
     "output_type": "stream",
     "text": [
      "<class 'pandas.core.frame.DataFrame'>\n",
      "RangeIndex: 272 entries, 0 to 271\n",
      "Data columns (total 10 columns):\n",
      "age             272 non-null object\n",
      "mefalsepause    272 non-null object\n",
      "tumor-size      272 non-null object\n",
      "inv-falsedes    272 non-null object\n",
      "falsede-caps    264 non-null object\n",
      "deg-malig       272 non-null int64\n",
      "breast          272 non-null object\n",
      "breast-quad     271 non-null object\n",
      "irradiat        272 non-null bool\n",
      "class           272 non-null object\n",
      "dtypes: bool(1), int64(1), object(8)\n",
      "memory usage: 19.5+ KB\n"
     ]
    }
   ],
   "source": [
    "df.info()"
   ]
  },
  {
   "cell_type": "code",
   "execution_count": 5,
   "metadata": {},
   "outputs": [
    {
     "data": {
      "text/plain": [
       "(272, 10)"
      ]
     },
     "execution_count": 5,
     "metadata": {},
     "output_type": "execute_result"
    }
   ],
   "source": [
    "df.shape"
   ]
  },
  {
   "cell_type": "code",
   "execution_count": 6,
   "metadata": {},
   "outputs": [
    {
     "data": {
      "text/plain": [
       "Index(['age', 'mefalsepause', 'tumor-size', 'inv-falsedes', 'falsede-caps',\n",
       "       'deg-malig', 'breast', 'breast-quad', 'irradiat', 'class'],\n",
       "      dtype='object')"
      ]
     },
     "execution_count": 6,
     "metadata": {},
     "output_type": "execute_result"
    }
   ],
   "source": [
    "df.columns"
   ]
  },
  {
   "cell_type": "code",
   "execution_count": 10,
   "metadata": {},
   "outputs": [
    {
     "data": {
      "text/html": [
       "<div>\n",
       "<style scoped>\n",
       "    .dataframe tbody tr th:only-of-type {\n",
       "        vertical-align: middle;\n",
       "    }\n",
       "\n",
       "    .dataframe tbody tr th {\n",
       "        vertical-align: top;\n",
       "    }\n",
       "\n",
       "    .dataframe thead th {\n",
       "        text-align: right;\n",
       "    }\n",
       "</style>\n",
       "<table border=\"1\" class=\"dataframe\">\n",
       "  <thead>\n",
       "    <tr style=\"text-align: right;\">\n",
       "      <th></th>\n",
       "      <th>deg-malig</th>\n",
       "      <th>irradiat</th>\n",
       "    </tr>\n",
       "  </thead>\n",
       "  <tbody>\n",
       "    <tr>\n",
       "      <th>deg-malig</th>\n",
       "      <td>1.000000</td>\n",
       "      <td>0.197958</td>\n",
       "    </tr>\n",
       "    <tr>\n",
       "      <th>irradiat</th>\n",
       "      <td>0.197958</td>\n",
       "      <td>1.000000</td>\n",
       "    </tr>\n",
       "  </tbody>\n",
       "</table>\n",
       "</div>"
      ],
      "text/plain": [
       "           deg-malig  irradiat\n",
       "deg-malig   1.000000  0.197958\n",
       "irradiat    0.197958  1.000000"
      ]
     },
     "execution_count": 10,
     "metadata": {},
     "output_type": "execute_result"
    }
   ],
   "source": [
    "df.corr()"
   ]
  },
  {
   "cell_type": "code",
   "execution_count": 11,
   "metadata": {},
   "outputs": [],
   "source": [
    "\n",
    "X = np.array(df.iloc[:, 1:]) \n",
    "y = np.array(df['class']) "
   ]
  },
  {
   "cell_type": "code",
   "execution_count": 12,
   "metadata": {},
   "outputs": [],
   "source": [
    "from sklearn.model_selection import train_test_split \n",
    "X_train, X_test, y_train, y_test = train_test_split( \n",
    "    X, y, test_size = 0.33, random_state = 42) "
   ]
  },
  {
   "cell_type": "code",
   "execution_count": null,
   "metadata": {},
   "outputs": [],
   "source": []
  },
  {
   "cell_type": "code",
   "execution_count": null,
   "metadata": {},
   "outputs": [],
   "source": []
  }
 ],
 "metadata": {
  "kernelspec": {
   "display_name": "Python 3",
   "language": "python",
   "name": "python3"
  },
  "language_info": {
   "codemirror_mode": {
    "name": "ipython",
    "version": 3
   },
   "file_extension": ".py",
   "mimetype": "text/x-python",
   "name": "python",
   "nbconvert_exporter": "python",
   "pygments_lexer": "ipython3",
   "version": "3.7.3"
  }
 },
 "nbformat": 4,
 "nbformat_minor": 2
}
