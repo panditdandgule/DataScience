{
 "cells": [
  {
   "cell_type": "markdown",
   "metadata": {},
   "source": [
    "## Linear Regression Methods"
   ]
  },
  {
   "cell_type": "markdown",
   "metadata": {},
   "source": [
    "This is a very simple example of using two scipy tools for linear regression.\n",
    "\n",
    "-Scipy.Polyfit\n",
    "\n",
    "-Stats.linregress\n",
    "\n",
    "-Optimize.curve_fit\n",
    "\n",
    "-numpy.linalg.lstsq\n",
    "\n",
    "-statsmodels.OLS\n",
    "\n",
    "-Analytic solution using Moore-Penrose generalized inverse or simple multiplicative matrix inverse\n",
    "\n",
    "-sklearn.linear_model.LinearRegression"
   ]
  },
  {
   "cell_type": "markdown",
   "metadata": {},
   "source": [
    "### Import libraries"
   ]
  },
  {
   "cell_type": "code",
   "execution_count": 2,
   "metadata": {},
   "outputs": [],
   "source": [
    "from scipy import linspace,polyval,polyfit,sqrt,stats,randn,optimize\n",
    "import statsmodels.api as sm\n",
    "import matplotlib.pyplot as plt\n",
    "import time\n",
    "import numpy as np\n",
    "import pandas as pd\n",
    "from sklearn.linear_model import LinearRegression\n",
    "%matplotlib inline\n",
    "import warnings\n",
    "warnings.simplefilter('ignore')"
   ]
  },
  {
   "cell_type": "markdown",
   "metadata": {},
   "source": [
    "### Generate random data of a sufficiently large size"
   ]
  },
  {
   "cell_type": "code",
   "execution_count": 3,
   "metadata": {},
   "outputs": [],
   "source": [
    "#Sample data creation number of points\n",
    "n=int(5e6)\n",
    "t=np.linspace(-10,10,n)\n",
    "#parameters\n",
    "a=3.24;\n",
    "b=-6.5\n",
    "x=polyval([a,b],t)\n",
    "#add some noise\n",
    "xn=x+3*randn(n)"
   ]
  },
  {
   "cell_type": "markdown",
   "metadata": {},
   "source": [
    "### Draw few random sample points and plot"
   ]
  },
  {
   "cell_type": "code",
   "execution_count": 4,
   "metadata": {},
   "outputs": [
    {
     "data": {
      "image/png": "[encoded data removed]",
      "text/plain": [
       "<Figure size 432x288 with 1 Axes>"
      ]
     },
     "metadata": {
      "needs_background": "light"
     },
     "output_type": "display_data"
    }
   ],
   "source": [
    "\n",
    "xvar=np.random.choice(t,size=20)\n",
    "yvar=polyval([a,b],xvar)+3*randn(20)\n",
    "plt.scatter(xvar,yvar,c='green',edgecolors='k')\n",
    "plt.grid(True)\n",
    "plt.show()"
   ]
  },
  {
   "cell_type": "markdown",
   "metadata": {},
   "source": [
    "### Method: Scipy.Polyfit"
   ]
  },
  {
   "cell_type": "code",
   "execution_count": 5,
   "metadata": {},
   "outputs": [
    {
     "name": "stdout",
     "output_type": "stream",
     "text": [
      "Linear regression using polyfit\n",
      "parameters: a=3.24 b=-6.50, ms error= 3.001\n",
      "Time taken: 2.250742197036743 seconds\n"
     ]
    }
   ],
   "source": [
    "\n",
    "#Linear regressison -polyfit - polyfit can be used other orders polynomials\n",
    "t1=time.time()\n",
    "(ar,br)=polyfit(t,xn,1)\n",
    "xr=polyval([ar,br],t)\n",
    "#compute the mean square error\n",
    "err=sqrt(sum((xr-xn)**2)/n)\n",
    "t2=time.time()\n",
    "t_polyfit = float(t2-t1)\n",
    "\n",
    "print('Linear regression using polyfit')\n",
    "print('parameters: a=%.2f b=%.2f, ms error= %.3f' % (ar,br,err))\n",
    "print(\"Time taken: {} seconds\".format(t_polyfit))"
   ]
  },
  {
   "cell_type": "markdown",
   "metadata": {},
   "source": [
    "### Method: Stats.linregress"
   ]
  },
  {
   "cell_type": "code",
   "execution_count": 6,
   "metadata": {},
   "outputs": [
    {
     "name": "stdout",
     "output_type": "stream",
     "text": [
      "Linear regression using stats.linregress\n",
      "a=3.24 b=-6.50, std error= 0.000, r^2 coefficient= 0.987\n",
      "Time taken: 0.33379387855529785 seconds\n"
     ]
    }
   ],
   "source": [
    "#Linear regression using stats.linregress\n",
    "t1=time.time()\n",
    "(a_s,b_s,r,tt,stderr)=stats.linregress(t,xn)\n",
    "t2=time.time()\n",
    "t_linregress = float(t2-t1)\n",
    "\n",
    "print('Linear regression using stats.linregress')\n",
    "print('a=%.2f b=%.2f, std error= %.3f, r^2 coefficient= %.3f' % (a_s,b_s,stderr,r))\n",
    "print(\"Time taken: {} seconds\".format(t_linregress))"
   ]
  },
  {
   "cell_type": "markdown",
   "metadata": {},
   "source": [
    "### Method: Optimize.curve_fit"
   ]
  },
  {
   "cell_type": "code",
   "execution_count": 7,
   "metadata": {},
   "outputs": [],
   "source": [
    "def flin(t,a,b):\n",
    "    result=a*t+b\n",
    "    return(result)"
   ]
  },
  {
   "cell_type": "code",
   "execution_count": 8,
   "metadata": {},
   "outputs": [
    {
     "name": "stdout",
     "output_type": "stream",
     "text": [
      "Linear regression using optimize.curve_fit\n",
      "parameters: a=3.24 b=-6.50\n",
      "Time taken: 2.015582799911499 seconds\n"
     ]
    }
   ],
   "source": [
    "\n",
    "t1=time.time()\n",
    "p1,_=optimize.curve_fit(flin,xdata=t,ydata=xn,method='lm')\n",
    "t2=time.time()\n",
    "t_optimize_curve_fit = float(t2-t1)\n",
    "\n",
    "print('Linear regression using optimize.curve_fit')\n",
    "print('parameters: a=%.2f b=%.2f' % (p1[0],p1[1]))\n",
    "print(\"Time taken: {} seconds\".format(t_optimize_curve_fit))"
   ]
  },
  {
   "cell_type": "markdown",
   "metadata": {},
   "source": [
    "### Method: numpy.linalg.lstsq"
   ]
  },
  {
   "cell_type": "code",
   "execution_count": 9,
   "metadata": {},
   "outputs": [
    {
     "name": "stdout",
     "output_type": "stream",
     "text": [
      "Linear regression using numpy.linalg.lstsq\n",
      "parameters: a=3.24 b=-6.50, ms error= 3.001\n",
      "Time taken: 0.4632070064544678 seconds\n"
     ]
    }
   ],
   "source": [
    "t1=time.time()\n",
    "A = np.vstack([t, np.ones(len(t))]).T\n",
    "result = np.linalg.lstsq(A, xn)\n",
    "ar,br = result[0]\n",
    "err = np.sqrt(result[1]/len(xn))\n",
    "t2=time.time()\n",
    "t_linalg_lstsq = float(t2-t1)\n",
    "\n",
    "print('Linear regression using numpy.linalg.lstsq')\n",
    "print('parameters: a=%.2f b=%.2f, ms error= %.3f' % (ar,br,err))\n",
    "print(\"Time taken: {} seconds\".format(t_linalg_lstsq))"
   ]
  },
  {
   "cell_type": "markdown",
   "metadata": {},
   "source": [
    "### Method: Statsmodels.OLS"
   ]
  },
  {
   "cell_type": "code",
   "execution_count": 10,
   "metadata": {},
   "outputs": [
    {
     "name": "stdout",
     "output_type": "stream",
     "text": [
      "Linear regression using statsmodels.OLS\n",
      "parameters: a=3.24 b=-6.50\n",
      "Time taken: 1.919212818145752 seconds\n",
      "                            OLS Regression Results                            \n",
      "==============================================================================\n",
      "Dep. Variable:                      y   R-squared:                       1.000\n",
      "Model:                            OLS   Adj. R-squared:                  1.000\n",
      "Method:                 Least Squares   F-statistic:                 5.860e+36\n",
      "Date:                Tue, 30 Jul 2019   Prob (F-statistic):               0.00\n",
      "Time:                        08:19:09   Log-Likelihood:             1.5135e+08\n",
      "No. Observations:             5000000   AIC:                        -3.027e+08\n",
      "Df Residuals:                 4999998   BIC:                        -3.027e+08\n",
      "Df Model:                           1                                         \n",
      "Covariance Type:            nonrobust                                         \n",
      "==============================================================================\n",
      "                 coef    std err          t      P>|t|      [0.025      0.975]\n",
      "------------------------------------------------------------------------------\n",
      "const         -6.5000   7.73e-18  -8.41e+17      0.000      -6.500      -6.500\n",
      "x1             3.2400   1.34e-18   2.42e+18      0.000       3.240       3.240\n",
      "==============================================================================\n",
      "Omnibus:                   926195.960   Durbin-Watson:                   0.017\n",
      "Prob(Omnibus):                  0.000   Jarque-Bera (JB):           192070.390\n",
      "Skew:                          -0.025   Prob(JB):                         0.00\n",
      "Kurtosis:                       2.041   Cond. No.                         5.77\n",
      "==============================================================================\n",
      "\n",
      "Warnings:\n",
      "[1] Standard Errors assume that the covariance matrix of the errors is correctly specified.\n"
     ]
    }
   ],
   "source": [
    "t1=time.time()\n",
    "t=sm.add_constant(t)\n",
    "model = sm.OLS(x, t)\n",
    "results = model.fit()\n",
    "ar=results.params[1]\n",
    "br=results.params[0]\n",
    "t2=time.time()\n",
    "t_OLS = float(t2-t1)\n",
    "\n",
    "print('Linear regression using statsmodels.OLS')\n",
    "print('parameters: a=%.2f b=%.2f'% (ar,br))\n",
    "print(\"Time taken: {} seconds\".format(t_OLS))\n",
    "print(results.summary())"
   ]
  },
  {
   "cell_type": "markdown",
   "metadata": {},
   "source": [
    "### Analytic solution using Moore-Penrose pseudoinverse"
   ]
  },
  {
   "cell_type": "code",
   "execution_count": 11,
   "metadata": {},
   "outputs": [
    {
     "name": "stdout",
     "output_type": "stream",
     "text": [
      "Linear regression using Moore-Penrose inverse\n",
      "parameters: a=3.24 b=-6.50\n",
      "Time taken: 1.0252203941345215 seconds\n"
     ]
    }
   ],
   "source": [
    "t1=time.time()\n",
    "mpinv = np.linalg.pinv(t)\n",
    "result = mpinv.dot(x)\n",
    "ar = result[1]\n",
    "br = result[0]\n",
    "t2=time.time()\n",
    "t_inv_matrix = float(t2-t1)\n",
    "\n",
    "print('Linear regression using Moore-Penrose inverse')\n",
    "print('parameters: a=%.2f b=%.2f'% (ar,br))\n",
    "print(\"Time taken: {} seconds\".format(t_inv_matrix))"
   ]
  },
  {
   "cell_type": "markdown",
   "metadata": {},
   "source": [
    "### Analytic solution using simple multicative matrix"
   ]
  },
  {
   "cell_type": "code",
   "execution_count": 12,
   "metadata": {},
   "outputs": [
    {
     "name": "stdout",
     "output_type": "stream",
     "text": [
      "Linear regression using simple inverse\n",
      "parameters: a=3.24 b=-6.50\n",
      "Time taken: 0.26719212532043457 seconds\n"
     ]
    }
   ],
   "source": [
    "\n",
    "t1=time.time()\n",
    "m = np.dot((np.dot(np.linalg.inv(np.dot(t.T,t)),t.T)),x)\n",
    "ar = m[1]\n",
    "br = m[0]\n",
    "t2=time.time()\n",
    "t_simple_inv = float(t2-t1)\n",
    "\n",
    "print('Linear regression using simple inverse')\n",
    "print('parameters: a=%.2f b=%.2f'% (ar,br))\n",
    "print(\"Time taken: {} seconds\".format(t_simple_inv))"
   ]
  },
  {
   "cell_type": "markdown",
   "metadata": {},
   "source": [
    "### Method: sklearn.linear_model.LinearRegression"
   ]
  },
  {
   "cell_type": "code",
   "execution_count": 13,
   "metadata": {},
   "outputs": [
    {
     "name": "stdout",
     "output_type": "stream",
     "text": [
      "Linear regression using sklearn.linear_model.LinearRegression\n",
      "parameters: a=3.24 b=-6.50\n",
      "Time taken: 0.9836077690124512 seconds\n"
     ]
    }
   ],
   "source": [
    "t1=time.time()\n",
    "lm = LinearRegression()\n",
    "lm.fit(t,x)\n",
    "ar=lm.coef_[1]\n",
    "br=lm.intercept_\n",
    "t2=time.time()\n",
    "t_sklearn_linear = float(t2-t1)\n",
    "\n",
    "print('Linear regression using sklearn.linear_model.LinearRegression')\n",
    "print('parameters: a=%.2f b=%.2f'% (ar,br))\n",
    "print(\"Time taken: {} seconds\".format(t_sklearn_linear))"
   ]
  },
  {
   "cell_type": "markdown",
   "metadata": {},
   "source": [
    "### Bucket all the execution times in a list and plot"
   ]
  },
  {
   "cell_type": "code",
   "execution_count": 14,
   "metadata": {},
   "outputs": [],
   "source": [
    "times = [t_polyfit,t_linregress,t_optimize_curve_fit,t_linalg_lstsq,t_OLS,t_inv_matrix,t_simple_inv,t_sklearn_linear]"
   ]
  },
  {
   "cell_type": "code",
   "execution_count": 15,
   "metadata": {},
   "outputs": [
    {
     "ename": "TypeError",
     "evalue": "bar() missing 1 required positional argument: 'x'",
     "output_type": "error",
     "traceback": [
      "\u001b[0;31m---------------------------------------------------------------------------\u001b[0m",
      "\u001b[0;31mTypeError\u001b[0m                                 Traceback (most recent call last)",
      "\u001b[0;32m<ipython-input-15-fc3df7d1d9b8>\u001b[0m in \u001b[0;36m<module>\u001b[0;34m\u001b[0m\n\u001b[1;32m      4\u001b[0m         tick_label=['Polyfit','Stats.linregress','Optimize.curve_fit',\n\u001b[1;32m      5\u001b[0m                     \u001b[0;34m'numpy.linalg.lstsq'\u001b[0m\u001b[0;34m,\u001b[0m\u001b[0;34m'statsmodels.OLS'\u001b[0m\u001b[0;34m,\u001b[0m\u001b[0;34m'Moore-Penrose matrix inverse'\u001b[0m\u001b[0;34m,\u001b[0m\u001b[0;34m\u001b[0m\u001b[0;34m\u001b[0m\u001b[0m\n\u001b[0;32m----> 6\u001b[0;31m                     'Simple matrix inverse','sklearn.linear_model'])\n\u001b[0m\u001b[1;32m      7\u001b[0m \u001b[0mplt\u001b[0m\u001b[0;34m.\u001b[0m\u001b[0mshow\u001b[0m\u001b[0;34m(\u001b[0m\u001b[0;34m)\u001b[0m\u001b[0;34m\u001b[0m\u001b[0;34m\u001b[0m\u001b[0m\n",
      "\u001b[0;31mTypeError\u001b[0m: bar() missing 1 required positional argument: 'x'"
     ]
    },
    {
     "data": {
      "image/png": "[encoded data removed]",
      "text/plain": [
       "<Figure size 1440x360 with 1 Axes>"
      ]
     },
     "metadata": {
      "needs_background": "light"
     },
     "output_type": "display_data"
    }
   ],
   "source": [
    "plt.figure(figsize=(20,5))\n",
    "plt.grid(True)\n",
    "plt.bar(left=[l*0.8 for l in range(8)],height=times, width=0.4,\n",
    "        tick_label=['Polyfit','Stats.linregress','Optimize.curve_fit',\n",
    "                    'numpy.linalg.lstsq','statsmodels.OLS','Moore-Penrose matrix inverse',\n",
    "                    'Simple matrix inverse','sklearn.linear_model'])\n",
    "plt.show()"
   ]
  }
 ],
 "metadata": {
  "kernelspec": {
   "display_name": "Python 3",
   "language": "python",
   "name": "python3"
  },
  "language_info": {
   "codemirror_mode": {
    "name": "ipython",
    "version": 3
   },
   "file_extension": ".py",
   "mimetype": "text/x-python",
   "name": "python",
   "nbconvert_exporter": "python",
   "pygments_lexer": "ipython3",
   "version": "3.7.3"
  }
 },
 "nbformat": 4,
 "nbformat_minor": 2
}
