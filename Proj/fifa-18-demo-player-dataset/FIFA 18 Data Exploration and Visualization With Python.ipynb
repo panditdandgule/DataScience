{
 "cells": [
  {
   "cell_type": "markdown",
   "metadata": {},
   "source": [
    "### FIFA 18 Data Exploration and Visualization With Python"
   ]
  },
  {
   "cell_type": "code",
   "execution_count": 1,
   "metadata": {},
   "outputs": [
    {
     "data": {
      "text/html": [
       "        <script type=\"text/javascript\">\n",
       "        window.PlotlyConfig = {MathJaxConfig: 'local'};\n",
       "        if (window.MathJax) {MathJax.Hub.Config({SVG: {font: \"STIX-Web\"}});}\n",
       "        if (typeof require !== 'undefined') {\n",
       "        require.undef(\"plotly\");\n",
       "        requirejs.config({\n",
       "            paths: {\n",
       "                'plotly': ['https://cdn.plot.ly/plotly-latest.min']\n",
       "            }\n",
       "        });\n",
       "        require(['plotly'], function(Plotly) {\n",
       "            window._Plotly = Plotly;\n",
       "        });\n",
       "        }\n",
       "        </script>\n",
       "        "
      ]
     },
     "metadata": {},
     "output_type": "display_data"
    }
   ],
   "source": [
    "import numpy as np\n",
    "import pandas as pd\n",
    "\n",
    "import seaborn as sns\n",
    "import matplotlib.pyplot as plt\n",
    "%matplotlib inline\n",
    "\n",
    "import plotly.offline as py\n",
    "py.init_notebook_mode(connected=True)\n",
    "import plotly.graph_objs as go\n",
    "import plotly.tools as tls"
   ]
  },
  {
   "cell_type": "markdown",
   "metadata": {},
   "source": [
    "#### Importing dataset and preparation of data"
   ]
  },
  {
   "cell_type": "markdown",
   "metadata": {},
   "source": [
    "#### Load Dataset"
   ]
  },
  {
   "cell_type": "markdown",
   "metadata": {},
   "source": [
    "#### Importing the dataset"
   ]
  },
  {
   "cell_type": "code",
   "execution_count": 2,
   "metadata": {},
   "outputs": [
    {
     "name": "stderr",
     "output_type": "stream",
     "text": [
      "/home/pandit/anaconda3/lib/python3.7/site-packages/IPython/core/interactiveshell.py:3049: DtypeWarning:\n",
      "\n",
      "Columns (23,35) have mixed types. Specify dtype option on import or set low_memory=False.\n",
      "\n"
     ]
    }
   ],
   "source": [
    "dataset=pd.read_csv('CompleteDataset.csv',header=0)"
   ]
  },
  {
   "cell_type": "code",
   "execution_count": 3,
   "metadata": {},
   "outputs": [
    {
     "data": {
      "text/html": [
       "<div>\n",
       "<style scoped>\n",
       "    .dataframe tbody tr th:only-of-type {\n",
       "        vertical-align: middle;\n",
       "    }\n",
       "\n",
       "    .dataframe tbody tr th {\n",
       "        vertical-align: top;\n",
       "    }\n",
       "\n",
       "    .dataframe thead th {\n",
       "        text-align: right;\n",
       "    }\n",
       "</style>\n",
       "<table border=\"1\" class=\"dataframe\">\n",
       "  <thead>\n",
       "    <tr style=\"text-align: right;\">\n",
       "      <th></th>\n",
       "      <th>Unnamed: 0</th>\n",
       "      <th>Name</th>\n",
       "      <th>Age</th>\n",
       "      <th>Photo</th>\n",
       "      <th>Nationality</th>\n",
       "      <th>Flag</th>\n",
       "      <th>Overall</th>\n",
       "      <th>Potential</th>\n",
       "      <th>Club</th>\n",
       "      <th>Club Logo</th>\n",
       "      <th>...</th>\n",
       "      <th>RB</th>\n",
       "      <th>RCB</th>\n",
       "      <th>RCM</th>\n",
       "      <th>RDM</th>\n",
       "      <th>RF</th>\n",
       "      <th>RM</th>\n",
       "      <th>RS</th>\n",
       "      <th>RW</th>\n",
       "      <th>RWB</th>\n",
       "      <th>ST</th>\n",
       "    </tr>\n",
       "  </thead>\n",
       "  <tbody>\n",
       "    <tr>\n",
       "      <th>0</th>\n",
       "      <td>0</td>\n",
       "      <td>Cristiano Ronaldo</td>\n",
       "      <td>32</td>\n",
       "      <td>https://cdn.sofifa.org/48/18/players/20801.png</td>\n",
       "      <td>Portugal</td>\n",
       "      <td>https://cdn.sofifa.org/flags/38.png</td>\n",
       "      <td>94</td>\n",
       "      <td>94</td>\n",
       "      <td>Real Madrid CF</td>\n",
       "      <td>https://cdn.sofifa.org/24/18/teams/243.png</td>\n",
       "      <td>...</td>\n",
       "      <td>61.0</td>\n",
       "      <td>53.0</td>\n",
       "      <td>82.0</td>\n",
       "      <td>62.0</td>\n",
       "      <td>91.0</td>\n",
       "      <td>89.0</td>\n",
       "      <td>92.0</td>\n",
       "      <td>91.0</td>\n",
       "      <td>66.0</td>\n",
       "      <td>92.0</td>\n",
       "    </tr>\n",
       "    <tr>\n",
       "      <th>1</th>\n",
       "      <td>1</td>\n",
       "      <td>L. Messi</td>\n",
       "      <td>30</td>\n",
       "      <td>https://cdn.sofifa.org/48/18/players/158023.png</td>\n",
       "      <td>Argentina</td>\n",
       "      <td>https://cdn.sofifa.org/flags/52.png</td>\n",
       "      <td>93</td>\n",
       "      <td>93</td>\n",
       "      <td>FC Barcelona</td>\n",
       "      <td>https://cdn.sofifa.org/24/18/teams/241.png</td>\n",
       "      <td>...</td>\n",
       "      <td>57.0</td>\n",
       "      <td>45.0</td>\n",
       "      <td>84.0</td>\n",
       "      <td>59.0</td>\n",
       "      <td>92.0</td>\n",
       "      <td>90.0</td>\n",
       "      <td>88.0</td>\n",
       "      <td>91.0</td>\n",
       "      <td>62.0</td>\n",
       "      <td>88.0</td>\n",
       "    </tr>\n",
       "    <tr>\n",
       "      <th>2</th>\n",
       "      <td>2</td>\n",
       "      <td>Neymar</td>\n",
       "      <td>25</td>\n",
       "      <td>https://cdn.sofifa.org/48/18/players/190871.png</td>\n",
       "      <td>Brazil</td>\n",
       "      <td>https://cdn.sofifa.org/flags/54.png</td>\n",
       "      <td>92</td>\n",
       "      <td>94</td>\n",
       "      <td>Paris Saint-Germain</td>\n",
       "      <td>https://cdn.sofifa.org/24/18/teams/73.png</td>\n",
       "      <td>...</td>\n",
       "      <td>59.0</td>\n",
       "      <td>46.0</td>\n",
       "      <td>79.0</td>\n",
       "      <td>59.0</td>\n",
       "      <td>88.0</td>\n",
       "      <td>87.0</td>\n",
       "      <td>84.0</td>\n",
       "      <td>89.0</td>\n",
       "      <td>64.0</td>\n",
       "      <td>84.0</td>\n",
       "    </tr>\n",
       "    <tr>\n",
       "      <th>3</th>\n",
       "      <td>3</td>\n",
       "      <td>L. Suárez</td>\n",
       "      <td>30</td>\n",
       "      <td>https://cdn.sofifa.org/48/18/players/176580.png</td>\n",
       "      <td>Uruguay</td>\n",
       "      <td>https://cdn.sofifa.org/flags/60.png</td>\n",
       "      <td>92</td>\n",
       "      <td>92</td>\n",
       "      <td>FC Barcelona</td>\n",
       "      <td>https://cdn.sofifa.org/24/18/teams/241.png</td>\n",
       "      <td>...</td>\n",
       "      <td>64.0</td>\n",
       "      <td>58.0</td>\n",
       "      <td>80.0</td>\n",
       "      <td>65.0</td>\n",
       "      <td>88.0</td>\n",
       "      <td>85.0</td>\n",
       "      <td>88.0</td>\n",
       "      <td>87.0</td>\n",
       "      <td>68.0</td>\n",
       "      <td>88.0</td>\n",
       "    </tr>\n",
       "    <tr>\n",
       "      <th>4</th>\n",
       "      <td>4</td>\n",
       "      <td>M. Neuer</td>\n",
       "      <td>31</td>\n",
       "      <td>https://cdn.sofifa.org/48/18/players/167495.png</td>\n",
       "      <td>Germany</td>\n",
       "      <td>https://cdn.sofifa.org/flags/21.png</td>\n",
       "      <td>92</td>\n",
       "      <td>92</td>\n",
       "      <td>FC Bayern Munich</td>\n",
       "      <td>https://cdn.sofifa.org/24/18/teams/21.png</td>\n",
       "      <td>...</td>\n",
       "      <td>NaN</td>\n",
       "      <td>NaN</td>\n",
       "      <td>NaN</td>\n",
       "      <td>NaN</td>\n",
       "      <td>NaN</td>\n",
       "      <td>NaN</td>\n",
       "      <td>NaN</td>\n",
       "      <td>NaN</td>\n",
       "      <td>NaN</td>\n",
       "      <td>NaN</td>\n",
       "    </tr>\n",
       "  </tbody>\n",
       "</table>\n",
       "<p>5 rows × 75 columns</p>\n",
       "</div>"
      ],
      "text/plain": [
       "   Unnamed: 0               Name  Age  \\\n",
       "0           0  Cristiano Ronaldo   32   \n",
       "1           1           L. Messi   30   \n",
       "2           2             Neymar   25   \n",
       "3           3          L. Suárez   30   \n",
       "4           4           M. Neuer   31   \n",
       "\n",
       "                                             Photo Nationality  \\\n",
       "0   https://cdn.sofifa.org/48/18/players/20801.png    Portugal   \n",
       "1  https://cdn.sofifa.org/48/18/players/158023.png   Argentina   \n",
       "2  https://cdn.sofifa.org/48/18/players/190871.png      Brazil   \n",
       "3  https://cdn.sofifa.org/48/18/players/176580.png     Uruguay   \n",
       "4  https://cdn.sofifa.org/48/18/players/167495.png     Germany   \n",
       "\n",
       "                                  Flag  Overall  Potential  \\\n",
       "0  https://cdn.sofifa.org/flags/38.png       94         94   \n",
       "1  https://cdn.sofifa.org/flags/52.png       93         93   \n",
       "2  https://cdn.sofifa.org/flags/54.png       92         94   \n",
       "3  https://cdn.sofifa.org/flags/60.png       92         92   \n",
       "4  https://cdn.sofifa.org/flags/21.png       92         92   \n",
       "\n",
       "                  Club                                   Club Logo  ...    RB  \\\n",
       "0       Real Madrid CF  https://cdn.sofifa.org/24/18/teams/243.png  ...  61.0   \n",
       "1         FC Barcelona  https://cdn.sofifa.org/24/18/teams/241.png  ...  57.0   \n",
       "2  Paris Saint-Germain   https://cdn.sofifa.org/24/18/teams/73.png  ...  59.0   \n",
       "3         FC Barcelona  https://cdn.sofifa.org/24/18/teams/241.png  ...  64.0   \n",
       "4     FC Bayern Munich   https://cdn.sofifa.org/24/18/teams/21.png  ...   NaN   \n",
       "\n",
       "    RCB   RCM   RDM    RF    RM    RS    RW   RWB    ST  \n",
       "0  53.0  82.0  62.0  91.0  89.0  92.0  91.0  66.0  92.0  \n",
       "1  45.0  84.0  59.0  92.0  90.0  88.0  91.0  62.0  88.0  \n",
       "2  46.0  79.0  59.0  88.0  87.0  84.0  89.0  64.0  84.0  \n",
       "3  58.0  80.0  65.0  88.0  85.0  88.0  87.0  68.0  88.0  \n",
       "4   NaN   NaN   NaN   NaN   NaN   NaN   NaN   NaN   NaN  \n",
       "\n",
       "[5 rows x 75 columns]"
      ]
     },
     "execution_count": 3,
     "metadata": {},
     "output_type": "execute_result"
    }
   ],
   "source": [
    "dataset.head()"
   ]
  },
  {
   "cell_type": "code",
   "execution_count": 4,
   "metadata": {},
   "outputs": [],
   "source": [
    "interesting_columns = [\n",
    "    'Name', \n",
    "    'Age', \n",
    "    'Photo', \n",
    "    'Nationality', \n",
    "    'Overall', \n",
    "    'Potential', \n",
    "    'Club', \n",
    "    'Value', \n",
    "    'Wage', \n",
    "    'Preferred Positions'\n",
    "]\n",
    "dataset = pd.DataFrame(dataset, columns=interesting_columns)"
   ]
  },
  {
   "cell_type": "markdown",
   "metadata": {},
   "source": [
    "#### Let's summarize the Dataset"
   ]
  },
  {
   "cell_type": "code",
   "execution_count": 5,
   "metadata": {},
   "outputs": [
    {
     "data": {
      "text/html": [
       "<div>\n",
       "<style scoped>\n",
       "    .dataframe tbody tr th:only-of-type {\n",
       "        vertical-align: middle;\n",
       "    }\n",
       "\n",
       "    .dataframe tbody tr th {\n",
       "        vertical-align: top;\n",
       "    }\n",
       "\n",
       "    .dataframe thead th {\n",
       "        text-align: right;\n",
       "    }\n",
       "</style>\n",
       "<table border=\"1\" class=\"dataframe\">\n",
       "  <thead>\n",
       "    <tr style=\"text-align: right;\">\n",
       "      <th></th>\n",
       "      <th>Name</th>\n",
       "      <th>Age</th>\n",
       "      <th>Photo</th>\n",
       "      <th>Nationality</th>\n",
       "      <th>Overall</th>\n",
       "      <th>Potential</th>\n",
       "      <th>Club</th>\n",
       "      <th>Value</th>\n",
       "      <th>Wage</th>\n",
       "      <th>Preferred Positions</th>\n",
       "    </tr>\n",
       "  </thead>\n",
       "  <tbody>\n",
       "    <tr>\n",
       "      <th>0</th>\n",
       "      <td>Cristiano Ronaldo</td>\n",
       "      <td>32</td>\n",
       "      <td>https://cdn.sofifa.org/48/18/players/20801.png</td>\n",
       "      <td>Portugal</td>\n",
       "      <td>94</td>\n",
       "      <td>94</td>\n",
       "      <td>Real Madrid CF</td>\n",
       "      <td>€95.5M</td>\n",
       "      <td>€565K</td>\n",
       "      <td>ST LW</td>\n",
       "    </tr>\n",
       "    <tr>\n",
       "      <th>1</th>\n",
       "      <td>L. Messi</td>\n",
       "      <td>30</td>\n",
       "      <td>https://cdn.sofifa.org/48/18/players/158023.png</td>\n",
       "      <td>Argentina</td>\n",
       "      <td>93</td>\n",
       "      <td>93</td>\n",
       "      <td>FC Barcelona</td>\n",
       "      <td>€105M</td>\n",
       "      <td>€565K</td>\n",
       "      <td>RW</td>\n",
       "    </tr>\n",
       "    <tr>\n",
       "      <th>2</th>\n",
       "      <td>Neymar</td>\n",
       "      <td>25</td>\n",
       "      <td>https://cdn.sofifa.org/48/18/players/190871.png</td>\n",
       "      <td>Brazil</td>\n",
       "      <td>92</td>\n",
       "      <td>94</td>\n",
       "      <td>Paris Saint-Germain</td>\n",
       "      <td>€123M</td>\n",
       "      <td>€280K</td>\n",
       "      <td>LW</td>\n",
       "    </tr>\n",
       "  </tbody>\n",
       "</table>\n",
       "</div>"
      ],
      "text/plain": [
       "                Name  Age                                            Photo  \\\n",
       "0  Cristiano Ronaldo   32   https://cdn.sofifa.org/48/18/players/20801.png   \n",
       "1           L. Messi   30  https://cdn.sofifa.org/48/18/players/158023.png   \n",
       "2             Neymar   25  https://cdn.sofifa.org/48/18/players/190871.png   \n",
       "\n",
       "  Nationality  Overall  Potential                 Club   Value   Wage  \\\n",
       "0    Portugal       94         94       Real Madrid CF  €95.5M  €565K   \n",
       "1   Argentina       93         93         FC Barcelona   €105M  €565K   \n",
       "2      Brazil       92         94  Paris Saint-Germain   €123M  €280K   \n",
       "\n",
       "  Preferred Positions  \n",
       "0              ST LW   \n",
       "1                 RW   \n",
       "2                 LW   "
      ]
     },
     "execution_count": 5,
     "metadata": {},
     "output_type": "execute_result"
    }
   ],
   "source": [
    "dataset.head(3)"
   ]
  },
  {
   "cell_type": "code",
   "execution_count": 6,
   "metadata": {},
   "outputs": [
    {
     "name": "stdout",
     "output_type": "stream",
     "text": [
      "<class 'pandas.core.frame.DataFrame'>\n",
      "RangeIndex: 17981 entries, 0 to 17980\n",
      "Data columns (total 10 columns):\n",
      "Name                   17981 non-null object\n",
      "Age                    17981 non-null int64\n",
      "Photo                  17981 non-null object\n",
      "Nationality            17981 non-null object\n",
      "Overall                17981 non-null int64\n",
      "Potential              17981 non-null int64\n",
      "Club                   17733 non-null object\n",
      "Value                  17981 non-null object\n",
      "Wage                   17981 non-null object\n",
      "Preferred Positions    17981 non-null object\n",
      "dtypes: int64(3), object(7)\n",
      "memory usage: 1.4+ MB\n"
     ]
    }
   ],
   "source": [
    "dataset.info()"
   ]
  },
  {
   "cell_type": "markdown",
   "metadata": {},
   "source": [
    "### Data Preprocessing"
   ]
  },
  {
   "cell_type": "markdown",
   "metadata": {},
   "source": [
    "#### Numeric columns of Value and Wage¶"
   ]
  },
  {
   "cell_type": "code",
   "execution_count": 7,
   "metadata": {},
   "outputs": [],
   "source": [
    "#Supporting function for converting string values into numbers\n",
    "\n",
    "def str2number(amount):\n",
    "    if amount[-1]=='M':\n",
    "        return float(amount[1:-1])*1000000\n",
    "    elif amount[-1]=='K':\n",
    "        return float(amount[1:-1])*1000\n",
    "    else:\n",
    "        return float(amount[1:])\n",
    "\n",
    "#dataset['FamilySize'] = dataset['SibSp'] + dataset['Parch'] + 1\n",
    "dataset['ValueNum'] = dataset['Value'].apply(lambda x: str2number(x))\n",
    "dataset['WageNum'] = dataset['Wage'].apply(lambda x: str2number(x))"
   ]
  },
  {
   "cell_type": "markdown",
   "metadata": {},
   "source": [
    "#### Categorical columns of Value and Wage"
   ]
  },
  {
   "cell_type": "markdown",
   "metadata": {},
   "source": [
    "NOTE: We will also add two additional columns: 'ValueCategory' and 'WageCategory'. We will use those collumns to divide players into ten classes basing on their value and incom."
   ]
  },
  {
   "cell_type": "code",
   "execution_count": 8,
   "metadata": {},
   "outputs": [],
   "source": [
    "max_value = float(dataset['ValueNum'].max() + 1)\n",
    "max_wage = float(dataset['WageNum'].max() + 1)\n",
    "\n",
    "# Supporting function for creating category columns 'ValueCategory' and 'WageCategory'\n",
    "def mappingAmount(x, max_amount):\n",
    "    for i in range(0, 10):\n",
    "        if x >= max_amount/10*i and x < max_amount/10*(i+1):\n",
    "            return i\n",
    "        \n",
    "dataset['ValueCategory'] = dataset['ValueNum'].apply(lambda x: mappingAmount(x, max_value))\n",
    "dataset['WageCategory'] = dataset['WageNum'].apply(lambda x: mappingAmount(x, max_wage))"
   ]
  },
  {
   "cell_type": "markdown",
   "metadata": {},
   "source": [
    "NOTE: Next we add columns: 'OverMeanValue' and 'OverMeanWage'. They will contain two categories 0 and 1 and inform if player value/wage is highier then mean value."
   ]
  },
  {
   "cell_type": "code",
   "execution_count": 9,
   "metadata": {},
   "outputs": [],
   "source": [
    "mean_value = float(dataset[\"ValueNum\"].mean())\n",
    "mean_wage = float(dataset[\"WageNum\"].mean())\n",
    "\n",
    "# Supporting function for creating category columns 'OverMeanValue' and 'OverMeanWage'\n",
    "def overValue(x, limit):\n",
    "    if x > limit:\n",
    "        return 1\n",
    "    else:\n",
    "        return 0\n",
    "    \n",
    "dataset['OverMeanValue'] = dataset['ValueNum'].apply(lambda x: overValue(x, mean_value))\n",
    "dataset['OverMeanWage'] = dataset['WageNum'].apply(lambda x: overValue(x, mean_wage))"
   ]
  },
  {
   "cell_type": "markdown",
   "metadata": {},
   "source": [
    "#### Potential Points"
   ]
  },
  {
   "cell_type": "code",
   "execution_count": 10,
   "metadata": {},
   "outputs": [],
   "source": [
    "dataset['PotentialPoints']=dataset['Potential']-dataset['Overall']"
   ]
  },
  {
   "cell_type": "markdown",
   "metadata": {},
   "source": [
    "#### Preferred Position"
   ]
  },
  {
   "cell_type": "markdown",
   "metadata": {},
   "source": [
    "NOTE: We will add two more columns. To make things simpler we select first position from list as preferred and save it in 'Position' column. We will also count number of alternative positions and store it in column 'PositionNum'."
   ]
  },
  {
   "cell_type": "code",
   "execution_count": 11,
   "metadata": {},
   "outputs": [],
   "source": [
    "dataset['Position'] = dataset['Preferred Positions'].str.split().str[0]"
   ]
  },
  {
   "cell_type": "code",
   "execution_count": 12,
   "metadata": {},
   "outputs": [],
   "source": [
    "dataset['PositionNum'] = dataset['Preferred Positions'].apply(lambda x: len(x.split()))"
   ]
  },
  {
   "cell_type": "markdown",
   "metadata": {},
   "source": [
    "#### Continent"
   ]
  },
  {
   "cell_type": "code",
   "execution_count": 13,
   "metadata": {},
   "outputs": [],
   "source": [
    "# List of countries for each continent\n",
    "continents = {\n",
    "    'Africa' : ['Algeria','Angola','Benin','Botswana','Burkina','Burundi','Cameroon','Cape Verde','Central African Republic','Chad','Comoros','Congo','DR Congo','Djibouti','Egypt','Equatorial Guinea','Eritrea','Ethiopia','Gabon','Gambia','Ghana','Guinea','Guinea Bissau','Ivory Coast','Kenya','Lesotho','Liberia','Libya','Madagascar','Malawi','Mali','Mauritania','Mauritius','Morocco','Mozambique','Namibia','Niger','Nigeria','Rwanda','Sao Tome and Principe','Senegal','Seychelles','Sierra Leone','Somalia','South Africa','South Sudan','Sudan','Swaziland','Tanzania','Togo','Tunisia','Uganda','Zambia','Zimbabwe','Burkina Faso'],\n",
    "    'Antarctica' : ['Fiji','Kiribati','Marshall Islands','Micronesia','Nauru','New Zealand','Palau','Papua New Guinea','Samoa','Solomon Islands','Tonga','Tuvalu','Vanuatu'],\n",
    "    'Asia' : ['Afghanistan','Bahrain','Bangladesh','Bhutan','Brunei','Burma (Myanmar)','Cambodia','China','China PR','East Timor','India','Indonesia','Iran','Iraq','Israel','Japan','Jordan','Kazakhstan','North Korea','South Korea','Korea Republic','Korea DPR','Kuwait','Kyrgyzstan','Laos','Lebanon','Malaysia','Maldives','Mongolia','Nepal','Oman','Pakistan','Palestine','Philippines','Qatar','Russian Federation','Saudi Arabia','Singapore','Sri Lanka','Syria','Tajikistan','Thailand','Turkey','Turkmenistan','United Arab Emirates','Uzbekistan','Vietnam','Yemen','Russia'],\n",
    "    'Australia Oceania' : ['Australia','New Caledonia'],\n",
    "    'Europe' : ['Albania','Andorra','Armenia','Austria','Azerbaijan','Belarus','Belgium','Bosnia Herzegovina','Bulgaria','Croatia','Cyprus','Czech Republic','Denmark','Estonia','Finland','France','FYR Macedonia','Georgia','Germany','Greece','Hungary','Iceland','Ireland','Italy','Kosovo','Latvia','Liechtenstein','Lithuania','Luxembourg','Macedonia','Malta','Moldova','Monaco','Montenegro','Netherlands','Northern Ireland','Norway','Poland','Portugal','Romania','San Marino','Scotland','Serbia','Slovakia','Slovenia','Spain','Sweden','Switzerland','Ukraine','England','Vatican City','Republic of Ireland','Wales'],\n",
    "    'North America' : ['Antigua and Barbuda','Bahamas','Barbados','Belize','Canada','Costa Rica','Cuba','Dominica','Dominican Republic','El Salvador','Grenada','Guatemala','Haiti','Honduras','Jamaica','Mexico','Nicaragua','Panama','Saint Kitts and Nevis','Saint Lucia','Saint Vincent and the Grenadines','Trinidad and Tobago','United States'],\n",
    "    'South America' : ['Argentina','Bolivia','Brazil','Chile','Colombia','Curacao','Ecuador','Guyana','Paraguay','Peru','Suriname','Trinidad & Tobago','Uruguay','Venezuela']\n",
    "}\n",
    "\n",
    "# Function matching continent to countries\n",
    "def find_continent(x, continents_list):\n",
    "    # Iteration over \n",
    "    for key in continents_list:\n",
    "        if x in continents_list[key]:\n",
    "            return key\n",
    "    return np.NaN\n",
    "\n",
    "dataset['Continent'] = dataset['Nationality'].apply(lambda x: find_continent(x, continents))"
   ]
  },
  {
   "cell_type": "markdown",
   "metadata": {},
   "source": [
    "#### Data Visualization Age/Overall/Potential"
   ]
  },
  {
   "cell_type": "markdown",
   "metadata": {},
   "source": [
    "##### Grouping players by Nationality"
   ]
  },
  {
   "cell_type": "markdown",
   "metadata": {},
   "source": [
    "NOTE: This chapter is inspired by Zoomable Circle Packing via D3.js in IPython. Thank you.\n",
    "\n"
   ]
  },
  {
   "cell_type": "code",
   "execution_count": 14,
   "metadata": {},
   "outputs": [],
   "source": [
    "from IPython.core.display import display, HTML, Javascript\n",
    "from string import Template\n",
    "import json\n",
    "import IPython.display"
   ]
  },
  {
   "cell_type": "code",
   "execution_count": 17,
   "metadata": {},
   "outputs": [],
   "source": [
    "Africa = top_1000[top_1000[\"Continent\"]=='Africa']\n",
    "Antarctica = top_1000[top_1000[\"Continent\"]=='Antarctica']\n",
    "Asia = top_1000[top_1000[\"Continent\"]=='Asia']\n",
    "Australia_Oceania =  top_1000[top_1000[\"Continent\"]=='Australia_Oceania']\n",
    "Europe = top_1000[top_1000[\"Continent\"]=='Europe']\n",
    "North_america = top_1000[top_1000[\"Continent\"]=='North_america']\n",
    "South_america = top_1000[top_1000[\"Continent\"]=='South_america']\n",
    "\n",
    "data = {}\n",
    "data[\"name\"] = \"DISTRIBUTION OF TOP 1000 PLAERS DUE TO NATIONALITY\"\n",
    "data[\"children\"] = []\n",
    "# Split dataset into Continents:\n",
    "for continent in top_1000['Continent'].unique():\n",
    "    \n",
    "    continent_set = top_1000[top_1000[\"Continent\"]==continent]\n",
    "    continent_dict = {}\n",
    "    continent_dict[\"name\"] = continent\n",
    "    continent_dict[\"children\"] = []\n",
    "    \n",
    "    for country in continent_set['Nationality'].unique():\n",
    "        \n",
    "        countries_set = continent_set[continent_set['Nationality']==country][['Name', 'Overall']]\n",
    "        \n",
    "        country_dict = {}\n",
    "        country_dict[\"name\"] = country\n",
    "        country_dict[\"children\"] = []\n",
    "        \n",
    "        for player in countries_set.values:\n",
    "            \n",
    "            player_dict = {}\n",
    "            player_dict['name'] = player[0]\n",
    "            player_dict['size'] = player[1]\n",
    "            country_dict[\"children\"].append(player_dict)\n",
    "            \n",
    "        continent_dict['children'].append(country_dict)\n",
    "        \n",
    "    data[\"children\"].append(continent_dict)"
   ]
  },
  {
   "cell_type": "code",
   "execution_count": 18,
   "metadata": {},
   "outputs": [],
   "source": [
    "North_america_dict = {}\n",
    "North_america_dict['name'] = 'North_america'\n",
    "North_america_dict['children'] = []\n",
    "for country in North_america['Nationality'].unique():\n",
    "    list_of_countries = North_america[North_america['Nationality']==country][['Name', 'Overall']].rename(columns={'Name': 'name', 'Overall': 'size'})\n",
    "    tmp_dict = {}\n",
    "    tmp_dict[\"name\"] = country\n",
    "    tmp_dict[\"children\"] = []\n",
    "    for row in list_of_countries.values:\n",
    "        player_tmp = {}\n",
    "        player_tmp['name'] = row[0]\n",
    "        player_tmp['size'] = row[1]\n",
    "        tmp_dict[\"children\"].append(player_tmp)\n",
    "    North_america_dict['children'].append(tmp_dict)"
   ]
  },
  {
   "cell_type": "code",
   "execution_count": 19,
   "metadata": {},
   "outputs": [],
   "source": [
    "html_string = \"\"\"\n",
    "<!DOCTYPE html>\n",
    "<meta charset=\"utf-8\">\n",
    "<style>\n",
    "\n",
    ".node {\n",
    "  cursor: pointer;\n",
    "}\n",
    "\n",
    ".node:hover {\n",
    "  stroke: #000;\n",
    "  stroke-width: 1.5px;\n",
    "}\n",
    "\n",
    ".node--leaf {\n",
    "  fill: white;\n",
    "}\n",
    "\n",
    ".label {\n",
    "  font: 11px \"Helvetica Neue\", Helvetica, Arial, sans-serif;\n",
    "  text-anchor: middle;\n",
    "  text-shadow: 0 1px 0 #fff, 1px 0 0 #fff, -1px 0 0 #fff, 0 -1px 0 #fff;\n",
    "}\n",
    "\n",
    ".label,\n",
    ".node--root,\n",
    ".node--leaf {\n",
    "  pointer-events: none;\n",
    "}\n",
    "\n",
    "</style>\n",
    "<svg width=\"800\" height=\"800\"></svg>\n",
    "\"\"\"\n"
   ]
  },
  {
   "cell_type": "code",
   "execution_count": 20,
   "metadata": {},
   "outputs": [],
   "source": [
    "js_string=\"\"\"\n",
    " require.config({\n",
    "    paths: {\n",
    "        d3: \"https://d3js.org/d3.v4.min\"\n",
    "     }\n",
    " });\n",
    "\n",
    "  require([\"d3\"], function(d3) {\n",
    "\n",
    "   console.log(d3);\n",
    "\n",
    "var svg = d3.select(\"svg\"),\n",
    "    margin = 20,\n",
    "    diameter = +svg.attr(\"width\"),\n",
    "    g = svg.append(\"g\").attr(\"transform\", \"translate(\" + diameter / 2 + \",\" + diameter / 2 + \")\");\n",
    "\n",
    "var color = d3.scaleSequential(d3.interpolatePlasma)\n",
    "    .domain([-4, 4]);\n",
    "\n",
    "var pack = d3.pack()\n",
    "    .size([diameter - margin, diameter - margin])\n",
    "    .padding(2);\n",
    "\n",
    "d3.json(\"output.json\", function(error, root) {\n",
    "  if (error) throw error;\n",
    "\n",
    "  root = d3.hierarchy(root)\n",
    "      .sum(function(d) { return d.size; })\n",
    "      .sort(function(a, b) { return b.value - a.value; });\n",
    "\n",
    "  var focus = root,\n",
    "      nodes = pack(root).descendants(),\n",
    "      view;\n",
    "\n",
    "  var circle = g.selectAll(\"circle\")\n",
    "    .data(nodes)\n",
    "    .enter().append(\"circle\")\n",
    "      .attr(\"class\", function(d) { return d.parent ? d.children ? \"node\" : \"node node--leaf\" : \"node node--root\"; })\n",
    "      .style(\"fill\", function(d) { return d.children ? color(d.depth) : null; })\n",
    "      .on(\"click\", function(d) { if (focus !== d) zoom(d), d3.event.stopPropagation(); });\n",
    "\n",
    "  var text = g.selectAll(\"text\")\n",
    "    .data(nodes)\n",
    "    .enter().append(\"text\")\n",
    "      .attr(\"class\", \"label\")\n",
    "      .style(\"fill-opacity\", function(d) { return d.parent === root ? 1 : 0; })\n",
    "      .style(\"display\", function(d) { return d.parent === root ? \"inline\" : \"none\"; })\n",
    "      .text(function(d) { return d.data.name; });\n",
    "\n",
    "  var node = g.selectAll(\"circle,text\");\n",
    "\n",
    "  svg\n",
    "      .style(\"background\", color(-1))\n",
    "      .on(\"click\", function() { zoom(root); });\n",
    "\n",
    "  zoomTo([root.x, root.y, root.r * 2 + margin]);\n",
    "\n",
    "  function zoom(d) {\n",
    "    var focus0 = focus; focus = d;\n",
    "\n",
    "    var transition = d3.transition()\n",
    "        .duration(d3.event.altKey ? 7500 : 750)\n",
    "        .tween(\"zoom\", function(d) {\n",
    "          var i = d3.interpolateZoom(view, [focus.x, focus.y, focus.r * 2 + margin]);\n",
    "          return function(t) { zoomTo(i(t)); };\n",
    "        });\n",
    "\n",
    "    transition.selectAll(\"text\")\n",
    "      .filter(function(d) { return d.parent === focus || this.style.display === \"inline\"; })\n",
    "        .style(\"fill-opacity\", function(d) { return d.parent === focus ? 1 : 0; })\n",
    "        .on(\"start\", function(d) { if (d.parent === focus) this.style.display = \"inline\"; })\n",
    "        .on(\"end\", function(d) { if (d.parent !== focus) this.style.display = \"none\"; });\n",
    "  }\n",
    "\n",
    "  function zoomTo(v) {\n",
    "    var k = diameter / v[2]; view = v;\n",
    "    node.attr(\"transform\", function(d) { return \"translate(\" + (d.x - v[0]) * k + \",\" + (d.y - v[1]) * k + \")\"; });\n",
    "    circle.attr(\"r\", function(d) { return d.r * k; });\n",
    "  }\n",
    "});\n",
    "  });\n",
    " \"\"\"\n"
   ]
  },
  {
   "cell_type": "code",
   "execution_count": 21,
   "metadata": {},
   "outputs": [],
   "source": [
    "top_1000 = dataset.sort_values(\"Overall\", ascending=False).reset_index().head(1000)[[\"Name\", \"Nationality\", \"Continent\", \"Overall\", \"Club\"]]"
   ]
  },
  {
   "cell_type": "code",
   "execution_count": 22,
   "metadata": {},
   "outputs": [],
   "source": [
    "with open('output.json','w') as outfile:\n",
    "    json.dump(data,outfile)"
   ]
  },
  {
   "cell_type": "code",
   "execution_count": 23,
   "metadata": {},
   "outputs": [
    {
     "data": {
      "text/html": [
       "\n",
       "<!DOCTYPE html>\n",
       "<meta charset=\"utf-8\">\n",
       "<style>\n",
       "\n",
       ".node {\n",
       "  cursor: pointer;\n",
       "}\n",
       "\n",
       ".node:hover {\n",
       "  stroke: #000;\n",
       "  stroke-width: 1.5px;\n",
       "}\n",
       "\n",
       ".node--leaf {\n",
       "  fill: white;\n",
       "}\n",
       "\n",
       ".label {\n",
       "  font: 11px \"Helvetica Neue\", Helvetica, Arial, sans-serif;\n",
       "  text-anchor: middle;\n",
       "  text-shadow: 0 1px 0 #fff, 1px 0 0 #fff, -1px 0 0 #fff, 0 -1px 0 #fff;\n",
       "}\n",
       "\n",
       ".label,\n",
       ".node--root,\n",
       ".node--leaf {\n",
       "  pointer-events: none;\n",
       "}\n",
       "\n",
       "</style>\n",
       "<svg width=\"800\" height=\"800\"></svg>\n"
      ],
      "text/plain": [
       "<IPython.core.display.HTML object>"
      ]
     },
     "metadata": {},
     "output_type": "display_data"
    },
    {
     "data": {
      "application/javascript": [
       "\n",
       " require.config({\n",
       "    paths: {\n",
       "        d3: \"https://d3js.org/d3.v4.min\"\n",
       "     }\n",
       " });\n",
       "\n",
       "  require([\"d3\"], function(d3) {\n",
       "\n",
       "   console.log(d3);\n",
       "\n",
       "var svg = d3.select(\"svg\"),\n",
       "    margin = 20,\n",
       "    diameter = +svg.attr(\"width\"),\n",
       "    g = svg.append(\"g\").attr(\"transform\", \"translate(\" + diameter / 2 + \",\" + diameter / 2 + \")\");\n",
       "\n",
       "var color = d3.scaleSequential(d3.interpolatePlasma)\n",
       "    .domain([-4, 4]);\n",
       "\n",
       "var pack = d3.pack()\n",
       "    .size([diameter - margin, diameter - margin])\n",
       "    .padding(2);\n",
       "\n",
       "d3.json(\"output.json\", function(error, root) {\n",
       "  if (error) throw error;\n",
       "\n",
       "  root = d3.hierarchy(root)\n",
       "      .sum(function(d) { return d.size; })\n",
       "      .sort(function(a, b) { return b.value - a.value; });\n",
       "\n",
       "  var focus = root,\n",
       "      nodes = pack(root).descendants(),\n",
       "      view;\n",
       "\n",
       "  var circle = g.selectAll(\"circle\")\n",
       "    .data(nodes)\n",
       "    .enter().append(\"circle\")\n",
       "      .attr(\"class\", function(d) { return d.parent ? d.children ? \"node\" : \"node node--leaf\" : \"node node--root\"; })\n",
       "      .style(\"fill\", function(d) { return d.children ? color(d.depth) : null; })\n",
       "      .on(\"click\", function(d) { if (focus !== d) zoom(d), d3.event.stopPropagation(); });\n",
       "\n",
       "  var text = g.selectAll(\"text\")\n",
       "    .data(nodes)\n",
       "    .enter().append(\"text\")\n",
       "      .attr(\"class\", \"label\")\n",
       "      .style(\"fill-opacity\", function(d) { return d.parent === root ? 1 : 0; })\n",
       "      .style(\"display\", function(d) { return d.parent === root ? \"inline\" : \"none\"; })\n",
       "      .text(function(d) { return d.data.name; });\n",
       "\n",
       "  var node = g.selectAll(\"circle,text\");\n",
       "\n",
       "  svg\n",
       "      .style(\"background\", color(-1))\n",
       "      .on(\"click\", function() { zoom(root); });\n",
       "\n",
       "  zoomTo([root.x, root.y, root.r * 2 + margin]);\n",
       "\n",
       "  function zoom(d) {\n",
       "    var focus0 = focus; focus = d;\n",
       "\n",
       "    var transition = d3.transition()\n",
       "        .duration(d3.event.altKey ? 7500 : 750)\n",
       "        .tween(\"zoom\", function(d) {\n",
       "          var i = d3.interpolateZoom(view, [focus.x, focus.y, focus.r * 2 + margin]);\n",
       "          return function(t) { zoomTo(i(t)); };\n",
       "        });\n",
       "\n",
       "    transition.selectAll(\"text\")\n",
       "      .filter(function(d) { return d.parent === focus || this.style.display === \"inline\"; })\n",
       "        .style(\"fill-opacity\", function(d) { return d.parent === focus ? 1 : 0; })\n",
       "        .on(\"start\", function(d) { if (d.parent === focus) this.style.display = \"inline\"; })\n",
       "        .on(\"end\", function(d) { if (d.parent !== focus) this.style.display = \"none\"; });\n",
       "  }\n",
       "\n",
       "  function zoomTo(v) {\n",
       "    var k = diameter / v[2]; view = v;\n",
       "    node.attr(\"transform\", function(d) { return \"translate(\" + (d.x - v[0]) * k + \",\" + (d.y - v[1]) * k + \")\"; });\n",
       "    circle.attr(\"r\", function(d) { return d.r * k; });\n",
       "  }\n",
       "});\n",
       "  });\n",
       " "
      ]
     },
     "metadata": {},
     "output_type": "display_data"
    }
   ],
   "source": [
    "h = display(HTML(html_string))\n",
    "j = IPython.display.Javascript(js_string)\n",
    "IPython.display.display_javascript(j)"
   ]
  },
  {
   "cell_type": "code",
   "execution_count": 24,
   "metadata": {},
   "outputs": [],
   "source": [
    "players_value = dataset.sort_values(\"ValueNum\", ascending=False).head(20).reset_index()[[\"Name\", \"Overall\", \"PotentialPoints\", \"ValueNum\", \"Age\"]]"
   ]
  },
  {
   "cell_type": "code",
   "execution_count": 25,
   "metadata": {},
   "outputs": [
    {
     "data": {
      "application/vnd.plotly.v1+json": {
       "config": {
        "linkText": "Export to plot.ly",
        "plotlyServerURL": "https://plot.ly",
        "showLink": false
       },
       "data": [
        {
         "marker": {
          "color": "rgba(55, 128, 191, 0.7)",
          "line": {
           "color": "rgba(55, 128, 191, 1.0)",
           "width": 2
          }
         },
         "name": "Overall",
         "type": "bar",
         "uid": "1ec09684-9227-4303-ac8c-6ac4f5e933ef",
         "x": [
          "Neymar",
          "L. Messi",
          "L. Suárez",
          "Cristiano Ronaldo",
          "R. Lewandowski",
          "E. Hazard",
          "K. De Bruyne",
          "T. Kroos",
          "P. Dybala",
          "G. Higuaín",
          "A. Griezmann",
          "Thiago",
          "G. Bale",
          "A. Sánchez",
          "S. Agüero",
          "P. Pogba",
          "C. Eriksen",
          "De Gea",
          "M. Verratti",
          "M. Neuer"
         ],
         "y": [
          92,
          93,
          92,
          94,
          91,
          90,
          89,
          90,
          88,
          90,
          88,
          88,
          89,
          89,
          89,
          87,
          87,
          90,
          87,
          92
         ]
        },
        {
         "marker": {
          "color": "rgba(219, 64, 82, 0.7)",
          "line": {
           "color": "rgba(219, 64, 82, 1.0)",
           "width": 2
          }
         },
         "name": "Potential",
         "type": "bar",
         "uid": "02dcda5e-48fa-4694-b6d0-994e7d4d79e7",
         "x": [
          "Neymar",
          "L. Messi",
          "L. Suárez",
          "Cristiano Ronaldo",
          "R. Lewandowski",
          "E. Hazard",
          "K. De Bruyne",
          "T. Kroos",
          "P. Dybala",
          "G. Higuaín",
          "A. Griezmann",
          "Thiago",
          "G. Bale",
          "A. Sánchez",
          "S. Agüero",
          "P. Pogba",
          "C. Eriksen",
          "De Gea",
          "M. Verratti",
          "M. Neuer"
         ],
         "y": [
          2,
          0,
          0,
          0,
          0,
          1,
          3,
          0,
          5,
          0,
          3,
          2,
          0,
          0,
          0,
          5,
          4,
          2,
          4,
          0
         ]
        },
        {
         "mode": "lines+markers",
         "name": "Value [M€]",
         "type": "scatter",
         "uid": "8306c172-b162-495d-b824-a06aeb7123a7",
         "x": [
          "Neymar",
          "L. Messi",
          "L. Suárez",
          "Cristiano Ronaldo",
          "R. Lewandowski",
          "E. Hazard",
          "K. De Bruyne",
          "T. Kroos",
          "P. Dybala",
          "G. Higuaín",
          "A. Griezmann",
          "Thiago",
          "G. Bale",
          "A. Sánchez",
          "S. Agüero",
          "P. Pogba",
          "C. Eriksen",
          "De Gea",
          "M. Verratti",
          "M. Neuer"
         ],
         "y": [
          123,
          105,
          97,
          95.5,
          92,
          90.5,
          83,
          79,
          79,
          77,
          75,
          70.5,
          69.5,
          67.5,
          66.5,
          66.5,
          65,
          64.5,
          64.5,
          61
         ],
         "yaxis": "y2"
        }
       ],
       "layout": {
        "barmode": "stack",
        "height": 500,
        "legend": {
         "x": 0.05,
         "y": 0.05
        },
        "paper_bgcolor": "rgb(244, 238, 225)",
        "plot_bgcolor": "rgb(244, 238, 225)",
        "title": {
         "font": {
          "size": 25
         },
         "text": "Is it really worth it?"
        },
        "width": 850,
        "xaxis": {
         "title": {
          "text": "Player Names"
         }
        },
        "yaxis": {
         "anchor": "x",
         "rangemode": "tozero",
         "title": {
          "text": "Overall/Potential"
         }
        },
        "yaxis2": {
         "anchor": "x",
         "dtick": 20,
         "overlaying": "y",
         "rangemode": "tozero",
         "side": "right",
         "tickfont": {
          "color": "rgb(148, 103, 189)"
         },
         "title": {
          "font": {
           "color": "rgb(148, 103, 189)"
          },
          "text": "Value [M€]"
         }
        }
       }
      },
      "text/html": [
       "<div>\n",
       "        \n",
       "        \n",
       "            <div id=\"9fc2ab0c-90d6-4832-9325-d4983781e23f\" class=\"plotly-graph-div\" style=\"height:500px; width:850px;\"></div>\n",
       "            <script type=\"text/javascript\">\n",
       "                require([\"plotly\"], function(Plotly) {\n",
       "                    window.PLOTLYENV=window.PLOTLYENV || {};\n",
       "                    window.PLOTLYENV.BASE_URL='https://plot.ly';\n",
       "                    \n",
       "                if (document.getElementById(\"9fc2ab0c-90d6-4832-9325-d4983781e23f\")) {\n",
       "                    Plotly.newPlot(\n",
       "                        '9fc2ab0c-90d6-4832-9325-d4983781e23f',\n",
       "                        [{\"marker\": {\"color\": \"rgba(55, 128, 191, 0.7)\", \"line\": {\"color\": \"rgba(55, 128, 191, 1.0)\", \"width\": 2}}, \"name\": \"Overall\", \"type\": \"bar\", \"uid\": \"1ec09684-9227-4303-ac8c-6ac4f5e933ef\", \"x\": [\"Neymar\", \"L. Messi\", \"L. Su\\u00e1rez\", \"Cristiano Ronaldo\", \"R. Lewandowski\", \"E. Hazard\", \"K. De Bruyne\", \"T. Kroos\", \"P. Dybala\", \"G. Higua\\u00edn\", \"A. Griezmann\", \"Thiago\", \"G. Bale\", \"A. S\\u00e1nchez\", \"S. Ag\\u00fcero\", \"P. Pogba\", \"C. Eriksen\", \"De Gea\", \"M. Verratti\", \"M. Neuer\"], \"y\": [92, 93, 92, 94, 91, 90, 89, 90, 88, 90, 88, 88, 89, 89, 89, 87, 87, 90, 87, 92]}, {\"marker\": {\"color\": \"rgba(219, 64, 82, 0.7)\", \"line\": {\"color\": \"rgba(219, 64, 82, 1.0)\", \"width\": 2}}, \"name\": \"Potential\", \"type\": \"bar\", \"uid\": \"02dcda5e-48fa-4694-b6d0-994e7d4d79e7\", \"x\": [\"Neymar\", \"L. Messi\", \"L. Su\\u00e1rez\", \"Cristiano Ronaldo\", \"R. Lewandowski\", \"E. Hazard\", \"K. De Bruyne\", \"T. Kroos\", \"P. Dybala\", \"G. Higua\\u00edn\", \"A. Griezmann\", \"Thiago\", \"G. Bale\", \"A. S\\u00e1nchez\", \"S. Ag\\u00fcero\", \"P. Pogba\", \"C. Eriksen\", \"De Gea\", \"M. Verratti\", \"M. Neuer\"], \"y\": [2, 0, 0, 0, 0, 1, 3, 0, 5, 0, 3, 2, 0, 0, 0, 5, 4, 2, 4, 0]}, {\"mode\": \"lines+markers\", \"name\": \"Value [M\\u20ac]\", \"type\": \"scatter\", \"uid\": \"8306c172-b162-495d-b824-a06aeb7123a7\", \"x\": [\"Neymar\", \"L. Messi\", \"L. Su\\u00e1rez\", \"Cristiano Ronaldo\", \"R. Lewandowski\", \"E. Hazard\", \"K. De Bruyne\", \"T. Kroos\", \"P. Dybala\", \"G. Higua\\u00edn\", \"A. Griezmann\", \"Thiago\", \"G. Bale\", \"A. S\\u00e1nchez\", \"S. Ag\\u00fcero\", \"P. Pogba\", \"C. Eriksen\", \"De Gea\", \"M. Verratti\", \"M. Neuer\"], \"y\": [123.0, 105.0, 97.0, 95.5, 92.0, 90.5, 83.0, 79.0, 79.0, 77.0, 75.0, 70.5, 69.5, 67.5, 66.5, 66.5, 65.0, 64.5, 64.5, 61.0], \"yaxis\": \"y2\"}],\n",
       "                        {\"barmode\": \"stack\", \"height\": 500, \"legend\": {\"x\": 0.05, \"y\": 0.05}, \"paper_bgcolor\": \"rgb(244, 238, 225)\", \"plot_bgcolor\": \"rgb(244, 238, 225)\", \"title\": {\"font\": {\"size\": 25}, \"text\": \"Is it really worth it?\"}, \"width\": 850, \"xaxis\": {\"title\": {\"text\": \"Player Names\"}}, \"yaxis\": {\"anchor\": \"x\", \"rangemode\": \"tozero\", \"title\": {\"text\": \"Overall/Potential\"}}, \"yaxis2\": {\"anchor\": \"x\", \"dtick\": 20, \"overlaying\": \"y\", \"rangemode\": \"tozero\", \"side\": \"right\", \"tickfont\": {\"color\": \"rgb(148, 103, 189)\"}, \"title\": {\"font\": {\"color\": \"rgb(148, 103, 189)\"}, \"text\": \"Value [M\\u20ac]\"}}},\n",
       "                        {\"showLink\": false, \"linkText\": \"Export to plot.ly\", \"plotlyServerURL\": \"https://plot.ly\", \"responsive\": true}\n",
       "                    ).then(function(){\n",
       "                            \n",
       "var gd = document.getElementById('9fc2ab0c-90d6-4832-9325-d4983781e23f');\n",
       "var x = new MutationObserver(function (mutations, observer) {{\n",
       "        var display = window.getComputedStyle(gd).display;\n",
       "        if (!display || display === 'none') {{\n",
       "            console.log([gd, 'removed!']);\n",
       "            Plotly.purge(gd);\n",
       "            observer.disconnect();\n",
       "        }}\n",
       "}});\n",
       "\n",
       "// Listen for the removal of the full notebook cells\n",
       "var notebookContainer = gd.closest('#notebook-container');\n",
       "if (notebookContainer) {{\n",
       "    x.observe(notebookContainer, {childList: true});\n",
       "}}\n",
       "\n",
       "// Listen for the clearing of the current output cell\n",
       "var outputEl = gd.closest('.output');\n",
       "if (outputEl) {{\n",
       "    x.observe(outputEl, {childList: true});\n",
       "}}\n",
       "\n",
       "                        })\n",
       "                };\n",
       "                });\n",
       "            </script>\n",
       "        </div>"
      ]
     },
     "metadata": {},
     "output_type": "display_data"
    }
   ],
   "source": [
    "trace1 = go.Bar(\n",
    "    x = players_value[\"Name\"].tolist(),\n",
    "    y = players_value[\"Overall\"].tolist(),\n",
    "    name='Overall',\n",
    "    marker=dict(\n",
    "        color='rgba(55, 128, 191, 0.7)',\n",
    "        line=dict(\n",
    "            color='rgba(55, 128, 191, 1.0)',\n",
    "            width=2,\n",
    "        )\n",
    "    )\n",
    ")\n",
    "\n",
    "trace2 = go.Bar(\n",
    "    x = players_value[\"Name\"].tolist(),\n",
    "    y = players_value[\"PotentialPoints\"].tolist(),\n",
    "    name='Potential',\n",
    "    marker=dict(\n",
    "        color='rgba(219, 64, 82, 0.7)',\n",
    "        line=dict(\n",
    "            color='rgba(219, 64, 82, 1.0)',\n",
    "            width=2,\n",
    "        )\n",
    "    )\n",
    ")\n",
    "\n",
    "trace3 = go.Scatter(\n",
    "    x = players_value[\"Name\"].tolist(),\n",
    "    y = (players_value[\"ValueNum\"] / 1000000).tolist(),\n",
    "    name='Value [M€]',\n",
    "    mode = 'lines+markers',\n",
    "    yaxis='y2'\n",
    ")\n",
    "\n",
    "data = [trace1, trace2,trace3]\n",
    "\n",
    "layout = go.Layout(\n",
    "    barmode='stack',\n",
    "    title = 'Is it really worth it?',\n",
    "    titlefont=dict(size=25),\n",
    "    width=850,\n",
    "    height=500,\n",
    "    paper_bgcolor='rgb(244, 238, 225)',\n",
    "    plot_bgcolor='rgb(244, 238, 225)',\n",
    "    yaxis = dict(\n",
    "        title= 'Overall/Potential',\n",
    "        anchor = 'x',\n",
    "        rangemode='tozero'\n",
    "    ),\n",
    "    xaxis = dict(title= 'Player Names'),\n",
    "    yaxis2=dict(\n",
    "        title='Value [M€]',\n",
    "        titlefont=dict(\n",
    "            color='rgb(148, 103, 189)'\n",
    "        ),\n",
    "        tickfont=dict(\n",
    "            color='rgb(148, 103, 189)'\n",
    "        ),\n",
    "        overlaying='y',\n",
    "        side='right',\n",
    "        anchor = 'x',\n",
    "        rangemode = 'tozero',\n",
    "        dtick = 20\n",
    "    ),\n",
    "    legend=dict(x=0.05, y=0.05)\n",
    ")\n",
    "\n",
    "fig = go.Figure(data=data, layout=layout)\n",
    "py.iplot(fig)\n"
   ]
  },
  {
   "cell_type": "markdown",
   "metadata": {},
   "source": [
    "#### Grouping players by Age"
   ]
  },
  {
   "cell_type": "code",
   "execution_count": 26,
   "metadata": {},
   "outputs": [
    {
     "data": {
      "image/png": "[encoded data removed]",
      "text/plain": [
       "<Figure size 1152x576 with 1 Axes>"
      ]
     },
     "metadata": {
      "needs_background": "light"
     },
     "output_type": "display_data"
    }
   ],
   "source": [
    "plt.figure(figsize=(16,8))\n",
    "sns.set_style(\"whitegrid\")\n",
    "plt.title('Grouping players by Age', fontsize=20, fontweight='bold', y=1.05,)\n",
    "plt.xlabel('Number of players', fontsize=15)\n",
    "plt.ylabel('Players Age', fontsize=15)\n",
    "sns.countplot(x=\"Age\", data=dataset, palette=\"hls\");\n",
    "plt.show()"
   ]
  },
  {
   "cell_type": "markdown",
   "metadata": {},
   "source": [
    "#### Grouping Players by Overall "
   ]
  },
  {
   "cell_type": "code",
   "execution_count": 27,
   "metadata": {},
   "outputs": [
    {
     "data": {
      "image/png": "[encoded data removed]",
      "text/plain": [
       "<Figure size 1152x576 with 1 Axes>"
      ]
     },
     "metadata": {},
     "output_type": "display_data"
    }
   ],
   "source": [
    "plt.figure(figsize=(16,8))\n",
    "sns.set_style(\"whitegrid\")\n",
    "plt.title('Grouping players by Overall', fontsize=20, fontweight='bold', y=1.05,)\n",
    "plt.xlabel('Number of players', fontsize=15)\n",
    "plt.ylabel('Players Age', fontsize=15)\n",
    "sns.countplot(x=\"Overall\", data=dataset, palette=\"hls\");\n",
    "plt.show()"
   ]
  },
  {
   "cell_type": "code",
   "execution_count": 28,
   "metadata": {},
   "outputs": [
    {
     "data": {
      "text/plain": [
       "<Figure size 432x288 with 0 Axes>"
      ]
     },
     "metadata": {},
     "output_type": "display_data"
    },
    {
     "data": {
      "image/png": "[encoded data removed]",
      "text/plain": [
       "<Figure size 1152x576 with 1 Axes>"
      ]
     },
     "metadata": {},
     "output_type": "display_data"
    }
   ],
   "source": [
    "# Selecting players with age smaller then 40 \n",
    "dataset40 = dataset.loc[dataset['Age'] <= 40]\n",
    "# Selecting unique Age from DataFrame\n",
    "age = dataset40.sort_values(\"Age\")['Age'].unique()\n",
    "# Selecting mean Overall from DataFrame\n",
    "overall = dataset40.groupby(\"Age\")[\"Overall\"].mean().values\n",
    "# Selecting mean Overall from DataFrame\n",
    "potential = dataset40.groupby(\"Age\")[\"Potential\"].mean().values\n",
    "plt.figure()\n",
    "plt.figure(figsize=(16,8))\n",
    "plt.title('Age vs Mean Overall/Potential Rating', fontsize=20, fontweight='bold')\n",
    "plt.xlabel('Player Age', fontsize=15)\n",
    "plt.ylabel('Player Overall', fontsize=15)\n",
    "sns.set_style(\"whitegrid\")\n",
    "plt.plot(age, overall, label=\"Overall\")\n",
    "plt.plot(age, potential, label=\"Potential\")\n",
    "plt.legend(loc=4, prop={'size': 15}, frameon=True,shadow=True, facecolor=\"white\", edgecolor=\"black\")\n",
    "plt.show()"
   ]
  },
  {
   "cell_type": "markdown",
   "metadata": {},
   "source": [
    "Age vs Potential Points"
   ]
  },
  {
   "cell_type": "code",
   "execution_count": 29,
   "metadata": {},
   "outputs": [],
   "source": [
    "# Selecting mean PotentialPoints from DataFrame\n",
    "potential_points = dataset40.groupby(\"Age\")[\"PotentialPoints\"].mean().values"
   ]
  },
  {
   "cell_type": "code",
   "execution_count": 30,
   "metadata": {},
   "outputs": [
    {
     "data": {
      "text/plain": [
       "<Figure size 432x288 with 0 Axes>"
      ]
     },
     "metadata": {},
     "output_type": "display_data"
    },
    {
     "data": {
      "image/png": "[encoded data removed]",
      "text/plain": [
       "<Figure size 1152x576 with 1 Axes>"
      ]
     },
     "metadata": {},
     "output_type": "display_data"
    }
   ],
   "source": [
    "plt.figure()\n",
    "plt.figure(figsize=(16,8))\n",
    "plt.title('Age vs Potential points', fontsize=20, fontweight='bold')\n",
    "plt.xlabel('Player Age', fontsize=15)\n",
    "plt.ylabel('Player Potential points', fontsize=15)\n",
    "sns.set_style(\"whitegrid\")\n",
    "plt.plot(age, potential_points, label=\"Points of potential\")\n",
    "plt.legend(loc=4, prop={'size': 15}, frameon=True,shadow=True, facecolor=\"white\", edgecolor=\"black\")\n",
    "plt.show()"
   ]
  },
  {
   "cell_type": "markdown",
   "metadata": {},
   "source": [
    "#### Grouping Players by Preffered Position"
   ]
  },
  {
   "cell_type": "code",
   "execution_count": 31,
   "metadata": {},
   "outputs": [
    {
     "data": {
      "image/png": "[encoded data removed]",
      "text/plain": [
       "<Figure size 1152x576 with 1 Axes>"
      ]
     },
     "metadata": {},
     "output_type": "display_data"
    }
   ],
   "source": [
    "plt.figure(figsize=(16,8))\n",
    "sns.set_style(\"whitegrid\")\n",
    "plt.title('Grouping players by Preffered Position', fontsize=20, fontweight='bold', y=1.05,)\n",
    "plt.xlabel('Number of players', fontsize=15)\n",
    "plt.ylabel('Players Age', fontsize=15)\n",
    "sns.countplot(x=\"Position\", data=dataset, palette=\"hls\");\n",
    "plt.show()"
   ]
  },
  {
   "cell_type": "markdown",
   "metadata": {},
   "source": [
    "### Data Visualization Value/Wage"
   ]
  },
  {
   "cell_type": "markdown",
   "metadata": {},
   "source": [
    "#### Ten players with highest value"
   ]
  },
  {
   "cell_type": "code",
   "execution_count": 32,
   "metadata": {},
   "outputs": [],
   "source": [
    "sorted_players = dataset.sort_values([\"ValueNum\"], ascending=False).head(10)\n",
    "players = sorted_players[[\"Photo\" ,\"Name\" ,\"Age\" ,\"Nationality\" ,\"Club\", \"Value\"]].values"
   ]
  },
  {
   "cell_type": "markdown",
   "metadata": {},
   "source": [
    "#### Ten players with higest wage"
   ]
  },
  {
   "cell_type": "code",
   "execution_count": 33,
   "metadata": {},
   "outputs": [],
   "source": [
    "sorted_players = dataset.sort_values([\"WageNum\"], ascending=False).head(10)\n",
    "players = sorted_players[[\"Photo\" ,\"Name\" ,\"Age\" ,\"Nationality\" ,\"Club\", \"Wage\"]].values"
   ]
  },
  {
   "cell_type": "code",
   "execution_count": 34,
   "metadata": {},
   "outputs": [
    {
     "data": {
      "text/html": [
       "<table><tr><th>Photo</th><th>Name</th><th>Age</th><th>Nationality</th><th>Club</th><th>Wage</th></tr><tr><td><img src=\"https://cdn.sofifa.org/48/18/players/20801.png\"style=\"width:50px;height:50px;\"></td><td>Cristiano Ronaldo</td><td>32</td><td>Portugal</td><td>Real Madrid CF</td><td>€565K</td></tr><tr><td><img src=\"https://cdn.sofifa.org/48/18/players/158023.png\"style=\"width:50px;height:50px;\"></td><td>L. Messi</td><td>30</td><td>Argentina</td><td>FC Barcelona</td><td>€565K</td></tr><tr><td><img src=\"https://cdn.sofifa.org/48/18/players/176580.png\"style=\"width:50px;height:50px;\"></td><td>L. Suárez</td><td>30</td><td>Uruguay</td><td>FC Barcelona</td><td>€510K</td></tr><tr><td><img src=\"https://cdn.sofifa.org/48/18/players/173731.png\"style=\"width:50px;height:50px;\"></td><td>G. Bale</td><td>27</td><td>Wales</td><td>Real Madrid CF</td><td>€370K</td></tr><tr><td><img src=\"https://cdn.sofifa.org/48/18/players/188545.png\"style=\"width:50px;height:50px;\"></td><td>R. Lewandowski</td><td>28</td><td>Poland</td><td>FC Bayern Munich</td><td>€355K</td></tr><tr><td><img src=\"https://cdn.sofifa.org/48/18/players/177003.png\"style=\"width:50px;height:50px;\"></td><td>L. Modrić</td><td>31</td><td>Croatia</td><td>Real Madrid CF</td><td>€340K</td></tr><tr><td><img src=\"https://cdn.sofifa.org/48/18/players/182521.png\"style=\"width:50px;height:50px;\"></td><td>T. Kroos</td><td>27</td><td>Germany</td><td>Real Madrid CF</td><td>€340K</td></tr><tr><td><img src=\"https://cdn.sofifa.org/48/18/players/153079.png\"style=\"width:50px;height:50px;\"></td><td>S. Agüero</td><td>29</td><td>Argentina</td><td>Manchester City</td><td>€325K</td></tr><tr><td><img src=\"https://cdn.sofifa.org/48/18/players/155862.png\"style=\"width:50px;height:50px;\"></td><td>Sergio Ramos</td><td>31</td><td>Spain</td><td>Real Madrid CF</td><td>€310K</td></tr><tr><td><img src=\"https://cdn.sofifa.org/48/18/players/183277.png\"style=\"width:50px;height:50px;\"></td><td>E. Hazard</td><td>26</td><td>Belgium</td><td>Chelsea</td><td>€295K</td></tr></table>"
      ],
      "text/plain": [
       "<IPython.core.display.HTML object>"
      ]
     },
     "metadata": {},
     "output_type": "display_data"
    }
   ],
   "source": [
    "from IPython.display import HTML, display\n",
    "\n",
    "table_content = ''\n",
    "for row in players:\n",
    "    HTML_row = '<tr>'\n",
    "    HTML_row += '<td><img src=\"' + str(row[0]) + '\"style=\"width:50px;height:50px;\"></td>'\n",
    "    HTML_row += '<td>' + str(row[1]) + '</td>'\n",
    "    HTML_row += '<td>' + str(row[2]) + '</td>'\n",
    "    HTML_row += '<td>' + str(row[3]) + '</td>'\n",
    "    HTML_row += '<td>' + str(row[4]) + '</td>'\n",
    "    HTML_row += '<td>' + str(row[5]) + '</td>'\n",
    "    \n",
    "    table_content += HTML_row + '</tr>'\n",
    "\n",
    "display(HTML(\n",
    "    '<table><tr><th>Photo</th><th>Name</th><th>Age</th><th>Nationality</th><th>Club</th><th>Wage</th></tr>{}</table>'.format(table_content))\n",
    ")"
   ]
  },
  {
   "cell_type": "markdown",
   "metadata": {},
   "source": [
    "#### Player value Distribution"
   ]
  },
  {
   "cell_type": "code",
   "execution_count": 35,
   "metadata": {},
   "outputs": [],
   "source": [
    "value_distribution = dataset.sort_values(\"WageNum\", ascending=False).reset_index().head(100)[[\"Name\", \"WageNum\"]]\n",
    "value_distribution_values = value_distribution[\"WageNum\"].apply(lambda x: x/1000)"
   ]
  },
  {
   "cell_type": "code",
   "execution_count": 36,
   "metadata": {},
   "outputs": [
    {
     "data": {
      "text/plain": [
       "<Figure size 432x288 with 0 Axes>"
      ]
     },
     "metadata": {},
     "output_type": "display_data"
    },
    {
     "data": {
      "image/png": "[encoded data removed]",
      "text/plain": [
       "<Figure size 1152x576 with 1 Axes>"
      ]
     },
     "metadata": {},
     "output_type": "display_data"
    }
   ],
   "source": [
    "plt.figure()\n",
    "plt.figure(figsize=(16,8))\n",
    "plt.title('Top 100 Players Wage Distribution', fontsize=20, fontweight='bold')\n",
    "plt.ylabel('Player Wage [K€]', fontsize=15)\n",
    "sns.set_style(\"whitegrid\")\n",
    "plt.plot(value_distribution_values)\n",
    "plt.show()"
   ]
  },
  {
   "cell_type": "code",
   "execution_count": null,
   "metadata": {},
   "outputs": [],
   "source": []
  }
 ],
 "metadata": {
  "kernelspec": {
   "display_name": "Python 3",
   "language": "python",
   "name": "python3"
  },
  "language_info": {
   "codemirror_mode": {
    "name": "ipython",
    "version": 3
   },
   "file_extension": ".py",
   "mimetype": "text/x-python",
   "name": "python",
   "nbconvert_exporter": "python",
   "pygments_lexer": "ipython3",
   "version": "3.7.3"
  }
 },
 "nbformat": 4,
 "nbformat_minor": 2
}
